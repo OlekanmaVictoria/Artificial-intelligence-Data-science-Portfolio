{
  "cells": [
    {
      "cell_type": "markdown",
      "id": "6cab60e3",
      "metadata": {
        "id": "6cab60e3"
      },
      "source": [
        "Data source: https://www.kaggle.com/c/tmdb-box-office-prediction/data"
      ]
    },
    {
      "cell_type": "markdown",
      "id": "e8a51b4f",
      "metadata": {
        "id": "e8a51b4f"
      },
      "source": [
        "# Problem statement"
      ]
    },
    {
      "cell_type": "markdown",
      "id": "73a2c879",
      "metadata": {
        "id": "73a2c879"
      },
      "source": [
        "In a world… where movies made an estimated $41.7 billion in 2018, the film industry is more popular than ever. But what movies make the most money at the box office? How much does a director matter? Or the budget? For some movies, it's \"You had me at 'Hello.'\" For others, the trailer falls short of expectations and you think \"What we have here is a failure to communicate.\"\n",
        "\n",
        "We are presented with metadata on over 7,000 past films from The Movie Database to try and predict their overall worldwide box office revenue. Data points provided include cast, crew, plot keywords, budget, posters, release dates, languages, production companies, and countries."
      ]
    },
    {
      "cell_type": "markdown",
      "id": "defc53c7",
      "metadata": {
        "id": "defc53c7"
      },
      "source": [
        "# Data description"
      ]
    },
    {
      "cell_type": "markdown",
      "id": "23492ff2",
      "metadata": {
        "id": "23492ff2"
      },
      "source": [
        "In this dataset, we are provided with 7398 movies and a variety of metadata obtained from The Movie Database (TMDB). Movies are labeled with id. Data points include cast, crew, plot keywords, budget, posters, release dates, languages, production companies, and countries.\n",
        "\n",
        "We are predicting the worldwide revenue for 3000 movies in the test file.\n",
        "\n",
        "Note - many movies are remade over the years, therefore it may seem like multiple instance of a movie may appear in the data, however they are different and should be considered separate movies. In addition, some movies may share a title, but be entirely unrelated.\n",
        "\n",
        "E.g. The Karate Kid (id: 5266) was released in 1986, while a clearly (or maybe just subjectively) inferior remake (id: 1987) was released in 2010. Also, while the Frozen (id: 5295) released by Disney in 2013 may be the household name, don't forget about the less-popular Frozen (id: 139) released three years earlier about skiers who are stranded on a chairlift..."
      ]
    },
    {
      "cell_type": "markdown",
      "id": "4249de3d",
      "metadata": {
        "id": "4249de3d"
      },
      "source": [
        "## Loading the dataset "
      ]
    },
    {
      "cell_type": "code",
      "execution_count": null,
      "id": "2d0594eb",
      "metadata": {
        "id": "2d0594eb"
      },
      "outputs": [],
      "source": [
        "import numpy as np\n",
        "import pandas as pd\n",
        "import seaborn as sns\n",
        "import plotly.express as px\n",
        "import matplotlib.pyplot as plt\n",
        "%matplotlib inline"
      ]
    },
    {
      "cell_type": "code",
      "execution_count": null,
      "id": "6ce99f93",
      "metadata": {
        "id": "6ce99f93"
      },
      "outputs": [],
      "source": [
        "box_office = pd.read_csv(\"C:/Users/Hp/Desktop/EHC/test.csv\")\n",
        "box_office = pd.read_csv(\"C:/Users/Hp/Desktop/EHC/train.csv\")"
      ]
    },
    {
      "cell_type": "code",
      "execution_count": null,
      "id": "54a35451",
      "metadata": {
        "id": "54a35451",
        "outputId": "0cb4e374-8b00-4319-ae89-719f08552168"
      },
      "outputs": [
        {
          "data": {
            "text/html": [
              "<div>\n",
              "<style scoped>\n",
              "    .dataframe tbody tr th:only-of-type {\n",
              "        vertical-align: middle;\n",
              "    }\n",
              "\n",
              "    .dataframe tbody tr th {\n",
              "        vertical-align: top;\n",
              "    }\n",
              "\n",
              "    .dataframe thead th {\n",
              "        text-align: right;\n",
              "    }\n",
              "</style>\n",
              "<table border=\"1\" class=\"dataframe\">\n",
              "  <thead>\n",
              "    <tr style=\"text-align: right;\">\n",
              "      <th></th>\n",
              "      <th>id</th>\n",
              "      <th>belongs_to_collection</th>\n",
              "      <th>budget</th>\n",
              "      <th>genres</th>\n",
              "      <th>homepage</th>\n",
              "      <th>imdb_id</th>\n",
              "      <th>original_language</th>\n",
              "      <th>original_title</th>\n",
              "      <th>overview</th>\n",
              "      <th>popularity</th>\n",
              "      <th>...</th>\n",
              "      <th>release_date</th>\n",
              "      <th>runtime</th>\n",
              "      <th>spoken_languages</th>\n",
              "      <th>status</th>\n",
              "      <th>tagline</th>\n",
              "      <th>title</th>\n",
              "      <th>Keywords</th>\n",
              "      <th>cast</th>\n",
              "      <th>crew</th>\n",
              "      <th>revenue</th>\n",
              "    </tr>\n",
              "  </thead>\n",
              "  <tbody>\n",
              "    <tr>\n",
              "      <th>0</th>\n",
              "      <td>1</td>\n",
              "      <td>[{'id': 313576, 'name': 'Hot Tub Time Machine ...</td>\n",
              "      <td>14000000</td>\n",
              "      <td>[{'id': 35, 'name': 'Comedy'}]</td>\n",
              "      <td>NaN</td>\n",
              "      <td>tt2637294</td>\n",
              "      <td>en</td>\n",
              "      <td>Hot Tub Time Machine 2</td>\n",
              "      <td>When Lou, who has become the \"father of the In...</td>\n",
              "      <td>6.575393</td>\n",
              "      <td>...</td>\n",
              "      <td>2/20/15</td>\n",
              "      <td>93.0</td>\n",
              "      <td>[{'iso_639_1': 'en', 'name': 'English'}]</td>\n",
              "      <td>Released</td>\n",
              "      <td>The Laws of Space and Time are About to be Vio...</td>\n",
              "      <td>Hot Tub Time Machine 2</td>\n",
              "      <td>[{'id': 4379, 'name': 'time travel'}, {'id': 9...</td>\n",
              "      <td>[{'cast_id': 4, 'character': 'Lou', 'credit_id...</td>\n",
              "      <td>[{'credit_id': '59ac067c92514107af02c8c8', 'de...</td>\n",
              "      <td>12314651</td>\n",
              "    </tr>\n",
              "    <tr>\n",
              "      <th>1</th>\n",
              "      <td>2</td>\n",
              "      <td>[{'id': 107674, 'name': 'The Princess Diaries ...</td>\n",
              "      <td>40000000</td>\n",
              "      <td>[{'id': 35, 'name': 'Comedy'}, {'id': 18, 'nam...</td>\n",
              "      <td>NaN</td>\n",
              "      <td>tt0368933</td>\n",
              "      <td>en</td>\n",
              "      <td>The Princess Diaries 2: Royal Engagement</td>\n",
              "      <td>Mia Thermopolis is now a college graduate and ...</td>\n",
              "      <td>8.248895</td>\n",
              "      <td>...</td>\n",
              "      <td>8/6/04</td>\n",
              "      <td>113.0</td>\n",
              "      <td>[{'iso_639_1': 'en', 'name': 'English'}]</td>\n",
              "      <td>Released</td>\n",
              "      <td>It can take a lifetime to find true love; she'...</td>\n",
              "      <td>The Princess Diaries 2: Royal Engagement</td>\n",
              "      <td>[{'id': 2505, 'name': 'coronation'}, {'id': 42...</td>\n",
              "      <td>[{'cast_id': 1, 'character': 'Mia Thermopolis'...</td>\n",
              "      <td>[{'credit_id': '52fe43fe9251416c7502563d', 'de...</td>\n",
              "      <td>95149435</td>\n",
              "    </tr>\n",
              "    <tr>\n",
              "      <th>2</th>\n",
              "      <td>3</td>\n",
              "      <td>NaN</td>\n",
              "      <td>3300000</td>\n",
              "      <td>[{'id': 18, 'name': 'Drama'}]</td>\n",
              "      <td>http://sonyclassics.com/whiplash/</td>\n",
              "      <td>tt2582802</td>\n",
              "      <td>en</td>\n",
              "      <td>Whiplash</td>\n",
              "      <td>Under the direction of a ruthless instructor, ...</td>\n",
              "      <td>64.299990</td>\n",
              "      <td>...</td>\n",
              "      <td>10/10/14</td>\n",
              "      <td>105.0</td>\n",
              "      <td>[{'iso_639_1': 'en', 'name': 'English'}]</td>\n",
              "      <td>Released</td>\n",
              "      <td>The road to greatness can take you to the edge.</td>\n",
              "      <td>Whiplash</td>\n",
              "      <td>[{'id': 1416, 'name': 'jazz'}, {'id': 1523, 'n...</td>\n",
              "      <td>[{'cast_id': 5, 'character': 'Andrew Neimann',...</td>\n",
              "      <td>[{'credit_id': '54d5356ec3a3683ba0000039', 'de...</td>\n",
              "      <td>13092000</td>\n",
              "    </tr>\n",
              "    <tr>\n",
              "      <th>3</th>\n",
              "      <td>4</td>\n",
              "      <td>NaN</td>\n",
              "      <td>1200000</td>\n",
              "      <td>[{'id': 53, 'name': 'Thriller'}, {'id': 18, 'n...</td>\n",
              "      <td>http://kahaanithefilm.com/</td>\n",
              "      <td>tt1821480</td>\n",
              "      <td>hi</td>\n",
              "      <td>Kahaani</td>\n",
              "      <td>Vidya Bagchi (Vidya Balan) arrives in Kolkata ...</td>\n",
              "      <td>3.174936</td>\n",
              "      <td>...</td>\n",
              "      <td>3/9/12</td>\n",
              "      <td>122.0</td>\n",
              "      <td>[{'iso_639_1': 'en', 'name': 'English'}, {'iso...</td>\n",
              "      <td>Released</td>\n",
              "      <td>NaN</td>\n",
              "      <td>Kahaani</td>\n",
              "      <td>[{'id': 10092, 'name': 'mystery'}, {'id': 1054...</td>\n",
              "      <td>[{'cast_id': 1, 'character': 'Vidya Bagchi', '...</td>\n",
              "      <td>[{'credit_id': '52fe48779251416c9108d6eb', 'de...</td>\n",
              "      <td>16000000</td>\n",
              "    </tr>\n",
              "    <tr>\n",
              "      <th>4</th>\n",
              "      <td>5</td>\n",
              "      <td>NaN</td>\n",
              "      <td>0</td>\n",
              "      <td>[{'id': 28, 'name': 'Action'}, {'id': 53, 'nam...</td>\n",
              "      <td>NaN</td>\n",
              "      <td>tt1380152</td>\n",
              "      <td>ko</td>\n",
              "      <td>마린보이</td>\n",
              "      <td>Marine Boy is the story of a former national s...</td>\n",
              "      <td>1.148070</td>\n",
              "      <td>...</td>\n",
              "      <td>2/5/09</td>\n",
              "      <td>118.0</td>\n",
              "      <td>[{'iso_639_1': 'ko', 'name': '한국어/조선말'}]</td>\n",
              "      <td>Released</td>\n",
              "      <td>NaN</td>\n",
              "      <td>Marine Boy</td>\n",
              "      <td>NaN</td>\n",
              "      <td>[{'cast_id': 3, 'character': 'Chun-soo', 'cred...</td>\n",
              "      <td>[{'credit_id': '52fe464b9251416c75073b43', 'de...</td>\n",
              "      <td>3923970</td>\n",
              "    </tr>\n",
              "  </tbody>\n",
              "</table>\n",
              "<p>5 rows × 23 columns</p>\n",
              "</div>"
            ],
            "text/plain": [
              "   id                              belongs_to_collection    budget  \\\n",
              "0   1  [{'id': 313576, 'name': 'Hot Tub Time Machine ...  14000000   \n",
              "1   2  [{'id': 107674, 'name': 'The Princess Diaries ...  40000000   \n",
              "2   3                                                NaN   3300000   \n",
              "3   4                                                NaN   1200000   \n",
              "4   5                                                NaN         0   \n",
              "\n",
              "                                              genres  \\\n",
              "0                     [{'id': 35, 'name': 'Comedy'}]   \n",
              "1  [{'id': 35, 'name': 'Comedy'}, {'id': 18, 'nam...   \n",
              "2                      [{'id': 18, 'name': 'Drama'}]   \n",
              "3  [{'id': 53, 'name': 'Thriller'}, {'id': 18, 'n...   \n",
              "4  [{'id': 28, 'name': 'Action'}, {'id': 53, 'nam...   \n",
              "\n",
              "                            homepage    imdb_id original_language  \\\n",
              "0                                NaN  tt2637294                en   \n",
              "1                                NaN  tt0368933                en   \n",
              "2  http://sonyclassics.com/whiplash/  tt2582802                en   \n",
              "3         http://kahaanithefilm.com/  tt1821480                hi   \n",
              "4                                NaN  tt1380152                ko   \n",
              "\n",
              "                             original_title  \\\n",
              "0                    Hot Tub Time Machine 2   \n",
              "1  The Princess Diaries 2: Royal Engagement   \n",
              "2                                  Whiplash   \n",
              "3                                   Kahaani   \n",
              "4                                      마린보이   \n",
              "\n",
              "                                            overview  popularity  ...  \\\n",
              "0  When Lou, who has become the \"father of the In...    6.575393  ...   \n",
              "1  Mia Thermopolis is now a college graduate and ...    8.248895  ...   \n",
              "2  Under the direction of a ruthless instructor, ...   64.299990  ...   \n",
              "3  Vidya Bagchi (Vidya Balan) arrives in Kolkata ...    3.174936  ...   \n",
              "4  Marine Boy is the story of a former national s...    1.148070  ...   \n",
              "\n",
              "  release_date runtime                                   spoken_languages  \\\n",
              "0      2/20/15    93.0           [{'iso_639_1': 'en', 'name': 'English'}]   \n",
              "1       8/6/04   113.0           [{'iso_639_1': 'en', 'name': 'English'}]   \n",
              "2     10/10/14   105.0           [{'iso_639_1': 'en', 'name': 'English'}]   \n",
              "3       3/9/12   122.0  [{'iso_639_1': 'en', 'name': 'English'}, {'iso...   \n",
              "4       2/5/09   118.0           [{'iso_639_1': 'ko', 'name': '한국어/조선말'}]   \n",
              "\n",
              "     status                                            tagline  \\\n",
              "0  Released  The Laws of Space and Time are About to be Vio...   \n",
              "1  Released  It can take a lifetime to find true love; she'...   \n",
              "2  Released    The road to greatness can take you to the edge.   \n",
              "3  Released                                                NaN   \n",
              "4  Released                                                NaN   \n",
              "\n",
              "                                      title  \\\n",
              "0                    Hot Tub Time Machine 2   \n",
              "1  The Princess Diaries 2: Royal Engagement   \n",
              "2                                  Whiplash   \n",
              "3                                   Kahaani   \n",
              "4                                Marine Boy   \n",
              "\n",
              "                                            Keywords  \\\n",
              "0  [{'id': 4379, 'name': 'time travel'}, {'id': 9...   \n",
              "1  [{'id': 2505, 'name': 'coronation'}, {'id': 42...   \n",
              "2  [{'id': 1416, 'name': 'jazz'}, {'id': 1523, 'n...   \n",
              "3  [{'id': 10092, 'name': 'mystery'}, {'id': 1054...   \n",
              "4                                                NaN   \n",
              "\n",
              "                                                cast  \\\n",
              "0  [{'cast_id': 4, 'character': 'Lou', 'credit_id...   \n",
              "1  [{'cast_id': 1, 'character': 'Mia Thermopolis'...   \n",
              "2  [{'cast_id': 5, 'character': 'Andrew Neimann',...   \n",
              "3  [{'cast_id': 1, 'character': 'Vidya Bagchi', '...   \n",
              "4  [{'cast_id': 3, 'character': 'Chun-soo', 'cred...   \n",
              "\n",
              "                                                crew   revenue  \n",
              "0  [{'credit_id': '59ac067c92514107af02c8c8', 'de...  12314651  \n",
              "1  [{'credit_id': '52fe43fe9251416c7502563d', 'de...  95149435  \n",
              "2  [{'credit_id': '54d5356ec3a3683ba0000039', 'de...  13092000  \n",
              "3  [{'credit_id': '52fe48779251416c9108d6eb', 'de...  16000000  \n",
              "4  [{'credit_id': '52fe464b9251416c75073b43', 'de...   3923970  \n",
              "\n",
              "[5 rows x 23 columns]"
            ]
          },
          "execution_count": 124,
          "metadata": {},
          "output_type": "execute_result"
        }
      ],
      "source": [
        "# Prints the first five rows and columns\n",
        "box_office.head()"
      ]
    },
    {
      "cell_type": "code",
      "execution_count": null,
      "id": "82818c21",
      "metadata": {
        "id": "82818c21",
        "outputId": "ee94d59b-586a-4cb7-f86d-5baf3d8cde47"
      },
      "outputs": [
        {
          "data": {
            "text/html": [
              "<div>\n",
              "<style scoped>\n",
              "    .dataframe tbody tr th:only-of-type {\n",
              "        vertical-align: middle;\n",
              "    }\n",
              "\n",
              "    .dataframe tbody tr th {\n",
              "        vertical-align: top;\n",
              "    }\n",
              "\n",
              "    .dataframe thead th {\n",
              "        text-align: right;\n",
              "    }\n",
              "</style>\n",
              "<table border=\"1\" class=\"dataframe\">\n",
              "  <thead>\n",
              "    <tr style=\"text-align: right;\">\n",
              "      <th></th>\n",
              "      <th>id</th>\n",
              "      <th>belongs_to_collection</th>\n",
              "      <th>budget</th>\n",
              "      <th>genres</th>\n",
              "      <th>homepage</th>\n",
              "      <th>imdb_id</th>\n",
              "      <th>original_language</th>\n",
              "      <th>original_title</th>\n",
              "      <th>overview</th>\n",
              "      <th>popularity</th>\n",
              "      <th>...</th>\n",
              "      <th>release_date</th>\n",
              "      <th>runtime</th>\n",
              "      <th>spoken_languages</th>\n",
              "      <th>status</th>\n",
              "      <th>tagline</th>\n",
              "      <th>title</th>\n",
              "      <th>Keywords</th>\n",
              "      <th>cast</th>\n",
              "      <th>crew</th>\n",
              "      <th>revenue</th>\n",
              "    </tr>\n",
              "  </thead>\n",
              "  <tbody>\n",
              "    <tr>\n",
              "      <th>2995</th>\n",
              "      <td>2996</td>\n",
              "      <td>NaN</td>\n",
              "      <td>0</td>\n",
              "      <td>[{'id': 35, 'name': 'Comedy'}, {'id': 10749, '...</td>\n",
              "      <td>NaN</td>\n",
              "      <td>tt0109403</td>\n",
              "      <td>en</td>\n",
              "      <td>Chasers</td>\n",
              "      <td>Military men Rock Reilly and Eddie Devane are ...</td>\n",
              "      <td>9.853270</td>\n",
              "      <td>...</td>\n",
              "      <td>4/22/94</td>\n",
              "      <td>102.0</td>\n",
              "      <td>[{'iso_639_1': 'en', 'name': 'English'}]</td>\n",
              "      <td>Released</td>\n",
              "      <td>It was supposed to be a routine prisoner trans...</td>\n",
              "      <td>Chasers</td>\n",
              "      <td>[{'id': 378, 'name': 'prison'}, {'id': 572, 'n...</td>\n",
              "      <td>[{'cast_id': 2, 'character': 'Rock Reilly', 'c...</td>\n",
              "      <td>[{'credit_id': '52fe4494c3a368484e02ac7d', 'de...</td>\n",
              "      <td>1596687</td>\n",
              "    </tr>\n",
              "    <tr>\n",
              "      <th>2996</th>\n",
              "      <td>2997</td>\n",
              "      <td>NaN</td>\n",
              "      <td>0</td>\n",
              "      <td>[{'id': 18, 'name': 'Drama'}, {'id': 10402, 'n...</td>\n",
              "      <td>NaN</td>\n",
              "      <td>tt2364975</td>\n",
              "      <td>sv</td>\n",
              "      <td>Vi är bäst!</td>\n",
              "      <td>Three girls in 1980s Stockholm decide to form ...</td>\n",
              "      <td>3.727996</td>\n",
              "      <td>...</td>\n",
              "      <td>3/28/13</td>\n",
              "      <td>102.0</td>\n",
              "      <td>[{'iso_639_1': 'sv', 'name': 'svenska'}]</td>\n",
              "      <td>Released</td>\n",
              "      <td>NaN</td>\n",
              "      <td>We Are the Best!</td>\n",
              "      <td>[{'id': 1192, 'name': 'sweden'}, {'id': 4470, ...</td>\n",
              "      <td>[{'cast_id': 5, 'character': 'Bobo', 'credit_i...</td>\n",
              "      <td>[{'credit_id': '5716b72ac3a3686678012c84', 'de...</td>\n",
              "      <td>180590</td>\n",
              "    </tr>\n",
              "    <tr>\n",
              "      <th>2997</th>\n",
              "      <td>2998</td>\n",
              "      <td>NaN</td>\n",
              "      <td>65000000</td>\n",
              "      <td>[{'id': 80, 'name': 'Crime'}, {'id': 28, 'name...</td>\n",
              "      <td>NaN</td>\n",
              "      <td>tt0116908</td>\n",
              "      <td>en</td>\n",
              "      <td>The Long Kiss Goodnight</td>\n",
              "      <td>Samantha Caine, suburban homemaker, is the ide...</td>\n",
              "      <td>14.482345</td>\n",
              "      <td>...</td>\n",
              "      <td>10/11/96</td>\n",
              "      <td>120.0</td>\n",
              "      <td>[{'iso_639_1': 'en', 'name': 'English'}]</td>\n",
              "      <td>Released</td>\n",
              "      <td>What's forgotten is not always gone.</td>\n",
              "      <td>The Long Kiss Goodnight</td>\n",
              "      <td>[{'id': 441, 'name': 'assassination'}, {'id': ...</td>\n",
              "      <td>[{'cast_id': 10, 'character': 'Samantha Caine ...</td>\n",
              "      <td>[{'credit_id': '52fe443a9251416c7502d579', 'de...</td>\n",
              "      <td>89456761</td>\n",
              "    </tr>\n",
              "    <tr>\n",
              "      <th>2998</th>\n",
              "      <td>2999</td>\n",
              "      <td>NaN</td>\n",
              "      <td>42000000</td>\n",
              "      <td>[{'id': 35, 'name': 'Comedy'}, {'id': 10749, '...</td>\n",
              "      <td>http://www.alongcamepolly.com/</td>\n",
              "      <td>tt0343135</td>\n",
              "      <td>en</td>\n",
              "      <td>Along Came Polly</td>\n",
              "      <td>Reuben Feffer is a guy who's spent his entire ...</td>\n",
              "      <td>15.725542</td>\n",
              "      <td>...</td>\n",
              "      <td>1/16/04</td>\n",
              "      <td>90.0</td>\n",
              "      <td>[{'iso_639_1': 'en', 'name': 'English'}]</td>\n",
              "      <td>Released</td>\n",
              "      <td>For the most cautious man on Earth, life is ab...</td>\n",
              "      <td>Along Came Polly</td>\n",
              "      <td>[{'id': 966, 'name': 'beach'}, {'id': 2676, 'n...</td>\n",
              "      <td>[{'cast_id': 8, 'character': 'Reuben Feffer', ...</td>\n",
              "      <td>[{'credit_id': '556f817b9251410866000a63', 'de...</td>\n",
              "      <td>171963386</td>\n",
              "    </tr>\n",
              "    <tr>\n",
              "      <th>2999</th>\n",
              "      <td>3000</td>\n",
              "      <td>NaN</td>\n",
              "      <td>35000000</td>\n",
              "      <td>[{'id': 53, 'name': 'Thriller'}, {'id': 28, 'n...</td>\n",
              "      <td>http://www.abductionthefilm.com/</td>\n",
              "      <td>tt1600195</td>\n",
              "      <td>en</td>\n",
              "      <td>Abduction</td>\n",
              "      <td>A young man sets out to uncover the truth abou...</td>\n",
              "      <td>10.512109</td>\n",
              "      <td>...</td>\n",
              "      <td>9/22/11</td>\n",
              "      <td>106.0</td>\n",
              "      <td>[{'iso_639_1': 'en', 'name': 'English'}]</td>\n",
              "      <td>Released</td>\n",
              "      <td>They stole his life. He's taking it back.</td>\n",
              "      <td>Abduction</td>\n",
              "      <td>[{'id': 591, 'name': 'cia'}, {'id': 822, 'name...</td>\n",
              "      <td>[{'cast_id': 2, 'character': 'Nathan Harper', ...</td>\n",
              "      <td>[{'credit_id': '5391990d0e0a260fb5001629', 'de...</td>\n",
              "      <td>82087155</td>\n",
              "    </tr>\n",
              "  </tbody>\n",
              "</table>\n",
              "<p>5 rows × 23 columns</p>\n",
              "</div>"
            ],
            "text/plain": [
              "        id belongs_to_collection    budget  \\\n",
              "2995  2996                   NaN         0   \n",
              "2996  2997                   NaN         0   \n",
              "2997  2998                   NaN  65000000   \n",
              "2998  2999                   NaN  42000000   \n",
              "2999  3000                   NaN  35000000   \n",
              "\n",
              "                                                 genres  \\\n",
              "2995  [{'id': 35, 'name': 'Comedy'}, {'id': 10749, '...   \n",
              "2996  [{'id': 18, 'name': 'Drama'}, {'id': 10402, 'n...   \n",
              "2997  [{'id': 80, 'name': 'Crime'}, {'id': 28, 'name...   \n",
              "2998  [{'id': 35, 'name': 'Comedy'}, {'id': 10749, '...   \n",
              "2999  [{'id': 53, 'name': 'Thriller'}, {'id': 28, 'n...   \n",
              "\n",
              "                              homepage    imdb_id original_language  \\\n",
              "2995                               NaN  tt0109403                en   \n",
              "2996                               NaN  tt2364975                sv   \n",
              "2997                               NaN  tt0116908                en   \n",
              "2998    http://www.alongcamepolly.com/  tt0343135                en   \n",
              "2999  http://www.abductionthefilm.com/  tt1600195                en   \n",
              "\n",
              "               original_title  \\\n",
              "2995                  Chasers   \n",
              "2996              Vi är bäst!   \n",
              "2997  The Long Kiss Goodnight   \n",
              "2998         Along Came Polly   \n",
              "2999                Abduction   \n",
              "\n",
              "                                               overview  popularity  ...  \\\n",
              "2995  Military men Rock Reilly and Eddie Devane are ...    9.853270  ...   \n",
              "2996  Three girls in 1980s Stockholm decide to form ...    3.727996  ...   \n",
              "2997  Samantha Caine, suburban homemaker, is the ide...   14.482345  ...   \n",
              "2998  Reuben Feffer is a guy who's spent his entire ...   15.725542  ...   \n",
              "2999  A young man sets out to uncover the truth abou...   10.512109  ...   \n",
              "\n",
              "     release_date runtime                          spoken_languages    status  \\\n",
              "2995      4/22/94   102.0  [{'iso_639_1': 'en', 'name': 'English'}]  Released   \n",
              "2996      3/28/13   102.0  [{'iso_639_1': 'sv', 'name': 'svenska'}]  Released   \n",
              "2997     10/11/96   120.0  [{'iso_639_1': 'en', 'name': 'English'}]  Released   \n",
              "2998      1/16/04    90.0  [{'iso_639_1': 'en', 'name': 'English'}]  Released   \n",
              "2999      9/22/11   106.0  [{'iso_639_1': 'en', 'name': 'English'}]  Released   \n",
              "\n",
              "                                                tagline  \\\n",
              "2995  It was supposed to be a routine prisoner trans...   \n",
              "2996                                                NaN   \n",
              "2997               What's forgotten is not always gone.   \n",
              "2998  For the most cautious man on Earth, life is ab...   \n",
              "2999          They stole his life. He's taking it back.   \n",
              "\n",
              "                        title  \\\n",
              "2995                  Chasers   \n",
              "2996         We Are the Best!   \n",
              "2997  The Long Kiss Goodnight   \n",
              "2998         Along Came Polly   \n",
              "2999                Abduction   \n",
              "\n",
              "                                               Keywords  \\\n",
              "2995  [{'id': 378, 'name': 'prison'}, {'id': 572, 'n...   \n",
              "2996  [{'id': 1192, 'name': 'sweden'}, {'id': 4470, ...   \n",
              "2997  [{'id': 441, 'name': 'assassination'}, {'id': ...   \n",
              "2998  [{'id': 966, 'name': 'beach'}, {'id': 2676, 'n...   \n",
              "2999  [{'id': 591, 'name': 'cia'}, {'id': 822, 'name...   \n",
              "\n",
              "                                                   cast  \\\n",
              "2995  [{'cast_id': 2, 'character': 'Rock Reilly', 'c...   \n",
              "2996  [{'cast_id': 5, 'character': 'Bobo', 'credit_i...   \n",
              "2997  [{'cast_id': 10, 'character': 'Samantha Caine ...   \n",
              "2998  [{'cast_id': 8, 'character': 'Reuben Feffer', ...   \n",
              "2999  [{'cast_id': 2, 'character': 'Nathan Harper', ...   \n",
              "\n",
              "                                                   crew    revenue  \n",
              "2995  [{'credit_id': '52fe4494c3a368484e02ac7d', 'de...    1596687  \n",
              "2996  [{'credit_id': '5716b72ac3a3686678012c84', 'de...     180590  \n",
              "2997  [{'credit_id': '52fe443a9251416c7502d579', 'de...   89456761  \n",
              "2998  [{'credit_id': '556f817b9251410866000a63', 'de...  171963386  \n",
              "2999  [{'credit_id': '5391990d0e0a260fb5001629', 'de...   82087155  \n",
              "\n",
              "[5 rows x 23 columns]"
            ]
          },
          "execution_count": 125,
          "metadata": {},
          "output_type": "execute_result"
        }
      ],
      "source": [
        "# Prints the last five rows and columns\n",
        "box_office.tail()"
      ]
    },
    {
      "cell_type": "markdown",
      "id": "0673e43c",
      "metadata": {
        "id": "0673e43c"
      },
      "source": [
        "To know the statistical distribution we use the describe(), we added \"all\" to make sure it captures all categorical variables of the dataset while bringing out it's statistical distribution.From the details we have:\n",
        "Count reveals the number of not empty values\n",
        "mean reveals the average (mean)\n",
        "min shows the minimum values\n",
        "25% is the 25% percentiles\n",
        "50% shows the 50% percentiles \n",
        "75%shows the 75% percentiles\n",
        "max shows the maximum valuse "
      ]
    },
    {
      "cell_type": "code",
      "execution_count": null,
      "id": "e816c560",
      "metadata": {
        "id": "e816c560",
        "outputId": "dc2c7e22-aa4d-409d-e19c-22f5bc2c9953"
      },
      "outputs": [
        {
          "data": {
            "text/html": [
              "<div>\n",
              "<style scoped>\n",
              "    .dataframe tbody tr th:only-of-type {\n",
              "        vertical-align: middle;\n",
              "    }\n",
              "\n",
              "    .dataframe tbody tr th {\n",
              "        vertical-align: top;\n",
              "    }\n",
              "\n",
              "    .dataframe thead th {\n",
              "        text-align: right;\n",
              "    }\n",
              "</style>\n",
              "<table border=\"1\" class=\"dataframe\">\n",
              "  <thead>\n",
              "    <tr style=\"text-align: right;\">\n",
              "      <th></th>\n",
              "      <th>id</th>\n",
              "      <th>belongs_to_collection</th>\n",
              "      <th>budget</th>\n",
              "      <th>genres</th>\n",
              "      <th>homepage</th>\n",
              "      <th>imdb_id</th>\n",
              "      <th>original_language</th>\n",
              "      <th>original_title</th>\n",
              "      <th>overview</th>\n",
              "      <th>popularity</th>\n",
              "      <th>...</th>\n",
              "      <th>release_date</th>\n",
              "      <th>runtime</th>\n",
              "      <th>spoken_languages</th>\n",
              "      <th>status</th>\n",
              "      <th>tagline</th>\n",
              "      <th>title</th>\n",
              "      <th>Keywords</th>\n",
              "      <th>cast</th>\n",
              "      <th>crew</th>\n",
              "      <th>revenue</th>\n",
              "    </tr>\n",
              "  </thead>\n",
              "  <tbody>\n",
              "    <tr>\n",
              "      <th>count</th>\n",
              "      <td>3000.000000</td>\n",
              "      <td>604</td>\n",
              "      <td>3.000000e+03</td>\n",
              "      <td>2993</td>\n",
              "      <td>946</td>\n",
              "      <td>3000</td>\n",
              "      <td>3000</td>\n",
              "      <td>3000</td>\n",
              "      <td>2992</td>\n",
              "      <td>3000.000000</td>\n",
              "      <td>...</td>\n",
              "      <td>3000</td>\n",
              "      <td>2998.000000</td>\n",
              "      <td>2980</td>\n",
              "      <td>3000</td>\n",
              "      <td>2403</td>\n",
              "      <td>3000</td>\n",
              "      <td>2724</td>\n",
              "      <td>2987</td>\n",
              "      <td>2984</td>\n",
              "      <td>3.000000e+03</td>\n",
              "    </tr>\n",
              "    <tr>\n",
              "      <th>unique</th>\n",
              "      <td>NaN</td>\n",
              "      <td>422</td>\n",
              "      <td>NaN</td>\n",
              "      <td>872</td>\n",
              "      <td>941</td>\n",
              "      <td>3000</td>\n",
              "      <td>36</td>\n",
              "      <td>2975</td>\n",
              "      <td>2992</td>\n",
              "      <td>NaN</td>\n",
              "      <td>...</td>\n",
              "      <td>2398</td>\n",
              "      <td>NaN</td>\n",
              "      <td>401</td>\n",
              "      <td>2</td>\n",
              "      <td>2400</td>\n",
              "      <td>2969</td>\n",
              "      <td>2648</td>\n",
              "      <td>2975</td>\n",
              "      <td>2984</td>\n",
              "      <td>NaN</td>\n",
              "    </tr>\n",
              "    <tr>\n",
              "      <th>top</th>\n",
              "      <td>NaN</td>\n",
              "      <td>[{'id': 645, 'name': 'James Bond Collection', ...</td>\n",
              "      <td>NaN</td>\n",
              "      <td>[{'id': 18, 'name': 'Drama'}]</td>\n",
              "      <td>http://www.transformersmovie.com/</td>\n",
              "      <td>tt2637294</td>\n",
              "      <td>en</td>\n",
              "      <td>Joshua</td>\n",
              "      <td>When Lou, who has become the \"father of the In...</td>\n",
              "      <td>NaN</td>\n",
              "      <td>...</td>\n",
              "      <td>9/10/10</td>\n",
              "      <td>NaN</td>\n",
              "      <td>[{'iso_639_1': 'en', 'name': 'English'}]</td>\n",
              "      <td>Released</td>\n",
              "      <td>Based on a true story.</td>\n",
              "      <td>The Magnificent Seven</td>\n",
              "      <td>[{'id': 10183, 'name': 'independent film'}]</td>\n",
              "      <td>[]</td>\n",
              "      <td>[{'credit_id': '59ac067c92514107af02c8c8', 'de...</td>\n",
              "      <td>NaN</td>\n",
              "    </tr>\n",
              "    <tr>\n",
              "      <th>freq</th>\n",
              "      <td>NaN</td>\n",
              "      <td>16</td>\n",
              "      <td>NaN</td>\n",
              "      <td>266</td>\n",
              "      <td>4</td>\n",
              "      <td>1</td>\n",
              "      <td>2575</td>\n",
              "      <td>2</td>\n",
              "      <td>1</td>\n",
              "      <td>NaN</td>\n",
              "      <td>...</td>\n",
              "      <td>5</td>\n",
              "      <td>NaN</td>\n",
              "      <td>1817</td>\n",
              "      <td>2996</td>\n",
              "      <td>3</td>\n",
              "      <td>2</td>\n",
              "      <td>27</td>\n",
              "      <td>13</td>\n",
              "      <td>1</td>\n",
              "      <td>NaN</td>\n",
              "    </tr>\n",
              "    <tr>\n",
              "      <th>mean</th>\n",
              "      <td>1500.500000</td>\n",
              "      <td>NaN</td>\n",
              "      <td>2.253133e+07</td>\n",
              "      <td>NaN</td>\n",
              "      <td>NaN</td>\n",
              "      <td>NaN</td>\n",
              "      <td>NaN</td>\n",
              "      <td>NaN</td>\n",
              "      <td>NaN</td>\n",
              "      <td>8.463274</td>\n",
              "      <td>...</td>\n",
              "      <td>NaN</td>\n",
              "      <td>107.856571</td>\n",
              "      <td>NaN</td>\n",
              "      <td>NaN</td>\n",
              "      <td>NaN</td>\n",
              "      <td>NaN</td>\n",
              "      <td>NaN</td>\n",
              "      <td>NaN</td>\n",
              "      <td>NaN</td>\n",
              "      <td>6.672585e+07</td>\n",
              "    </tr>\n",
              "    <tr>\n",
              "      <th>std</th>\n",
              "      <td>866.169729</td>\n",
              "      <td>NaN</td>\n",
              "      <td>3.702609e+07</td>\n",
              "      <td>NaN</td>\n",
              "      <td>NaN</td>\n",
              "      <td>NaN</td>\n",
              "      <td>NaN</td>\n",
              "      <td>NaN</td>\n",
              "      <td>NaN</td>\n",
              "      <td>12.104000</td>\n",
              "      <td>...</td>\n",
              "      <td>NaN</td>\n",
              "      <td>22.086434</td>\n",
              "      <td>NaN</td>\n",
              "      <td>NaN</td>\n",
              "      <td>NaN</td>\n",
              "      <td>NaN</td>\n",
              "      <td>NaN</td>\n",
              "      <td>NaN</td>\n",
              "      <td>NaN</td>\n",
              "      <td>1.375323e+08</td>\n",
              "    </tr>\n",
              "    <tr>\n",
              "      <th>min</th>\n",
              "      <td>1.000000</td>\n",
              "      <td>NaN</td>\n",
              "      <td>0.000000e+00</td>\n",
              "      <td>NaN</td>\n",
              "      <td>NaN</td>\n",
              "      <td>NaN</td>\n",
              "      <td>NaN</td>\n",
              "      <td>NaN</td>\n",
              "      <td>NaN</td>\n",
              "      <td>0.000001</td>\n",
              "      <td>...</td>\n",
              "      <td>NaN</td>\n",
              "      <td>0.000000</td>\n",
              "      <td>NaN</td>\n",
              "      <td>NaN</td>\n",
              "      <td>NaN</td>\n",
              "      <td>NaN</td>\n",
              "      <td>NaN</td>\n",
              "      <td>NaN</td>\n",
              "      <td>NaN</td>\n",
              "      <td>1.000000e+00</td>\n",
              "    </tr>\n",
              "    <tr>\n",
              "      <th>25%</th>\n",
              "      <td>750.750000</td>\n",
              "      <td>NaN</td>\n",
              "      <td>0.000000e+00</td>\n",
              "      <td>NaN</td>\n",
              "      <td>NaN</td>\n",
              "      <td>NaN</td>\n",
              "      <td>NaN</td>\n",
              "      <td>NaN</td>\n",
              "      <td>NaN</td>\n",
              "      <td>4.018053</td>\n",
              "      <td>...</td>\n",
              "      <td>NaN</td>\n",
              "      <td>94.000000</td>\n",
              "      <td>NaN</td>\n",
              "      <td>NaN</td>\n",
              "      <td>NaN</td>\n",
              "      <td>NaN</td>\n",
              "      <td>NaN</td>\n",
              "      <td>NaN</td>\n",
              "      <td>NaN</td>\n",
              "      <td>2.379808e+06</td>\n",
              "    </tr>\n",
              "    <tr>\n",
              "      <th>50%</th>\n",
              "      <td>1500.500000</td>\n",
              "      <td>NaN</td>\n",
              "      <td>8.000000e+06</td>\n",
              "      <td>NaN</td>\n",
              "      <td>NaN</td>\n",
              "      <td>NaN</td>\n",
              "      <td>NaN</td>\n",
              "      <td>NaN</td>\n",
              "      <td>NaN</td>\n",
              "      <td>7.374861</td>\n",
              "      <td>...</td>\n",
              "      <td>NaN</td>\n",
              "      <td>104.000000</td>\n",
              "      <td>NaN</td>\n",
              "      <td>NaN</td>\n",
              "      <td>NaN</td>\n",
              "      <td>NaN</td>\n",
              "      <td>NaN</td>\n",
              "      <td>NaN</td>\n",
              "      <td>NaN</td>\n",
              "      <td>1.680707e+07</td>\n",
              "    </tr>\n",
              "    <tr>\n",
              "      <th>75%</th>\n",
              "      <td>2250.250000</td>\n",
              "      <td>NaN</td>\n",
              "      <td>2.900000e+07</td>\n",
              "      <td>NaN</td>\n",
              "      <td>NaN</td>\n",
              "      <td>NaN</td>\n",
              "      <td>NaN</td>\n",
              "      <td>NaN</td>\n",
              "      <td>NaN</td>\n",
              "      <td>10.890983</td>\n",
              "      <td>...</td>\n",
              "      <td>NaN</td>\n",
              "      <td>118.000000</td>\n",
              "      <td>NaN</td>\n",
              "      <td>NaN</td>\n",
              "      <td>NaN</td>\n",
              "      <td>NaN</td>\n",
              "      <td>NaN</td>\n",
              "      <td>NaN</td>\n",
              "      <td>NaN</td>\n",
              "      <td>6.891920e+07</td>\n",
              "    </tr>\n",
              "    <tr>\n",
              "      <th>max</th>\n",
              "      <td>3000.000000</td>\n",
              "      <td>NaN</td>\n",
              "      <td>3.800000e+08</td>\n",
              "      <td>NaN</td>\n",
              "      <td>NaN</td>\n",
              "      <td>NaN</td>\n",
              "      <td>NaN</td>\n",
              "      <td>NaN</td>\n",
              "      <td>NaN</td>\n",
              "      <td>294.337037</td>\n",
              "      <td>...</td>\n",
              "      <td>NaN</td>\n",
              "      <td>338.000000</td>\n",
              "      <td>NaN</td>\n",
              "      <td>NaN</td>\n",
              "      <td>NaN</td>\n",
              "      <td>NaN</td>\n",
              "      <td>NaN</td>\n",
              "      <td>NaN</td>\n",
              "      <td>NaN</td>\n",
              "      <td>1.519558e+09</td>\n",
              "    </tr>\n",
              "  </tbody>\n",
              "</table>\n",
              "<p>11 rows × 23 columns</p>\n",
              "</div>"
            ],
            "text/plain": [
              "                 id                              belongs_to_collection  \\\n",
              "count   3000.000000                                                604   \n",
              "unique          NaN                                                422   \n",
              "top             NaN  [{'id': 645, 'name': 'James Bond Collection', ...   \n",
              "freq            NaN                                                 16   \n",
              "mean    1500.500000                                                NaN   \n",
              "std      866.169729                                                NaN   \n",
              "min        1.000000                                                NaN   \n",
              "25%      750.750000                                                NaN   \n",
              "50%     1500.500000                                                NaN   \n",
              "75%     2250.250000                                                NaN   \n",
              "max     3000.000000                                                NaN   \n",
              "\n",
              "              budget                         genres  \\\n",
              "count   3.000000e+03                           2993   \n",
              "unique           NaN                            872   \n",
              "top              NaN  [{'id': 18, 'name': 'Drama'}]   \n",
              "freq             NaN                            266   \n",
              "mean    2.253133e+07                            NaN   \n",
              "std     3.702609e+07                            NaN   \n",
              "min     0.000000e+00                            NaN   \n",
              "25%     0.000000e+00                            NaN   \n",
              "50%     8.000000e+06                            NaN   \n",
              "75%     2.900000e+07                            NaN   \n",
              "max     3.800000e+08                            NaN   \n",
              "\n",
              "                                 homepage    imdb_id original_language  \\\n",
              "count                                 946       3000              3000   \n",
              "unique                                941       3000                36   \n",
              "top     http://www.transformersmovie.com/  tt2637294                en   \n",
              "freq                                    4          1              2575   \n",
              "mean                                  NaN        NaN               NaN   \n",
              "std                                   NaN        NaN               NaN   \n",
              "min                                   NaN        NaN               NaN   \n",
              "25%                                   NaN        NaN               NaN   \n",
              "50%                                   NaN        NaN               NaN   \n",
              "75%                                   NaN        NaN               NaN   \n",
              "max                                   NaN        NaN               NaN   \n",
              "\n",
              "       original_title                                           overview  \\\n",
              "count            3000                                               2992   \n",
              "unique           2975                                               2992   \n",
              "top            Joshua  When Lou, who has become the \"father of the In...   \n",
              "freq                2                                                  1   \n",
              "mean              NaN                                                NaN   \n",
              "std               NaN                                                NaN   \n",
              "min               NaN                                                NaN   \n",
              "25%               NaN                                                NaN   \n",
              "50%               NaN                                                NaN   \n",
              "75%               NaN                                                NaN   \n",
              "max               NaN                                                NaN   \n",
              "\n",
              "         popularity  ... release_date      runtime  \\\n",
              "count   3000.000000  ...         3000  2998.000000   \n",
              "unique          NaN  ...         2398          NaN   \n",
              "top             NaN  ...      9/10/10          NaN   \n",
              "freq            NaN  ...            5          NaN   \n",
              "mean       8.463274  ...          NaN   107.856571   \n",
              "std       12.104000  ...          NaN    22.086434   \n",
              "min        0.000001  ...          NaN     0.000000   \n",
              "25%        4.018053  ...          NaN    94.000000   \n",
              "50%        7.374861  ...          NaN   104.000000   \n",
              "75%       10.890983  ...          NaN   118.000000   \n",
              "max      294.337037  ...          NaN   338.000000   \n",
              "\n",
              "                                spoken_languages    status  \\\n",
              "count                                       2980      3000   \n",
              "unique                                       401         2   \n",
              "top     [{'iso_639_1': 'en', 'name': 'English'}]  Released   \n",
              "freq                                        1817      2996   \n",
              "mean                                         NaN       NaN   \n",
              "std                                          NaN       NaN   \n",
              "min                                          NaN       NaN   \n",
              "25%                                          NaN       NaN   \n",
              "50%                                          NaN       NaN   \n",
              "75%                                          NaN       NaN   \n",
              "max                                          NaN       NaN   \n",
              "\n",
              "                       tagline                  title  \\\n",
              "count                     2403                   3000   \n",
              "unique                    2400                   2969   \n",
              "top     Based on a true story.  The Magnificent Seven   \n",
              "freq                         3                      2   \n",
              "mean                       NaN                    NaN   \n",
              "std                        NaN                    NaN   \n",
              "min                        NaN                    NaN   \n",
              "25%                        NaN                    NaN   \n",
              "50%                        NaN                    NaN   \n",
              "75%                        NaN                    NaN   \n",
              "max                        NaN                    NaN   \n",
              "\n",
              "                                           Keywords  cast  \\\n",
              "count                                          2724  2987   \n",
              "unique                                         2648  2975   \n",
              "top     [{'id': 10183, 'name': 'independent film'}]    []   \n",
              "freq                                             27    13   \n",
              "mean                                            NaN   NaN   \n",
              "std                                             NaN   NaN   \n",
              "min                                             NaN   NaN   \n",
              "25%                                             NaN   NaN   \n",
              "50%                                             NaN   NaN   \n",
              "75%                                             NaN   NaN   \n",
              "max                                             NaN   NaN   \n",
              "\n",
              "                                                     crew       revenue  \n",
              "count                                                2984  3.000000e+03  \n",
              "unique                                               2984           NaN  \n",
              "top     [{'credit_id': '59ac067c92514107af02c8c8', 'de...           NaN  \n",
              "freq                                                    1           NaN  \n",
              "mean                                                  NaN  6.672585e+07  \n",
              "std                                                   NaN  1.375323e+08  \n",
              "min                                                   NaN  1.000000e+00  \n",
              "25%                                                   NaN  2.379808e+06  \n",
              "50%                                                   NaN  1.680707e+07  \n",
              "75%                                                   NaN  6.891920e+07  \n",
              "max                                                   NaN  1.519558e+09  \n",
              "\n",
              "[11 rows x 23 columns]"
            ]
          },
          "execution_count": 126,
          "metadata": {},
          "output_type": "execute_result"
        }
      ],
      "source": [
        "box_office.describe(include='all')"
      ]
    },
    {
      "cell_type": "code",
      "execution_count": null,
      "id": "1ecee23e",
      "metadata": {
        "id": "1ecee23e",
        "outputId": "3584a6b9-bb43-4c4d-fa95-4623afda0e22"
      },
      "outputs": [
        {
          "data": {
            "text/plain": [
              "(3000, 23)"
            ]
          },
          "execution_count": 127,
          "metadata": {},
          "output_type": "execute_result"
        }
      ],
      "source": [
        "# Prints the number of rows and columns\n",
        "box_office.shape"
      ]
    },
    {
      "cell_type": "code",
      "execution_count": null,
      "id": "8dbeebcd",
      "metadata": {
        "id": "8dbeebcd",
        "outputId": "f99f2f5b-09e2-4ad9-a625-38e98a9b1daf"
      },
      "outputs": [
        {
          "data": {
            "text/plain": [
              "(3000, 23)"
            ]
          },
          "execution_count": 129,
          "metadata": {},
          "output_type": "execute_result"
        }
      ],
      "source": [
        "# Checks for duplicates\n",
        "box_office.drop_duplicates(keep='first', inplace=True)\n",
        "#There are no duplicates in this dataset\n",
        "box_office.shape"
      ]
    },
    {
      "cell_type": "code",
      "execution_count": null,
      "id": "54bf0f00",
      "metadata": {
        "id": "54bf0f00",
        "outputId": "2806db1c-e8eb-4bf6-8930-72b77df54f54"
      },
      "outputs": [
        {
          "name": "stdout",
          "output_type": "stream",
          "text": [
            "<class 'pandas.core.frame.DataFrame'>\n",
            "Int64Index: 3000 entries, 0 to 2999\n",
            "Data columns (total 23 columns):\n",
            " #   Column                 Non-Null Count  Dtype  \n",
            "---  ------                 --------------  -----  \n",
            " 0   id                     3000 non-null   int64  \n",
            " 1   belongs_to_collection  604 non-null    object \n",
            " 2   budget                 3000 non-null   int64  \n",
            " 3   genres                 2993 non-null   object \n",
            " 4   homepage               946 non-null    object \n",
            " 5   imdb_id                3000 non-null   object \n",
            " 6   original_language      3000 non-null   object \n",
            " 7   original_title         3000 non-null   object \n",
            " 8   overview               2992 non-null   object \n",
            " 9   popularity             3000 non-null   float64\n",
            " 10  poster_path            2999 non-null   object \n",
            " 11  production_companies   2844 non-null   object \n",
            " 12  production_countries   2945 non-null   object \n",
            " 13  release_date           3000 non-null   object \n",
            " 14  runtime                2998 non-null   float64\n",
            " 15  spoken_languages       2980 non-null   object \n",
            " 16  status                 3000 non-null   object \n",
            " 17  tagline                2403 non-null   object \n",
            " 18  title                  3000 non-null   object \n",
            " 19  Keywords               2724 non-null   object \n",
            " 20  cast                   2987 non-null   object \n",
            " 21  crew                   2984 non-null   object \n",
            " 22  revenue                3000 non-null   int64  \n",
            "dtypes: float64(2), int64(3), object(18)\n",
            "memory usage: 562.5+ KB\n"
          ]
        }
      ],
      "source": [
        "# Returns information about the dataset\n",
        "box_office.info()"
      ]
    },
    {
      "cell_type": "markdown",
      "id": "de23b737",
      "metadata": {
        "id": "de23b737"
      },
      "source": [
        "We checked if there were any missing values in our dataset and there were quite a lot of them, which we will handle while cleaning our data."
      ]
    },
    {
      "cell_type": "code",
      "execution_count": null,
      "id": "555bd9d6",
      "metadata": {
        "id": "555bd9d6",
        "outputId": "0266b8d2-d279-400c-ed1e-cb57d6dc1d53"
      },
      "outputs": [
        {
          "data": {
            "text/plain": [
              "id                          0\n",
              "belongs_to_collection    2396\n",
              "budget                      0\n",
              "genres                      7\n",
              "homepage                 2054\n",
              "imdb_id                     0\n",
              "original_language           0\n",
              "original_title              0\n",
              "overview                    8\n",
              "popularity                  0\n",
              "poster_path                 1\n",
              "production_companies      156\n",
              "production_countries       55\n",
              "release_date                0\n",
              "runtime                     2\n",
              "spoken_languages           20\n",
              "status                      0\n",
              "tagline                   597\n",
              "title                       0\n",
              "Keywords                  276\n",
              "cast                       13\n",
              "crew                       16\n",
              "revenue                     0\n",
              "dtype: int64"
            ]
          },
          "execution_count": 131,
          "metadata": {},
          "output_type": "execute_result"
        }
      ],
      "source": [
        "box_office.isnull().sum()"
      ]
    },
    {
      "cell_type": "markdown",
      "id": "bcb66595",
      "metadata": {
        "id": "bcb66595"
      },
      "source": [
        "## Data Cleaning / Exploratory data analysis\n"
      ]
    },
    {
      "cell_type": "code",
      "execution_count": null,
      "id": "1da9d49f",
      "metadata": {
        "id": "1da9d49f",
        "outputId": "ee57720f-f61f-4480-e167-e4e92485b735"
      },
      "outputs": [
        {
          "data": {
            "text/html": [
              "<div>\n",
              "<style scoped>\n",
              "    .dataframe tbody tr th:only-of-type {\n",
              "        vertical-align: middle;\n",
              "    }\n",
              "\n",
              "    .dataframe tbody tr th {\n",
              "        vertical-align: top;\n",
              "    }\n",
              "\n",
              "    .dataframe thead th {\n",
              "        text-align: right;\n",
              "    }\n",
              "</style>\n",
              "<table border=\"1\" class=\"dataframe\">\n",
              "  <thead>\n",
              "    <tr style=\"text-align: right;\">\n",
              "      <th></th>\n",
              "      <th>id</th>\n",
              "      <th>budget</th>\n",
              "      <th>popularity</th>\n",
              "      <th>runtime</th>\n",
              "      <th>revenue</th>\n",
              "    </tr>\n",
              "  </thead>\n",
              "  <tbody>\n",
              "    <tr>\n",
              "      <th>count</th>\n",
              "      <td>3000.000000</td>\n",
              "      <td>3.000000e+03</td>\n",
              "      <td>3000.000000</td>\n",
              "      <td>2998.000000</td>\n",
              "      <td>3.000000e+03</td>\n",
              "    </tr>\n",
              "    <tr>\n",
              "      <th>mean</th>\n",
              "      <td>1500.500000</td>\n",
              "      <td>2.253133e+07</td>\n",
              "      <td>8.463274</td>\n",
              "      <td>107.856571</td>\n",
              "      <td>6.672585e+07</td>\n",
              "    </tr>\n",
              "    <tr>\n",
              "      <th>std</th>\n",
              "      <td>866.169729</td>\n",
              "      <td>3.702609e+07</td>\n",
              "      <td>12.104000</td>\n",
              "      <td>22.086434</td>\n",
              "      <td>1.375323e+08</td>\n",
              "    </tr>\n",
              "    <tr>\n",
              "      <th>min</th>\n",
              "      <td>1.000000</td>\n",
              "      <td>0.000000e+00</td>\n",
              "      <td>0.000001</td>\n",
              "      <td>0.000000</td>\n",
              "      <td>1.000000e+00</td>\n",
              "    </tr>\n",
              "    <tr>\n",
              "      <th>25%</th>\n",
              "      <td>750.750000</td>\n",
              "      <td>0.000000e+00</td>\n",
              "      <td>4.018053</td>\n",
              "      <td>94.000000</td>\n",
              "      <td>2.379808e+06</td>\n",
              "    </tr>\n",
              "    <tr>\n",
              "      <th>50%</th>\n",
              "      <td>1500.500000</td>\n",
              "      <td>8.000000e+06</td>\n",
              "      <td>7.374861</td>\n",
              "      <td>104.000000</td>\n",
              "      <td>1.680707e+07</td>\n",
              "    </tr>\n",
              "    <tr>\n",
              "      <th>75%</th>\n",
              "      <td>2250.250000</td>\n",
              "      <td>2.900000e+07</td>\n",
              "      <td>10.890983</td>\n",
              "      <td>118.000000</td>\n",
              "      <td>6.891920e+07</td>\n",
              "    </tr>\n",
              "    <tr>\n",
              "      <th>max</th>\n",
              "      <td>3000.000000</td>\n",
              "      <td>3.800000e+08</td>\n",
              "      <td>294.337037</td>\n",
              "      <td>338.000000</td>\n",
              "      <td>1.519558e+09</td>\n",
              "    </tr>\n",
              "  </tbody>\n",
              "</table>\n",
              "</div>"
            ],
            "text/plain": [
              "                id        budget   popularity      runtime       revenue\n",
              "count  3000.000000  3.000000e+03  3000.000000  2998.000000  3.000000e+03\n",
              "mean   1500.500000  2.253133e+07     8.463274   107.856571  6.672585e+07\n",
              "std     866.169729  3.702609e+07    12.104000    22.086434  1.375323e+08\n",
              "min       1.000000  0.000000e+00     0.000001     0.000000  1.000000e+00\n",
              "25%     750.750000  0.000000e+00     4.018053    94.000000  2.379808e+06\n",
              "50%    1500.500000  8.000000e+06     7.374861   104.000000  1.680707e+07\n",
              "75%    2250.250000  2.900000e+07    10.890983   118.000000  6.891920e+07\n",
              "max    3000.000000  3.800000e+08   294.337037   338.000000  1.519558e+09"
            ]
          },
          "execution_count": 132,
          "metadata": {},
          "output_type": "execute_result"
        }
      ],
      "source": [
        "box_office.describe()"
      ]
    },
    {
      "cell_type": "code",
      "execution_count": null,
      "id": "a9535aca",
      "metadata": {
        "id": "a9535aca",
        "outputId": "b9cb6e90-0e99-42d2-dac7-169571b11c80"
      },
      "outputs": [
        {
          "data": {
            "text/html": [
              "<div>\n",
              "<style scoped>\n",
              "    .dataframe tbody tr th:only-of-type {\n",
              "        vertical-align: middle;\n",
              "    }\n",
              "\n",
              "    .dataframe tbody tr th {\n",
              "        vertical-align: top;\n",
              "    }\n",
              "\n",
              "    .dataframe thead th {\n",
              "        text-align: right;\n",
              "    }\n",
              "</style>\n",
              "<table border=\"1\" class=\"dataframe\">\n",
              "  <thead>\n",
              "    <tr style=\"text-align: right;\">\n",
              "      <th></th>\n",
              "      <th>id</th>\n",
              "      <th>belongs_to_collection</th>\n",
              "      <th>budget</th>\n",
              "      <th>genres</th>\n",
              "      <th>homepage</th>\n",
              "      <th>imdb_id</th>\n",
              "      <th>original_language</th>\n",
              "      <th>original_title</th>\n",
              "      <th>overview</th>\n",
              "      <th>popularity</th>\n",
              "      <th>...</th>\n",
              "      <th>release_date</th>\n",
              "      <th>runtime</th>\n",
              "      <th>spoken_languages</th>\n",
              "      <th>status</th>\n",
              "      <th>tagline</th>\n",
              "      <th>title</th>\n",
              "      <th>Keywords</th>\n",
              "      <th>cast</th>\n",
              "      <th>crew</th>\n",
              "      <th>revenue</th>\n",
              "    </tr>\n",
              "  </thead>\n",
              "  <tbody>\n",
              "    <tr>\n",
              "      <th>0</th>\n",
              "      <td>1</td>\n",
              "      <td>[{'id': 313576, 'name': 'Hot Tub Time Machine ...</td>\n",
              "      <td>14000000</td>\n",
              "      <td>[{'id': 35, 'name': 'Comedy'}]</td>\n",
              "      <td>NaN</td>\n",
              "      <td>tt2637294</td>\n",
              "      <td>en</td>\n",
              "      <td>Hot Tub Time Machine 2</td>\n",
              "      <td>When Lou, who has become the \"father of the In...</td>\n",
              "      <td>6.575393</td>\n",
              "      <td>...</td>\n",
              "      <td>2/20/15</td>\n",
              "      <td>93.0</td>\n",
              "      <td>[{'iso_639_1': 'en', 'name': 'English'}]</td>\n",
              "      <td>Released</td>\n",
              "      <td>The Laws of Space and Time are About to be Vio...</td>\n",
              "      <td>Hot Tub Time Machine 2</td>\n",
              "      <td>[{'id': 4379, 'name': 'time travel'}, {'id': 9...</td>\n",
              "      <td>[{'cast_id': 4, 'character': 'Lou', 'credit_id...</td>\n",
              "      <td>[{'credit_id': '59ac067c92514107af02c8c8', 'de...</td>\n",
              "      <td>12314651</td>\n",
              "    </tr>\n",
              "    <tr>\n",
              "      <th>1</th>\n",
              "      <td>2</td>\n",
              "      <td>[{'id': 107674, 'name': 'The Princess Diaries ...</td>\n",
              "      <td>40000000</td>\n",
              "      <td>[{'id': 35, 'name': 'Comedy'}, {'id': 18, 'nam...</td>\n",
              "      <td>NaN</td>\n",
              "      <td>tt0368933</td>\n",
              "      <td>en</td>\n",
              "      <td>The Princess Diaries 2: Royal Engagement</td>\n",
              "      <td>Mia Thermopolis is now a college graduate and ...</td>\n",
              "      <td>8.248895</td>\n",
              "      <td>...</td>\n",
              "      <td>8/6/04</td>\n",
              "      <td>113.0</td>\n",
              "      <td>[{'iso_639_1': 'en', 'name': 'English'}]</td>\n",
              "      <td>Released</td>\n",
              "      <td>It can take a lifetime to find true love; she'...</td>\n",
              "      <td>The Princess Diaries 2: Royal Engagement</td>\n",
              "      <td>[{'id': 2505, 'name': 'coronation'}, {'id': 42...</td>\n",
              "      <td>[{'cast_id': 1, 'character': 'Mia Thermopolis'...</td>\n",
              "      <td>[{'credit_id': '52fe43fe9251416c7502563d', 'de...</td>\n",
              "      <td>95149435</td>\n",
              "    </tr>\n",
              "    <tr>\n",
              "      <th>2</th>\n",
              "      <td>3</td>\n",
              "      <td>NaN</td>\n",
              "      <td>3300000</td>\n",
              "      <td>[{'id': 18, 'name': 'Drama'}]</td>\n",
              "      <td>http://sonyclassics.com/whiplash/</td>\n",
              "      <td>tt2582802</td>\n",
              "      <td>en</td>\n",
              "      <td>Whiplash</td>\n",
              "      <td>Under the direction of a ruthless instructor, ...</td>\n",
              "      <td>64.299990</td>\n",
              "      <td>...</td>\n",
              "      <td>10/10/14</td>\n",
              "      <td>105.0</td>\n",
              "      <td>[{'iso_639_1': 'en', 'name': 'English'}]</td>\n",
              "      <td>Released</td>\n",
              "      <td>The road to greatness can take you to the edge.</td>\n",
              "      <td>Whiplash</td>\n",
              "      <td>[{'id': 1416, 'name': 'jazz'}, {'id': 1523, 'n...</td>\n",
              "      <td>[{'cast_id': 5, 'character': 'Andrew Neimann',...</td>\n",
              "      <td>[{'credit_id': '54d5356ec3a3683ba0000039', 'de...</td>\n",
              "      <td>13092000</td>\n",
              "    </tr>\n",
              "    <tr>\n",
              "      <th>3</th>\n",
              "      <td>4</td>\n",
              "      <td>NaN</td>\n",
              "      <td>1200000</td>\n",
              "      <td>[{'id': 53, 'name': 'Thriller'}, {'id': 18, 'n...</td>\n",
              "      <td>http://kahaanithefilm.com/</td>\n",
              "      <td>tt1821480</td>\n",
              "      <td>hi</td>\n",
              "      <td>Kahaani</td>\n",
              "      <td>Vidya Bagchi (Vidya Balan) arrives in Kolkata ...</td>\n",
              "      <td>3.174936</td>\n",
              "      <td>...</td>\n",
              "      <td>3/9/12</td>\n",
              "      <td>122.0</td>\n",
              "      <td>[{'iso_639_1': 'en', 'name': 'English'}, {'iso...</td>\n",
              "      <td>Released</td>\n",
              "      <td>NaN</td>\n",
              "      <td>Kahaani</td>\n",
              "      <td>[{'id': 10092, 'name': 'mystery'}, {'id': 1054...</td>\n",
              "      <td>[{'cast_id': 1, 'character': 'Vidya Bagchi', '...</td>\n",
              "      <td>[{'credit_id': '52fe48779251416c9108d6eb', 'de...</td>\n",
              "      <td>16000000</td>\n",
              "    </tr>\n",
              "    <tr>\n",
              "      <th>4</th>\n",
              "      <td>5</td>\n",
              "      <td>NaN</td>\n",
              "      <td>0</td>\n",
              "      <td>[{'id': 28, 'name': 'Action'}, {'id': 53, 'nam...</td>\n",
              "      <td>NaN</td>\n",
              "      <td>tt1380152</td>\n",
              "      <td>ko</td>\n",
              "      <td>마린보이</td>\n",
              "      <td>Marine Boy is the story of a former national s...</td>\n",
              "      <td>1.148070</td>\n",
              "      <td>...</td>\n",
              "      <td>2/5/09</td>\n",
              "      <td>118.0</td>\n",
              "      <td>[{'iso_639_1': 'ko', 'name': '한국어/조선말'}]</td>\n",
              "      <td>Released</td>\n",
              "      <td>NaN</td>\n",
              "      <td>Marine Boy</td>\n",
              "      <td>NaN</td>\n",
              "      <td>[{'cast_id': 3, 'character': 'Chun-soo', 'cred...</td>\n",
              "      <td>[{'credit_id': '52fe464b9251416c75073b43', 'de...</td>\n",
              "      <td>3923970</td>\n",
              "    </tr>\n",
              "  </tbody>\n",
              "</table>\n",
              "<p>5 rows × 23 columns</p>\n",
              "</div>"
            ],
            "text/plain": [
              "   id                              belongs_to_collection    budget  \\\n",
              "0   1  [{'id': 313576, 'name': 'Hot Tub Time Machine ...  14000000   \n",
              "1   2  [{'id': 107674, 'name': 'The Princess Diaries ...  40000000   \n",
              "2   3                                                NaN   3300000   \n",
              "3   4                                                NaN   1200000   \n",
              "4   5                                                NaN         0   \n",
              "\n",
              "                                              genres  \\\n",
              "0                     [{'id': 35, 'name': 'Comedy'}]   \n",
              "1  [{'id': 35, 'name': 'Comedy'}, {'id': 18, 'nam...   \n",
              "2                      [{'id': 18, 'name': 'Drama'}]   \n",
              "3  [{'id': 53, 'name': 'Thriller'}, {'id': 18, 'n...   \n",
              "4  [{'id': 28, 'name': 'Action'}, {'id': 53, 'nam...   \n",
              "\n",
              "                            homepage    imdb_id original_language  \\\n",
              "0                                NaN  tt2637294                en   \n",
              "1                                NaN  tt0368933                en   \n",
              "2  http://sonyclassics.com/whiplash/  tt2582802                en   \n",
              "3         http://kahaanithefilm.com/  tt1821480                hi   \n",
              "4                                NaN  tt1380152                ko   \n",
              "\n",
              "                             original_title  \\\n",
              "0                    Hot Tub Time Machine 2   \n",
              "1  The Princess Diaries 2: Royal Engagement   \n",
              "2                                  Whiplash   \n",
              "3                                   Kahaani   \n",
              "4                                      마린보이   \n",
              "\n",
              "                                            overview  popularity  ...  \\\n",
              "0  When Lou, who has become the \"father of the In...    6.575393  ...   \n",
              "1  Mia Thermopolis is now a college graduate and ...    8.248895  ...   \n",
              "2  Under the direction of a ruthless instructor, ...   64.299990  ...   \n",
              "3  Vidya Bagchi (Vidya Balan) arrives in Kolkata ...    3.174936  ...   \n",
              "4  Marine Boy is the story of a former national s...    1.148070  ...   \n",
              "\n",
              "  release_date runtime                                   spoken_languages  \\\n",
              "0      2/20/15    93.0           [{'iso_639_1': 'en', 'name': 'English'}]   \n",
              "1       8/6/04   113.0           [{'iso_639_1': 'en', 'name': 'English'}]   \n",
              "2     10/10/14   105.0           [{'iso_639_1': 'en', 'name': 'English'}]   \n",
              "3       3/9/12   122.0  [{'iso_639_1': 'en', 'name': 'English'}, {'iso...   \n",
              "4       2/5/09   118.0           [{'iso_639_1': 'ko', 'name': '한국어/조선말'}]   \n",
              "\n",
              "     status                                            tagline  \\\n",
              "0  Released  The Laws of Space and Time are About to be Vio...   \n",
              "1  Released  It can take a lifetime to find true love; she'...   \n",
              "2  Released    The road to greatness can take you to the edge.   \n",
              "3  Released                                                NaN   \n",
              "4  Released                                                NaN   \n",
              "\n",
              "                                      title  \\\n",
              "0                    Hot Tub Time Machine 2   \n",
              "1  The Princess Diaries 2: Royal Engagement   \n",
              "2                                  Whiplash   \n",
              "3                                   Kahaani   \n",
              "4                                Marine Boy   \n",
              "\n",
              "                                            Keywords  \\\n",
              "0  [{'id': 4379, 'name': 'time travel'}, {'id': 9...   \n",
              "1  [{'id': 2505, 'name': 'coronation'}, {'id': 42...   \n",
              "2  [{'id': 1416, 'name': 'jazz'}, {'id': 1523, 'n...   \n",
              "3  [{'id': 10092, 'name': 'mystery'}, {'id': 1054...   \n",
              "4                                                NaN   \n",
              "\n",
              "                                                cast  \\\n",
              "0  [{'cast_id': 4, 'character': 'Lou', 'credit_id...   \n",
              "1  [{'cast_id': 1, 'character': 'Mia Thermopolis'...   \n",
              "2  [{'cast_id': 5, 'character': 'Andrew Neimann',...   \n",
              "3  [{'cast_id': 1, 'character': 'Vidya Bagchi', '...   \n",
              "4  [{'cast_id': 3, 'character': 'Chun-soo', 'cred...   \n",
              "\n",
              "                                                crew   revenue  \n",
              "0  [{'credit_id': '59ac067c92514107af02c8c8', 'de...  12314651  \n",
              "1  [{'credit_id': '52fe43fe9251416c7502563d', 'de...  95149435  \n",
              "2  [{'credit_id': '54d5356ec3a3683ba0000039', 'de...  13092000  \n",
              "3  [{'credit_id': '52fe48779251416c9108d6eb', 'de...  16000000  \n",
              "4  [{'credit_id': '52fe464b9251416c75073b43', 'de...   3923970  \n",
              "\n",
              "[5 rows x 23 columns]"
            ]
          },
          "execution_count": 133,
          "metadata": {},
          "output_type": "execute_result"
        }
      ],
      "source": [
        "box_office.head()"
      ]
    },
    {
      "cell_type": "markdown",
      "id": "7215574f",
      "metadata": {
        "id": "7215574f"
      },
      "source": [
        "We dropped some columns that weren't so necessary and trained our model using the ones we thought were most important."
      ]
    },
    {
      "cell_type": "code",
      "execution_count": null,
      "id": "c5307291",
      "metadata": {
        "id": "c5307291"
      },
      "outputs": [],
      "source": [
        "box_office = box_office.drop(columns=['id','belongs_to_collection','homepage','original_title','poster_path','production_companies','overview','imdb_id','production_countries','tagline','Keywords','cast','crew'], axis=1)"
      ]
    },
    {
      "cell_type": "code",
      "execution_count": null,
      "id": "15783d0d",
      "metadata": {
        "id": "15783d0d",
        "outputId": "43c540c2-80c9-4c33-fd0e-321365a74959"
      },
      "outputs": [
        {
          "data": {
            "text/plain": [
              "Index(['budget', 'genres', 'original_language', 'popularity', 'release_date',\n",
              "       'runtime', 'spoken_languages', 'status', 'title', 'revenue'],\n",
              "      dtype='object')"
            ]
          },
          "execution_count": 135,
          "metadata": {},
          "output_type": "execute_result"
        }
      ],
      "source": [
        "# Prints the columns available\n",
        "box_office.columns"
      ]
    },
    {
      "cell_type": "markdown",
      "id": "ce8b0c60",
      "metadata": {
        "id": "ce8b0c60"
      },
      "source": [
        "The 'release_date' column is a date time object and it was read as a string object which so we converted it to a date time object using Pandas 'pd.to_datetime()'. Then we added the columns for the day, month and year. After which we dropped the 'release_date' column as it was no longer relevant."
      ]
    },
    {
      "cell_type": "code",
      "execution_count": null,
      "id": "f0cada61",
      "metadata": {
        "id": "f0cada61"
      },
      "outputs": [],
      "source": [
        "box_office['release_date'] = pd.to_datetime(box_office['release_date'])"
      ]
    },
    {
      "cell_type": "code",
      "execution_count": null,
      "id": "51e53f03",
      "metadata": {
        "id": "51e53f03"
      },
      "outputs": [],
      "source": [
        "box_office['day'] = box_office['release_date'].dt.day"
      ]
    },
    {
      "cell_type": "code",
      "execution_count": null,
      "id": "4131e264",
      "metadata": {
        "id": "4131e264"
      },
      "outputs": [],
      "source": [
        "box_office['month'] = box_office['release_date'].dt.month"
      ]
    },
    {
      "cell_type": "code",
      "execution_count": null,
      "id": "202db80d",
      "metadata": {
        "id": "202db80d"
      },
      "outputs": [],
      "source": [
        "box_office['year'] = box_office['release_date'].dt.year"
      ]
    },
    {
      "cell_type": "code",
      "execution_count": null,
      "id": "6507a516",
      "metadata": {
        "id": "6507a516"
      },
      "outputs": [],
      "source": [
        "box_office = box_office.drop(['release_date'], axis=1)"
      ]
    },
    {
      "cell_type": "code",
      "execution_count": null,
      "id": "ec98ea36",
      "metadata": {
        "id": "ec98ea36",
        "outputId": "f2a89cb6-9107-4ad1-d5ae-a9f43dec1fb0"
      },
      "outputs": [
        {
          "data": {
            "text/html": [
              "<div>\n",
              "<style scoped>\n",
              "    .dataframe tbody tr th:only-of-type {\n",
              "        vertical-align: middle;\n",
              "    }\n",
              "\n",
              "    .dataframe tbody tr th {\n",
              "        vertical-align: top;\n",
              "    }\n",
              "\n",
              "    .dataframe thead th {\n",
              "        text-align: right;\n",
              "    }\n",
              "</style>\n",
              "<table border=\"1\" class=\"dataframe\">\n",
              "  <thead>\n",
              "    <tr style=\"text-align: right;\">\n",
              "      <th></th>\n",
              "      <th>budget</th>\n",
              "      <th>genres</th>\n",
              "      <th>original_language</th>\n",
              "      <th>popularity</th>\n",
              "      <th>runtime</th>\n",
              "      <th>spoken_languages</th>\n",
              "      <th>status</th>\n",
              "      <th>title</th>\n",
              "      <th>revenue</th>\n",
              "      <th>day</th>\n",
              "      <th>month</th>\n",
              "      <th>year</th>\n",
              "    </tr>\n",
              "  </thead>\n",
              "  <tbody>\n",
              "    <tr>\n",
              "      <th>0</th>\n",
              "      <td>14000000</td>\n",
              "      <td>[{'id': 35, 'name': 'Comedy'}]</td>\n",
              "      <td>en</td>\n",
              "      <td>6.575393</td>\n",
              "      <td>93.0</td>\n",
              "      <td>[{'iso_639_1': 'en', 'name': 'English'}]</td>\n",
              "      <td>Released</td>\n",
              "      <td>Hot Tub Time Machine 2</td>\n",
              "      <td>12314651</td>\n",
              "      <td>20</td>\n",
              "      <td>2</td>\n",
              "      <td>2015</td>\n",
              "    </tr>\n",
              "    <tr>\n",
              "      <th>1</th>\n",
              "      <td>40000000</td>\n",
              "      <td>[{'id': 35, 'name': 'Comedy'}, {'id': 18, 'nam...</td>\n",
              "      <td>en</td>\n",
              "      <td>8.248895</td>\n",
              "      <td>113.0</td>\n",
              "      <td>[{'iso_639_1': 'en', 'name': 'English'}]</td>\n",
              "      <td>Released</td>\n",
              "      <td>The Princess Diaries 2: Royal Engagement</td>\n",
              "      <td>95149435</td>\n",
              "      <td>6</td>\n",
              "      <td>8</td>\n",
              "      <td>2004</td>\n",
              "    </tr>\n",
              "    <tr>\n",
              "      <th>2</th>\n",
              "      <td>3300000</td>\n",
              "      <td>[{'id': 18, 'name': 'Drama'}]</td>\n",
              "      <td>en</td>\n",
              "      <td>64.299990</td>\n",
              "      <td>105.0</td>\n",
              "      <td>[{'iso_639_1': 'en', 'name': 'English'}]</td>\n",
              "      <td>Released</td>\n",
              "      <td>Whiplash</td>\n",
              "      <td>13092000</td>\n",
              "      <td>10</td>\n",
              "      <td>10</td>\n",
              "      <td>2014</td>\n",
              "    </tr>\n",
              "    <tr>\n",
              "      <th>3</th>\n",
              "      <td>1200000</td>\n",
              "      <td>[{'id': 53, 'name': 'Thriller'}, {'id': 18, 'n...</td>\n",
              "      <td>hi</td>\n",
              "      <td>3.174936</td>\n",
              "      <td>122.0</td>\n",
              "      <td>[{'iso_639_1': 'en', 'name': 'English'}, {'iso...</td>\n",
              "      <td>Released</td>\n",
              "      <td>Kahaani</td>\n",
              "      <td>16000000</td>\n",
              "      <td>9</td>\n",
              "      <td>3</td>\n",
              "      <td>2012</td>\n",
              "    </tr>\n",
              "    <tr>\n",
              "      <th>4</th>\n",
              "      <td>0</td>\n",
              "      <td>[{'id': 28, 'name': 'Action'}, {'id': 53, 'nam...</td>\n",
              "      <td>ko</td>\n",
              "      <td>1.148070</td>\n",
              "      <td>118.0</td>\n",
              "      <td>[{'iso_639_1': 'ko', 'name': '한국어/조선말'}]</td>\n",
              "      <td>Released</td>\n",
              "      <td>Marine Boy</td>\n",
              "      <td>3923970</td>\n",
              "      <td>5</td>\n",
              "      <td>2</td>\n",
              "      <td>2009</td>\n",
              "    </tr>\n",
              "  </tbody>\n",
              "</table>\n",
              "</div>"
            ],
            "text/plain": [
              "     budget                                             genres  \\\n",
              "0  14000000                     [{'id': 35, 'name': 'Comedy'}]   \n",
              "1  40000000  [{'id': 35, 'name': 'Comedy'}, {'id': 18, 'nam...   \n",
              "2   3300000                      [{'id': 18, 'name': 'Drama'}]   \n",
              "3   1200000  [{'id': 53, 'name': 'Thriller'}, {'id': 18, 'n...   \n",
              "4         0  [{'id': 28, 'name': 'Action'}, {'id': 53, 'nam...   \n",
              "\n",
              "  original_language  popularity  runtime  \\\n",
              "0                en    6.575393     93.0   \n",
              "1                en    8.248895    113.0   \n",
              "2                en   64.299990    105.0   \n",
              "3                hi    3.174936    122.0   \n",
              "4                ko    1.148070    118.0   \n",
              "\n",
              "                                    spoken_languages    status  \\\n",
              "0           [{'iso_639_1': 'en', 'name': 'English'}]  Released   \n",
              "1           [{'iso_639_1': 'en', 'name': 'English'}]  Released   \n",
              "2           [{'iso_639_1': 'en', 'name': 'English'}]  Released   \n",
              "3  [{'iso_639_1': 'en', 'name': 'English'}, {'iso...  Released   \n",
              "4           [{'iso_639_1': 'ko', 'name': '한국어/조선말'}]  Released   \n",
              "\n",
              "                                      title   revenue  day  month  year  \n",
              "0                    Hot Tub Time Machine 2  12314651   20      2  2015  \n",
              "1  The Princess Diaries 2: Royal Engagement  95149435    6      8  2004  \n",
              "2                                  Whiplash  13092000   10     10  2014  \n",
              "3                                   Kahaani  16000000    9      3  2012  \n",
              "4                                Marine Boy   3923970    5      2  2009  "
            ]
          },
          "execution_count": 141,
          "metadata": {},
          "output_type": "execute_result"
        }
      ],
      "source": [
        "box_office.head()"
      ]
    },
    {
      "cell_type": "markdown",
      "id": "f94048d6",
      "metadata": {
        "id": "f94048d6"
      },
      "source": [
        "After dropping some columns we still have a few columns with missing values so we filled those columns using either their mean or mode."
      ]
    },
    {
      "cell_type": "code",
      "execution_count": null,
      "id": "f47ab3ac",
      "metadata": {
        "id": "f47ab3ac",
        "outputId": "424e2cdd-9818-436c-e708-7aab5141f091"
      },
      "outputs": [
        {
          "data": {
            "text/plain": [
              "budget                0\n",
              "genres                7\n",
              "original_language     0\n",
              "popularity            0\n",
              "runtime               2\n",
              "spoken_languages     20\n",
              "status                0\n",
              "title                 0\n",
              "revenue               0\n",
              "day                   0\n",
              "month                 0\n",
              "year                  0\n",
              "dtype: int64"
            ]
          },
          "execution_count": 142,
          "metadata": {},
          "output_type": "execute_result"
        }
      ],
      "source": [
        "box_office.isna().sum()"
      ]
    },
    {
      "cell_type": "code",
      "execution_count": null,
      "id": "83fea4dc",
      "metadata": {
        "id": "83fea4dc",
        "outputId": "5d732514-d3e5-4938-958d-adcd91fcb08a"
      },
      "outputs": [
        {
          "data": {
            "text/plain": [
              "\"[{'id': 18, 'name': 'Drama'}]\""
            ]
          },
          "execution_count": 143,
          "metadata": {},
          "output_type": "execute_result"
        }
      ],
      "source": [
        "box_office['genres'].mode()[0]"
      ]
    },
    {
      "cell_type": "code",
      "execution_count": null,
      "id": "e7ab5259",
      "metadata": {
        "id": "e7ab5259"
      },
      "outputs": [],
      "source": [
        "box_office['genres'].fillna(box_office['genres'].mode()[0], inplace=True )"
      ]
    },
    {
      "cell_type": "code",
      "execution_count": null,
      "id": "950547bd",
      "metadata": {
        "id": "950547bd",
        "outputId": "c28ab48e-ac02-4cf1-8ef6-d797558363e9"
      },
      "outputs": [
        {
          "data": {
            "text/plain": [
              "107.85657104736491"
            ]
          },
          "execution_count": 145,
          "metadata": {},
          "output_type": "execute_result"
        }
      ],
      "source": [
        "box_office['runtime'].mean()"
      ]
    },
    {
      "cell_type": "code",
      "execution_count": null,
      "id": "5cdefe73",
      "metadata": {
        "id": "5cdefe73"
      },
      "outputs": [],
      "source": [
        "box_office['runtime'].fillna(box_office['runtime'].mean(), inplace=True)"
      ]
    },
    {
      "cell_type": "code",
      "execution_count": null,
      "id": "5423b631",
      "metadata": {
        "id": "5423b631",
        "outputId": "b7819e53-45bd-47b8-993a-6f43dcaf814e"
      },
      "outputs": [
        {
          "data": {
            "text/plain": [
              "\"[{'iso_639_1': 'en', 'name': 'English'}]\""
            ]
          },
          "execution_count": 147,
          "metadata": {},
          "output_type": "execute_result"
        }
      ],
      "source": [
        "box_office['spoken_languages'].mode()[0]"
      ]
    },
    {
      "cell_type": "code",
      "execution_count": null,
      "id": "ac808c97",
      "metadata": {
        "id": "ac808c97"
      },
      "outputs": [],
      "source": [
        "box_office['spoken_languages'].fillna(box_office['spoken_languages'].mode()[0], inplace=True)"
      ]
    },
    {
      "cell_type": "code",
      "execution_count": null,
      "id": "5b391a7d",
      "metadata": {
        "id": "5b391a7d",
        "outputId": "47116893-e966-4e57-daf8-34bc7640919c"
      },
      "outputs": [
        {
          "data": {
            "text/plain": [
              "budget               0\n",
              "genres               0\n",
              "original_language    0\n",
              "popularity           0\n",
              "runtime              0\n",
              "spoken_languages     0\n",
              "status               0\n",
              "title                0\n",
              "revenue              0\n",
              "day                  0\n",
              "month                0\n",
              "year                 0\n",
              "dtype: int64"
            ]
          },
          "execution_count": 149,
          "metadata": {},
          "output_type": "execute_result"
        }
      ],
      "source": [
        "box_office.isna().sum()"
      ]
    },
    {
      "cell_type": "code",
      "execution_count": null,
      "id": "28b5d1be",
      "metadata": {
        "id": "28b5d1be",
        "outputId": "5c2f5573-1e08-472f-be0d-99bee9a0f8f5"
      },
      "outputs": [
        {
          "data": {
            "text/html": [
              "<div>\n",
              "<style scoped>\n",
              "    .dataframe tbody tr th:only-of-type {\n",
              "        vertical-align: middle;\n",
              "    }\n",
              "\n",
              "    .dataframe tbody tr th {\n",
              "        vertical-align: top;\n",
              "    }\n",
              "\n",
              "    .dataframe thead th {\n",
              "        text-align: right;\n",
              "    }\n",
              "</style>\n",
              "<table border=\"1\" class=\"dataframe\">\n",
              "  <thead>\n",
              "    <tr style=\"text-align: right;\">\n",
              "      <th></th>\n",
              "      <th>budget</th>\n",
              "      <th>popularity</th>\n",
              "      <th>runtime</th>\n",
              "      <th>revenue</th>\n",
              "      <th>day</th>\n",
              "      <th>month</th>\n",
              "      <th>year</th>\n",
              "    </tr>\n",
              "  </thead>\n",
              "  <tbody>\n",
              "    <tr>\n",
              "      <th>count</th>\n",
              "      <td>3.000000e+03</td>\n",
              "      <td>3000.000000</td>\n",
              "      <td>3000.000000</td>\n",
              "      <td>3.000000e+03</td>\n",
              "      <td>3000.000000</td>\n",
              "      <td>3000.000000</td>\n",
              "      <td>3000.000000</td>\n",
              "    </tr>\n",
              "    <tr>\n",
              "      <th>mean</th>\n",
              "      <td>2.253133e+07</td>\n",
              "      <td>8.463274</td>\n",
              "      <td>107.856571</td>\n",
              "      <td>6.672585e+07</td>\n",
              "      <td>15.046333</td>\n",
              "      <td>6.775333</td>\n",
              "      <td>2005.313000</td>\n",
              "    </tr>\n",
              "    <tr>\n",
              "      <th>std</th>\n",
              "      <td>3.702609e+07</td>\n",
              "      <td>12.104000</td>\n",
              "      <td>22.079069</td>\n",
              "      <td>1.375323e+08</td>\n",
              "      <td>8.632981</td>\n",
              "      <td>3.409115</td>\n",
              "      <td>16.182531</td>\n",
              "    </tr>\n",
              "    <tr>\n",
              "      <th>min</th>\n",
              "      <td>0.000000e+00</td>\n",
              "      <td>0.000001</td>\n",
              "      <td>0.000000</td>\n",
              "      <td>1.000000e+00</td>\n",
              "      <td>1.000000</td>\n",
              "      <td>1.000000</td>\n",
              "      <td>1972.000000</td>\n",
              "    </tr>\n",
              "    <tr>\n",
              "      <th>25%</th>\n",
              "      <td>0.000000e+00</td>\n",
              "      <td>4.018053</td>\n",
              "      <td>94.000000</td>\n",
              "      <td>2.379808e+06</td>\n",
              "      <td>8.000000</td>\n",
              "      <td>4.000000</td>\n",
              "      <td>1996.000000</td>\n",
              "    </tr>\n",
              "    <tr>\n",
              "      <th>50%</th>\n",
              "      <td>8.000000e+06</td>\n",
              "      <td>7.374861</td>\n",
              "      <td>104.000000</td>\n",
              "      <td>1.680707e+07</td>\n",
              "      <td>15.000000</td>\n",
              "      <td>7.000000</td>\n",
              "      <td>2006.000000</td>\n",
              "    </tr>\n",
              "    <tr>\n",
              "      <th>75%</th>\n",
              "      <td>2.900000e+07</td>\n",
              "      <td>10.890983</td>\n",
              "      <td>118.000000</td>\n",
              "      <td>6.891920e+07</td>\n",
              "      <td>22.000000</td>\n",
              "      <td>10.000000</td>\n",
              "      <td>2012.000000</td>\n",
              "    </tr>\n",
              "    <tr>\n",
              "      <th>max</th>\n",
              "      <td>3.800000e+08</td>\n",
              "      <td>294.337037</td>\n",
              "      <td>338.000000</td>\n",
              "      <td>1.519558e+09</td>\n",
              "      <td>31.000000</td>\n",
              "      <td>12.000000</td>\n",
              "      <td>2071.000000</td>\n",
              "    </tr>\n",
              "  </tbody>\n",
              "</table>\n",
              "</div>"
            ],
            "text/plain": [
              "             budget   popularity      runtime       revenue          day  \\\n",
              "count  3.000000e+03  3000.000000  3000.000000  3.000000e+03  3000.000000   \n",
              "mean   2.253133e+07     8.463274   107.856571  6.672585e+07    15.046333   \n",
              "std    3.702609e+07    12.104000    22.079069  1.375323e+08     8.632981   \n",
              "min    0.000000e+00     0.000001     0.000000  1.000000e+00     1.000000   \n",
              "25%    0.000000e+00     4.018053    94.000000  2.379808e+06     8.000000   \n",
              "50%    8.000000e+06     7.374861   104.000000  1.680707e+07    15.000000   \n",
              "75%    2.900000e+07    10.890983   118.000000  6.891920e+07    22.000000   \n",
              "max    3.800000e+08   294.337037   338.000000  1.519558e+09    31.000000   \n",
              "\n",
              "             month         year  \n",
              "count  3000.000000  3000.000000  \n",
              "mean      6.775333  2005.313000  \n",
              "std       3.409115    16.182531  \n",
              "min       1.000000  1972.000000  \n",
              "25%       4.000000  1996.000000  \n",
              "50%       7.000000  2006.000000  \n",
              "75%      10.000000  2012.000000  \n",
              "max      12.000000  2071.000000  "
            ]
          },
          "execution_count": 150,
          "metadata": {},
          "output_type": "execute_result"
        }
      ],
      "source": [
        "box_office.describe()"
      ]
    },
    {
      "cell_type": "code",
      "execution_count": null,
      "id": "10c17f17",
      "metadata": {
        "id": "10c17f17",
        "outputId": "36590468-d16c-42d9-9fa4-f7da17d63f1b"
      },
      "outputs": [
        {
          "data": {
            "text/plain": [
              "count    3.000000e+03\n",
              "mean     6.672585e+07\n",
              "std      1.375323e+08\n",
              "min      1.000000e+00\n",
              "25%      2.379808e+06\n",
              "50%      1.680707e+07\n",
              "75%      6.891920e+07\n",
              "max      1.519558e+09\n",
              "Name: revenue, dtype: float64"
            ]
          },
          "execution_count": 151,
          "metadata": {},
          "output_type": "execute_result"
        }
      ],
      "source": [
        "box_office['revenue'].describe()"
      ]
    },
    {
      "cell_type": "code",
      "execution_count": null,
      "id": "9d76f3da",
      "metadata": {
        "id": "9d76f3da",
        "outputId": "c5a87379-315e-4f4a-a29f-42f7575d878c"
      },
      "outputs": [
        {
          "data": {
            "text/plain": [
              "6000000     10\n",
              "11000000    10\n",
              "10000000     9\n",
              "500000       8\n",
              "12000000     6\n",
              "Name: revenue, dtype: int64"
            ]
          },
          "execution_count": 152,
          "metadata": {},
          "output_type": "execute_result"
        }
      ],
      "source": [
        "#10 most popular revenue for movies\n",
        "\n",
        "box_office['revenue'].value_counts().sort_values(ascending=False).head(5) "
      ]
    },
    {
      "cell_type": "code",
      "execution_count": null,
      "id": "88bb8c03",
      "metadata": {
        "id": "88bb8c03",
        "outputId": "99ad2501-440b-4cb8-fbc8-d76e5ed1fcc5"
      },
      "outputs": [
        {
          "data": {
            "text/plain": [
              "array([ 12314651,  95149435,  13092000, ...,  89456761, 171963386,\n",
              "        82087155], dtype=int64)"
            ]
          },
          "execution_count": 156,
          "metadata": {},
          "output_type": "execute_result"
        }
      ],
      "source": [
        "box_office['revenue'].unique()"
      ]
    },
    {
      "cell_type": "code",
      "execution_count": null,
      "id": "d4643ad1",
      "metadata": {
        "id": "d4643ad1",
        "outputId": "df2591cc-bc4b-411d-80eb-6ea394fa37a2"
      },
      "outputs": [
        {
          "name": "stderr",
          "output_type": "stream",
          "text": [
            "C:\\ProgramData\\Anaconda3\\lib\\site-packages\\seaborn\\_decorators.py:36: FutureWarning: Pass the following variable as a keyword arg: x. From version 0.12, the only valid positional argument will be `data`, and passing other arguments without an explicit keyword will result in an error or misinterpretation.\n",
            "  warnings.warn(\n"
          ]
        },
        {
          "data": {
            "text/plain": [
              "<AxesSubplot:xlabel='revenue', ylabel='count'>"
            ]
          },
          "execution_count": 154,
          "metadata": {},
          "output_type": "execute_result"
        },
        {
          "data": {
            "image/png": "[encoded data removed]",
            "text/plain": [
              "<Figure size 432x288 with 1 Axes>"
            ]
          },
          "metadata": {
            "needs_background": "light"
          },
          "output_type": "display_data"
        }
      ],
      "source": [
        "sns.countplot('revenue',data=box_office)"
      ]
    },
    {
      "cell_type": "code",
      "execution_count": null,
      "id": "92ea65b8",
      "metadata": {
        "id": "92ea65b8",
        "outputId": "7339f164-7f8d-4e23-d5e9-082caea90fcb"
      },
      "outputs": [
        {
          "data": {
            "text/plain": [
              "<seaborn.axisgrid.PairGrid at 0x1b0011833d0>"
            ]
          },
          "execution_count": 155,
          "metadata": {},
          "output_type": "execute_result"
        },
        {
          "data": {
            "image/png": "[encoded data removed]",
            "text/plain": [
              "<Figure size 1260x1260 with 56 Axes>"
            ]
          },
          "metadata": {
            "needs_background": "light"
          },
          "output_type": "display_data"
        }
      ],
      "source": [
        "sns.pairplot(box_office)"
      ]
    },
    {
      "cell_type": "markdown",
      "id": "1ff42c01",
      "metadata": {
        "id": "1ff42c01"
      },
      "source": [
        "## Encoding"
      ]
    },
    {
      "cell_type": "markdown",
      "id": "3e524890",
      "metadata": {
        "id": "3e524890"
      },
      "source": [
        "We converted our alphabetical data which were in string format to numbers by encoding them using the LabelEncoder.\n",
        "Encoding means to represent a unicode string as a string of bytes. \n",
        "We converted the alphabetical data to numerical data using the label enconder."
      ]
    },
    {
      "cell_type": "code",
      "execution_count": null,
      "id": "3d2ee56d",
      "metadata": {
        "id": "3d2ee56d"
      },
      "outputs": [],
      "source": [
        "from sklearn.preprocessing import LabelEncoder"
      ]
    },
    {
      "cell_type": "code",
      "execution_count": null,
      "id": "5b04bbfb",
      "metadata": {
        "id": "5b04bbfb"
      },
      "outputs": [],
      "source": [
        "tmdb = LabelEncoder()"
      ]
    },
    {
      "cell_type": "code",
      "execution_count": null,
      "id": "719d55a6",
      "metadata": {
        "id": "719d55a6",
        "outputId": "22c0b88b-8d99-486a-f123-ee4f9605dc7c"
      },
      "outputs": [
        {
          "data": {
            "text/html": [
              "<div>\n",
              "<style scoped>\n",
              "    .dataframe tbody tr th:only-of-type {\n",
              "        vertical-align: middle;\n",
              "    }\n",
              "\n",
              "    .dataframe tbody tr th {\n",
              "        vertical-align: top;\n",
              "    }\n",
              "\n",
              "    .dataframe thead th {\n",
              "        text-align: right;\n",
              "    }\n",
              "</style>\n",
              "<table border=\"1\" class=\"dataframe\">\n",
              "  <thead>\n",
              "    <tr style=\"text-align: right;\">\n",
              "      <th></th>\n",
              "      <th>budget</th>\n",
              "      <th>genres</th>\n",
              "      <th>original_language</th>\n",
              "      <th>popularity</th>\n",
              "      <th>runtime</th>\n",
              "      <th>spoken_languages</th>\n",
              "      <th>status</th>\n",
              "      <th>title</th>\n",
              "      <th>revenue</th>\n",
              "      <th>day</th>\n",
              "      <th>month</th>\n",
              "      <th>year</th>\n",
              "    </tr>\n",
              "  </thead>\n",
              "  <tbody>\n",
              "    <tr>\n",
              "      <th>0</th>\n",
              "      <td>14000000</td>\n",
              "      <td>[{'id': 35, 'name': 'Comedy'}]</td>\n",
              "      <td>en</td>\n",
              "      <td>6.575393</td>\n",
              "      <td>93.0</td>\n",
              "      <td>[{'iso_639_1': 'en', 'name': 'English'}]</td>\n",
              "      <td>Released</td>\n",
              "      <td>Hot Tub Time Machine 2</td>\n",
              "      <td>12314651</td>\n",
              "      <td>20</td>\n",
              "      <td>2</td>\n",
              "      <td>2015</td>\n",
              "    </tr>\n",
              "    <tr>\n",
              "      <th>1</th>\n",
              "      <td>40000000</td>\n",
              "      <td>[{'id': 35, 'name': 'Comedy'}, {'id': 18, 'nam...</td>\n",
              "      <td>en</td>\n",
              "      <td>8.248895</td>\n",
              "      <td>113.0</td>\n",
              "      <td>[{'iso_639_1': 'en', 'name': 'English'}]</td>\n",
              "      <td>Released</td>\n",
              "      <td>The Princess Diaries 2: Royal Engagement</td>\n",
              "      <td>95149435</td>\n",
              "      <td>6</td>\n",
              "      <td>8</td>\n",
              "      <td>2004</td>\n",
              "    </tr>\n",
              "    <tr>\n",
              "      <th>2</th>\n",
              "      <td>3300000</td>\n",
              "      <td>[{'id': 18, 'name': 'Drama'}]</td>\n",
              "      <td>en</td>\n",
              "      <td>64.299990</td>\n",
              "      <td>105.0</td>\n",
              "      <td>[{'iso_639_1': 'en', 'name': 'English'}]</td>\n",
              "      <td>Released</td>\n",
              "      <td>Whiplash</td>\n",
              "      <td>13092000</td>\n",
              "      <td>10</td>\n",
              "      <td>10</td>\n",
              "      <td>2014</td>\n",
              "    </tr>\n",
              "    <tr>\n",
              "      <th>3</th>\n",
              "      <td>1200000</td>\n",
              "      <td>[{'id': 53, 'name': 'Thriller'}, {'id': 18, 'n...</td>\n",
              "      <td>hi</td>\n",
              "      <td>3.174936</td>\n",
              "      <td>122.0</td>\n",
              "      <td>[{'iso_639_1': 'en', 'name': 'English'}, {'iso...</td>\n",
              "      <td>Released</td>\n",
              "      <td>Kahaani</td>\n",
              "      <td>16000000</td>\n",
              "      <td>9</td>\n",
              "      <td>3</td>\n",
              "      <td>2012</td>\n",
              "    </tr>\n",
              "    <tr>\n",
              "      <th>4</th>\n",
              "      <td>0</td>\n",
              "      <td>[{'id': 28, 'name': 'Action'}, {'id': 53, 'nam...</td>\n",
              "      <td>ko</td>\n",
              "      <td>1.148070</td>\n",
              "      <td>118.0</td>\n",
              "      <td>[{'iso_639_1': 'ko', 'name': '한국어/조선말'}]</td>\n",
              "      <td>Released</td>\n",
              "      <td>Marine Boy</td>\n",
              "      <td>3923970</td>\n",
              "      <td>5</td>\n",
              "      <td>2</td>\n",
              "      <td>2009</td>\n",
              "    </tr>\n",
              "  </tbody>\n",
              "</table>\n",
              "</div>"
            ],
            "text/plain": [
              "     budget                                             genres  \\\n",
              "0  14000000                     [{'id': 35, 'name': 'Comedy'}]   \n",
              "1  40000000  [{'id': 35, 'name': 'Comedy'}, {'id': 18, 'nam...   \n",
              "2   3300000                      [{'id': 18, 'name': 'Drama'}]   \n",
              "3   1200000  [{'id': 53, 'name': 'Thriller'}, {'id': 18, 'n...   \n",
              "4         0  [{'id': 28, 'name': 'Action'}, {'id': 53, 'nam...   \n",
              "\n",
              "  original_language  popularity  runtime  \\\n",
              "0                en    6.575393     93.0   \n",
              "1                en    8.248895    113.0   \n",
              "2                en   64.299990    105.0   \n",
              "3                hi    3.174936    122.0   \n",
              "4                ko    1.148070    118.0   \n",
              "\n",
              "                                    spoken_languages    status  \\\n",
              "0           [{'iso_639_1': 'en', 'name': 'English'}]  Released   \n",
              "1           [{'iso_639_1': 'en', 'name': 'English'}]  Released   \n",
              "2           [{'iso_639_1': 'en', 'name': 'English'}]  Released   \n",
              "3  [{'iso_639_1': 'en', 'name': 'English'}, {'iso...  Released   \n",
              "4           [{'iso_639_1': 'ko', 'name': '한국어/조선말'}]  Released   \n",
              "\n",
              "                                      title   revenue  day  month  year  \n",
              "0                    Hot Tub Time Machine 2  12314651   20      2  2015  \n",
              "1  The Princess Diaries 2: Royal Engagement  95149435    6      8  2004  \n",
              "2                                  Whiplash  13092000   10     10  2014  \n",
              "3                                   Kahaani  16000000    9      3  2012  \n",
              "4                                Marine Boy   3923970    5      2  2009  "
            ]
          },
          "execution_count": 159,
          "metadata": {},
          "output_type": "execute_result"
        }
      ],
      "source": [
        "box_office.head()"
      ]
    },
    {
      "cell_type": "code",
      "execution_count": null,
      "id": "892b0e1b",
      "metadata": {
        "id": "892b0e1b"
      },
      "outputs": [],
      "source": [
        "# This transforms the categorical column into numbers\n",
        "box_office['genres'] = tmdb.fit_transform(box_office['genres'])\n",
        "box_office['original_language'] = tmdb.fit_transform(box_office['original_language'])\n",
        "box_office['spoken_languages'] = tmdb.fit_transform(box_office['spoken_languages'])\n",
        "box_office['status'] = tmdb.fit_transform(box_office['status'])\n",
        "box_office['title'] = tmdb.fit_transform(box_office['title'])"
      ]
    },
    {
      "cell_type": "code",
      "execution_count": null,
      "id": "f388b95d",
      "metadata": {
        "id": "f388b95d",
        "outputId": "4ca3b118-10a8-4c5c-b9d0-ea77dc2a0c03"
      },
      "outputs": [
        {
          "data": {
            "text/html": [
              "<div>\n",
              "<style scoped>\n",
              "    .dataframe tbody tr th:only-of-type {\n",
              "        vertical-align: middle;\n",
              "    }\n",
              "\n",
              "    .dataframe tbody tr th {\n",
              "        vertical-align: top;\n",
              "    }\n",
              "\n",
              "    .dataframe thead th {\n",
              "        text-align: right;\n",
              "    }\n",
              "</style>\n",
              "<table border=\"1\" class=\"dataframe\">\n",
              "  <thead>\n",
              "    <tr style=\"text-align: right;\">\n",
              "      <th></th>\n",
              "      <th>budget</th>\n",
              "      <th>genres</th>\n",
              "      <th>original_language</th>\n",
              "      <th>popularity</th>\n",
              "      <th>runtime</th>\n",
              "      <th>spoken_languages</th>\n",
              "      <th>status</th>\n",
              "      <th>title</th>\n",
              "      <th>revenue</th>\n",
              "      <th>day</th>\n",
              "      <th>month</th>\n",
              "      <th>year</th>\n",
              "    </tr>\n",
              "  </thead>\n",
              "  <tbody>\n",
              "    <tr>\n",
              "      <th>0</th>\n",
              "      <td>14000000</td>\n",
              "      <td>696</td>\n",
              "      <td>7</td>\n",
              "      <td>6.575393</td>\n",
              "      <td>93.0</td>\n",
              "      <td>262</td>\n",
              "      <td>0</td>\n",
              "      <td>1045</td>\n",
              "      <td>12314651</td>\n",
              "      <td>20</td>\n",
              "      <td>2</td>\n",
              "      <td>2015</td>\n",
              "    </tr>\n",
              "    <tr>\n",
              "      <th>1</th>\n",
              "      <td>40000000</td>\n",
              "      <td>645</td>\n",
              "      <td>7</td>\n",
              "      <td>8.248895</td>\n",
              "      <td>113.0</td>\n",
              "      <td>262</td>\n",
              "      <td>0</td>\n",
              "      <td>2546</td>\n",
              "      <td>95149435</td>\n",
              "      <td>6</td>\n",
              "      <td>8</td>\n",
              "      <td>2004</td>\n",
              "    </tr>\n",
              "    <tr>\n",
              "      <th>2</th>\n",
              "      <td>3300000</td>\n",
              "      <td>391</td>\n",
              "      <td>7</td>\n",
              "      <td>64.299990</td>\n",
              "      <td>105.0</td>\n",
              "      <td>262</td>\n",
              "      <td>0</td>\n",
              "      <td>2903</td>\n",
              "      <td>13092000</td>\n",
              "      <td>10</td>\n",
              "      <td>10</td>\n",
              "      <td>2014</td>\n",
              "    </tr>\n",
              "    <tr>\n",
              "      <th>3</th>\n",
              "      <td>1200000</td>\n",
              "      <td>733</td>\n",
              "      <td>13</td>\n",
              "      <td>3.174936</td>\n",
              "      <td>122.0</td>\n",
              "      <td>175</td>\n",
              "      <td>0</td>\n",
              "      <td>1183</td>\n",
              "      <td>16000000</td>\n",
              "      <td>9</td>\n",
              "      <td>3</td>\n",
              "      <td>2012</td>\n",
              "    </tr>\n",
              "    <tr>\n",
              "      <th>4</th>\n",
              "      <td>0</td>\n",
              "      <td>589</td>\n",
              "      <td>18</td>\n",
              "      <td>1.148070</td>\n",
              "      <td>118.0</td>\n",
              "      <td>338</td>\n",
              "      <td>0</td>\n",
              "      <td>1371</td>\n",
              "      <td>3923970</td>\n",
              "      <td>5</td>\n",
              "      <td>2</td>\n",
              "      <td>2009</td>\n",
              "    </tr>\n",
              "  </tbody>\n",
              "</table>\n",
              "</div>"
            ],
            "text/plain": [
              "     budget  genres  original_language  popularity  runtime  spoken_languages  \\\n",
              "0  14000000     696                  7    6.575393     93.0               262   \n",
              "1  40000000     645                  7    8.248895    113.0               262   \n",
              "2   3300000     391                  7   64.299990    105.0               262   \n",
              "3   1200000     733                 13    3.174936    122.0               175   \n",
              "4         0     589                 18    1.148070    118.0               338   \n",
              "\n",
              "   status  title   revenue  day  month  year  \n",
              "0       0   1045  12314651   20      2  2015  \n",
              "1       0   2546  95149435    6      8  2004  \n",
              "2       0   2903  13092000   10     10  2014  \n",
              "3       0   1183  16000000    9      3  2012  \n",
              "4       0   1371   3923970    5      2  2009  "
            ]
          },
          "execution_count": 161,
          "metadata": {},
          "output_type": "execute_result"
        }
      ],
      "source": [
        "box_office.head()"
      ]
    },
    {
      "cell_type": "markdown",
      "id": "549a6eef",
      "metadata": {
        "id": "549a6eef"
      },
      "source": [
        "## Training the dataset"
      ]
    },
    {
      "cell_type": "markdown",
      "id": "6a04e218",
      "metadata": {
        "id": "6a04e218"
      },
      "source": [
        "We dropped the column \"revenue\" which we are predict into 'y' as we are to use the 'X'dataset in training our model. We cannot train our model while it contains the predicted column otherwise there won't be data available for the model to predict."
      ]
    },
    {
      "cell_type": "code",
      "execution_count": null,
      "id": "d32d0230",
      "metadata": {
        "id": "d32d0230"
      },
      "outputs": [],
      "source": [
        "X = box_office.drop(columns=['revenue'], axis=1)\n",
        "y = box_office['revenue']"
      ]
    },
    {
      "cell_type": "code",
      "execution_count": null,
      "id": "c2fa005c",
      "metadata": {
        "id": "c2fa005c",
        "outputId": "f5d49613-d104-4d6e-9922-80e3f691e5cc"
      },
      "outputs": [
        {
          "data": {
            "text/html": [
              "<div>\n",
              "<style scoped>\n",
              "    .dataframe tbody tr th:only-of-type {\n",
              "        vertical-align: middle;\n",
              "    }\n",
              "\n",
              "    .dataframe tbody tr th {\n",
              "        vertical-align: top;\n",
              "    }\n",
              "\n",
              "    .dataframe thead th {\n",
              "        text-align: right;\n",
              "    }\n",
              "</style>\n",
              "<table border=\"1\" class=\"dataframe\">\n",
              "  <thead>\n",
              "    <tr style=\"text-align: right;\">\n",
              "      <th></th>\n",
              "      <th>budget</th>\n",
              "      <th>genres</th>\n",
              "      <th>original_language</th>\n",
              "      <th>popularity</th>\n",
              "      <th>runtime</th>\n",
              "      <th>spoken_languages</th>\n",
              "      <th>status</th>\n",
              "      <th>title</th>\n",
              "      <th>day</th>\n",
              "      <th>month</th>\n",
              "      <th>year</th>\n",
              "    </tr>\n",
              "  </thead>\n",
              "  <tbody>\n",
              "    <tr>\n",
              "      <th>0</th>\n",
              "      <td>14000000</td>\n",
              "      <td>696</td>\n",
              "      <td>7</td>\n",
              "      <td>6.575393</td>\n",
              "      <td>93.0</td>\n",
              "      <td>262</td>\n",
              "      <td>0</td>\n",
              "      <td>1045</td>\n",
              "      <td>20</td>\n",
              "      <td>2</td>\n",
              "      <td>2015</td>\n",
              "    </tr>\n",
              "    <tr>\n",
              "      <th>1</th>\n",
              "      <td>40000000</td>\n",
              "      <td>645</td>\n",
              "      <td>7</td>\n",
              "      <td>8.248895</td>\n",
              "      <td>113.0</td>\n",
              "      <td>262</td>\n",
              "      <td>0</td>\n",
              "      <td>2546</td>\n",
              "      <td>6</td>\n",
              "      <td>8</td>\n",
              "      <td>2004</td>\n",
              "    </tr>\n",
              "    <tr>\n",
              "      <th>2</th>\n",
              "      <td>3300000</td>\n",
              "      <td>391</td>\n",
              "      <td>7</td>\n",
              "      <td>64.299990</td>\n",
              "      <td>105.0</td>\n",
              "      <td>262</td>\n",
              "      <td>0</td>\n",
              "      <td>2903</td>\n",
              "      <td>10</td>\n",
              "      <td>10</td>\n",
              "      <td>2014</td>\n",
              "    </tr>\n",
              "    <tr>\n",
              "      <th>3</th>\n",
              "      <td>1200000</td>\n",
              "      <td>733</td>\n",
              "      <td>13</td>\n",
              "      <td>3.174936</td>\n",
              "      <td>122.0</td>\n",
              "      <td>175</td>\n",
              "      <td>0</td>\n",
              "      <td>1183</td>\n",
              "      <td>9</td>\n",
              "      <td>3</td>\n",
              "      <td>2012</td>\n",
              "    </tr>\n",
              "    <tr>\n",
              "      <th>4</th>\n",
              "      <td>0</td>\n",
              "      <td>589</td>\n",
              "      <td>18</td>\n",
              "      <td>1.148070</td>\n",
              "      <td>118.0</td>\n",
              "      <td>338</td>\n",
              "      <td>0</td>\n",
              "      <td>1371</td>\n",
              "      <td>5</td>\n",
              "      <td>2</td>\n",
              "      <td>2009</td>\n",
              "    </tr>\n",
              "  </tbody>\n",
              "</table>\n",
              "</div>"
            ],
            "text/plain": [
              "     budget  genres  original_language  popularity  runtime  spoken_languages  \\\n",
              "0  14000000     696                  7    6.575393     93.0               262   \n",
              "1  40000000     645                  7    8.248895    113.0               262   \n",
              "2   3300000     391                  7   64.299990    105.0               262   \n",
              "3   1200000     733                 13    3.174936    122.0               175   \n",
              "4         0     589                 18    1.148070    118.0               338   \n",
              "\n",
              "   status  title  day  month  year  \n",
              "0       0   1045   20      2  2015  \n",
              "1       0   2546    6      8  2004  \n",
              "2       0   2903   10     10  2014  \n",
              "3       0   1183    9      3  2012  \n",
              "4       0   1371    5      2  2009  "
            ]
          },
          "execution_count": 163,
          "metadata": {},
          "output_type": "execute_result"
        }
      ],
      "source": [
        "X.head()"
      ]
    },
    {
      "cell_type": "code",
      "execution_count": null,
      "id": "854f7a21",
      "metadata": {
        "id": "854f7a21",
        "outputId": "f75d6572-37c1-4474-93ff-d6457ee8bb77"
      },
      "outputs": [
        {
          "data": {
            "text/plain": [
              "0    12314651\n",
              "1    95149435\n",
              "2    13092000\n",
              "3    16000000\n",
              "4     3923970\n",
              "Name: revenue, dtype: int64"
            ]
          },
          "execution_count": 164,
          "metadata": {},
          "output_type": "execute_result"
        }
      ],
      "source": [
        "y.head()"
      ]
    },
    {
      "cell_type": "markdown",
      "id": "3acbb282",
      "metadata": {
        "id": "3acbb282"
      },
      "source": [
        "After which we splitted our dataset into training and testing data because we don't want our model to see the data on which it will be tested on. We want to train our model to predict values on which it wasn't trained as this will enable it predict more accurate results.\n",
        "We are to predict revenue which contains continuous values which means we are working on a regression problem. \n",
        " \n",
        " To split our dataset we imported \"train_test_split\" and to train and test our model we imported \"LinearRegression\", both from the sckit library using sklearn."
      ]
    },
    {
      "cell_type": "code",
      "execution_count": null,
      "id": "a698423b",
      "metadata": {
        "id": "a698423b"
      },
      "outputs": [],
      "source": [
        "from sklearn.linear_model import LinearRegression\n",
        "from sklearn.model_selection import train_test_split"
      ]
    },
    {
      "cell_type": "code",
      "execution_count": null,
      "id": "75790cc3",
      "metadata": {
        "id": "75790cc3"
      },
      "outputs": [],
      "source": [
        "model = LinearRegression()"
      ]
    },
    {
      "cell_type": "markdown",
      "id": "52815b3b",
      "metadata": {
        "id": "52815b3b"
      },
      "source": [
        "Now that we have splitted our data into train and test and determined what type of model we are working on i.e if it is a classification or regression problem, we allocated 40% of our dataset to train our model and we set the random_state so the result is the same every time we run the code, else the train and test datasets would have different values each time. Then we checked the train and test data size."
      ]
    },
    {
      "cell_type": "code",
      "execution_count": null,
      "id": "c2387c8b",
      "metadata": {
        "id": "c2387c8b",
        "outputId": "07ae9c5a-e23a-40ee-fdf0-97843c68525e"
      },
      "outputs": [
        {
          "name": "stdout",
          "output_type": "stream",
          "text": [
            "(1200, 11) (1800, 11) (1200,) (1800,)\n"
          ]
        }
      ],
      "source": [
        "X_train, X_test, y_train, y_test = train_test_split(X, y, train_size=0.4, random_state = 16)\n",
        "print(X_train.shape, X_test.shape, y_train.shape, y_test.shape)"
      ]
    },
    {
      "cell_type": "code",
      "execution_count": null,
      "id": "30324bfd",
      "metadata": {
        "id": "30324bfd",
        "outputId": "8b04f31d-151b-4adb-e103-51a1f6c43e72"
      },
      "outputs": [
        {
          "data": {
            "text/plain": [
              "LinearRegression()"
            ]
          },
          "execution_count": 168,
          "metadata": {},
          "output_type": "execute_result"
        }
      ],
      "source": [
        "model.fit(X_train, y_train) "
      ]
    },
    {
      "cell_type": "markdown",
      "id": "6f626f1a",
      "metadata": {
        "id": "6f626f1a"
      },
      "source": [
        "We predicted our model on data which it has not seen before"
      ]
    },
    {
      "cell_type": "code",
      "execution_count": null,
      "id": "c00e2392",
      "metadata": {
        "id": "c00e2392",
        "outputId": "3b84d150-b04c-428f-eb7a-8b2a4ba92d2e"
      },
      "outputs": [
        {
          "name": "stdout",
          "output_type": "stream",
          "text": [
            "[-2955343.08640701 -3959690.50984687 -1319347.75773656 ...\n",
            " -4219807.76110005 -6666785.95858735 15524252.54888988]\n"
          ]
        }
      ],
      "source": [
        "y_pred = model.predict(X_test)\n",
        "print(y_pred)"
      ]
    },
    {
      "cell_type": "markdown",
      "id": "3547e70d",
      "metadata": {
        "id": "3547e70d"
      },
      "source": [
        "The explained variance score explains the dispersion of errors of a given dataset. The variance is a measure of how far observed values differ from the average of predicted values i.e their difference from the predicted value mean. The goal is to have a value that is low."
      ]
    },
    {
      "cell_type": "code",
      "execution_count": null,
      "id": "adbd062e",
      "metadata": {
        "id": "adbd062e"
      },
      "outputs": [],
      "source": [
        "from sklearn.metrics import explained_variance_score"
      ]
    },
    {
      "cell_type": "code",
      "execution_count": null,
      "id": "5cae6aaf",
      "metadata": {
        "id": "5cae6aaf",
        "outputId": "6881a6c6-ecfb-4790-d5b3-1a668baed800"
      },
      "outputs": [
        {
          "data": {
            "text/plain": [
              "0.6511165335905115"
            ]
          },
          "execution_count": 171,
          "metadata": {},
          "output_type": "execute_result"
        }
      ],
      "source": [
        "explained_variance_score(y_test, y_pred)"
      ]
    },
    {
      "cell_type": "markdown",
      "id": "b919765f",
      "metadata": {
        "id": "b919765f"
      },
      "source": [
        "Mean Squared Error(MSE) is the average of the square of errors i.e the difference between the expected values and the predicted value.\n",
        "Root Mean Squared Error(RMSE) is the square root of MSE, which means that the units of RMSE are the same as the original units of the target value that is being predicted."
      ]
    },
    {
      "cell_type": "code",
      "execution_count": null,
      "id": "0423b17c",
      "metadata": {
        "id": "0423b17c"
      },
      "outputs": [],
      "source": [
        "from sklearn.metrics import mean_squared_error"
      ]
    },
    {
      "cell_type": "code",
      "execution_count": null,
      "id": "8fc54fc6",
      "metadata": {
        "id": "8fc54fc6",
        "outputId": "6fb83bb0-e9ad-46f5-f82c-14f4302c02b2"
      },
      "outputs": [
        {
          "data": {
            "text/plain": [
              "79692728.6928988"
            ]
          },
          "execution_count": 173,
          "metadata": {},
          "output_type": "execute_result"
        }
      ],
      "source": [
        "np.sqrt(mean_squared_error(y_test, y_pred))"
      ]
    },
    {
      "cell_type": "code",
      "execution_count": null,
      "id": "4dba6a36",
      "metadata": {
        "id": "4dba6a36",
        "outputId": "9c476f39-a426-4507-d54a-f2d0f117d905"
      },
      "outputs": [
        {
          "name": "stdout",
          "output_type": "stream",
          "text": [
            "6350931006519976.0\n"
          ]
        }
      ],
      "source": [
        "error = mean_squared_error(y_test, y_pred)\n",
        "print(error)"
      ]
    },
    {
      "cell_type": "code",
      "execution_count": null,
      "id": "f5cb73f8",
      "metadata": {
        "id": "f5cb73f8",
        "outputId": "5b9c371e-4801-4981-fe51-e88f9c2357af"
      },
      "outputs": [
        {
          "name": "stdout",
          "output_type": "stream",
          "text": [
            "79692728.6928988\n"
          ]
        }
      ],
      "source": [
        "# This is the MSE modified to calculated to  RMSE by setting the \"squared\" argument to False\n",
        "error = mean_squared_error(y_test, y_pred, squared = False)\n",
        "print(error)"
      ]
    },
    {
      "cell_type": "markdown",
      "id": "a78fa47d",
      "metadata": {
        "id": "a78fa47d"
      },
      "source": [
        "\"multioutput\" defines aggregating of multiple output scores. \n",
        "'raw_values' returns a full set of scores in case of multioutput input\n",
        "'uniform_average' returns the average scores of all output with uniform weight"
      ]
    },
    {
      "cell_type": "code",
      "execution_count": null,
      "id": "1b2dd87a",
      "metadata": {
        "id": "1b2dd87a",
        "outputId": "d2359c60-deff-48fb-c947-3db8b6132931"
      },
      "outputs": [
        {
          "name": "stdout",
          "output_type": "stream",
          "text": [
            "[6.35093101e+15]\n"
          ]
        }
      ],
      "source": [
        "error = mean_squared_error(y_test, y_pred, multioutput = 'raw_values')\n",
        "print(error)"
      ]
    },
    {
      "cell_type": "code",
      "execution_count": null,
      "id": "8cff1133",
      "metadata": {
        "id": "8cff1133",
        "outputId": "1c52d3b3-0345-498a-f78d-eeec9626cd92"
      },
      "outputs": [
        {
          "name": "stdout",
          "output_type": "stream",
          "text": [
            "6350931006519976.0\n"
          ]
        }
      ],
      "source": [
        "error = mean_squared_error(y_test, y_pred, multioutput = 'uniform_average')\n",
        "print(error)"
      ]
    },
    {
      "cell_type": "code",
      "execution_count": null,
      "id": "64ae3fdd",
      "metadata": {
        "id": "64ae3fdd"
      },
      "outputs": [],
      "source": [
        "from sklearn.metrics import mean_absolute_error"
      ]
    },
    {
      "cell_type": "code",
      "execution_count": null,
      "id": "4aade030",
      "metadata": {
        "id": "4aade030",
        "outputId": "7c631fc0-b1a8-4de4-8965-a3116689d867"
      },
      "outputs": [
        {
          "name": "stdout",
          "output_type": "stream",
          "text": [
            "44789941.006416544\n"
          ]
        }
      ],
      "source": [
        "error = mean_absolute_error(y_test, y_pred)\n",
        "print(error)"
      ]
    },
    {
      "cell_type": "markdown",
      "id": "88ee5561",
      "metadata": {
        "id": "88ee5561"
      },
      "source": [
        "r2_score according to wikipedia is the proportion of the variance in the dependent variables that is predictable from the independent variables"
      ]
    },
    {
      "cell_type": "code",
      "execution_count": null,
      "id": "505ca82f",
      "metadata": {
        "id": "505ca82f"
      },
      "outputs": [],
      "source": [
        "from sklearn.metrics import r2_score"
      ]
    },
    {
      "cell_type": "code",
      "execution_count": null,
      "id": "56aca3e4",
      "metadata": {
        "id": "56aca3e4",
        "outputId": "23afd618-3dbf-4d9b-b4dd-ae3c66b5f71b"
      },
      "outputs": [
        {
          "name": "stdout",
          "output_type": "stream",
          "text": [
            "R2 score: 0.65\n"
          ]
        }
      ],
      "source": [
        "print('R2 score: %.2f' %r2_score (y_test, y_pred))"
      ]
    },
    {
      "cell_type": "code",
      "execution_count": null,
      "id": "1797ee44",
      "metadata": {
        "id": "1797ee44",
        "outputId": "a4ae20fa-35f3-4f5d-d1b1-bafcadacf625"
      },
      "outputs": [
        {
          "name": "stdout",
          "output_type": "stream",
          "text": [
            "0.6509721548670406\n"
          ]
        }
      ],
      "source": [
        "error = r2_score(y_test, y_pred)\n",
        "print(error)"
      ]
    },
    {
      "cell_type": "markdown",
      "source": [
        "In summary,Our Dataset is a categorical Dataset and it contains the following collumns:ID of the movies,the collection types,Genre of the movie,IMbid,Original langauge it was scrippted,Title,Overview Popularity,Tagline,Title,KeyWord CAST and Crew of the Box Office collumn"
      ],
      "metadata": {
        "id": "Q532qgSWxuGj"
      },
      "id": "Q532qgSWxuGj"
    },
    {
      "cell_type": "markdown",
      "source": [
        ""
      ],
      "metadata": {
        "id": "ttMZsso_3bsC"
      },
      "id": "ttMZsso_3bsC"
    },
    {
      "cell_type": "markdown",
      "source": [
        "The graphs plotted were a countplot  to show the correlation points between the data points,showing the total revenue annually.\n",
        "\n",
        "A pairwise plot to show correlations of the revenue,runtime and population."
      ],
      "metadata": {
        "id": "S87uBO_U3lbl"
      },
      "id": "S87uBO_U3lbl"
    },
    {
      "cell_type": "markdown",
      "source": [
        "Findings and Recommendations.\n",
        "The annual minimum runtime for movies is 1000000e+03 of budget\n",
        "The most spoken language is English\n",
        "The year with the highest production is 2013\n",
        "The year with highest Revenue and it had the highest popularity,maybe because enough money will be pumped in the production.\n",
        "Movies with English as their langauge had the highest view.\n",
        "\n",
        "Recommendation:\n",
        "\n",
        "Enough budget planning should be made before production \n",
        "More movies with English as a communication language should be made as people watch it more.\n",
        "\n"
      ],
      "metadata": {
        "id": "-guGIajv7m7H"
      },
      "id": "-guGIajv7m7H"
    }
  ],
  "metadata": {
    "kernelspec": {
      "display_name": "Python 3 (ipykernel)",
      "language": "python",
      "name": "python3"
    },
    "language_info": {
      "codemirror_mode": {
        "name": "ipython",
        "version": 3
      },
      "file_extension": ".py",
      "mimetype": "text/x-python",
      "name": "python",
      "nbconvert_exporter": "python",
      "pygments_lexer": "ipython3",
      "version": "3.9.7"
    },
    "colab": {
      "name": "boxofficeanalysis.ipynb",
      "provenance": [],
      "collapsed_sections": []
    }
  },
  "nbformat": 4,
  "nbformat_minor": 5
}