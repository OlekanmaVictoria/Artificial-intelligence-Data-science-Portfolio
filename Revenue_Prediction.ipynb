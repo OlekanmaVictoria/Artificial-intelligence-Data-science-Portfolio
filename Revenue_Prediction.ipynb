{
  "cells": [
    {
      "cell_type": "markdown",
      "metadata": {
        "id": "view-in-github",
        "colab_type": "text"
      },
      "source": [
        "<a href=\"https://colab.research.google.com/github/OlekanmaVictoria/Data-science-Portfolio/blob/main/Revenue_Prediction.ipynb\" target=\"_parent\"><img src=\"https://colab.research.google.com/assets/colab-badge.svg\" alt=\"Open In Colab\"/></a>"
      ]
    },
    {
      "cell_type": "markdown",
      "id": "6cab60e3",
      "metadata": {
        "id": "6cab60e3"
      },
      "source": [
        "Data source: https://www.kaggle.com/c/tmdb-box-office-prediction/data"
      ]
    },
    {
      "cell_type": "markdown",
      "id": "e8a51b4f",
      "metadata": {
        "id": "e8a51b4f"
      },
      "source": [
        "# Problem statement"
      ]
    },
    {
      "cell_type": "markdown",
      "id": "73a2c879",
      "metadata": {
        "id": "73a2c879"
      },
      "source": [
        "In a world… where movies made an estimated $41.7 billion in 2018, the film industry is more popular than ever. But what movies make the most money at the box office? How much does a director matter? Or the budget? For some movies, it's \"You had me at 'Hello.'\" For others, the trailer falls short of expectations and you think \"What we have here is a failure to communicate.\"\n",
        "\n",
        "We are presented with metadata on over 7,000 past films from The Movie Database to try and predict their overall worldwide box office revenue. Data points provided include cast, crew, plot keywords, budget, posters, release dates, languages, production companies, and countries."
      ]
    },
    {
      "cell_type": "markdown",
      "id": "defc53c7",
      "metadata": {
        "id": "defc53c7"
      },
      "source": [
        "# Data description"
      ]
    },
    {
      "cell_type": "markdown",
      "id": "23492ff2",
      "metadata": {
        "id": "23492ff2"
      },
      "source": [
        "In this dataset, we are provided with 7398 movies and a variety of metadata obtained from The Movie Database (TMDB). Movies are labeled with id. Data points include cast, crew, plot keywords, budget, posters, release dates, languages, production companies, and countries.\n",
        "\n",
        "We are predicting the worldwide revenue for 4398 movies in the test file.\n",
        "\n",
        "Note - many movies are remade over the years, therefore it may seem like multiple instance of a movie may appear in the data, however they are different and should be considered separate movies. In addition, some movies may share a title, but be entirely unrelated.\n",
        "\n",
        "E.g. The Karate Kid (id: 5266) was released in 1986, while a clearly (or maybe just subjectively) inferior remake (id: 1987) was released in 2010. Also, while the Frozen (id: 5295) released by Disney in 2013 may be the household name, don't forget about the less-popular Frozen (id: 139) released three years earlier about skiers who are stranded on a chairlift..."
      ]
    },
    {
      "cell_type": "markdown",
      "id": "4249de3d",
      "metadata": {
        "id": "4249de3d"
      },
      "source": [
        "## Loading the dataset"
      ]
    },
    {
      "cell_type": "code",
      "execution_count": null,
      "id": "2d0594eb",
      "metadata": {
        "id": "2d0594eb"
      },
      "outputs": [],
      "source": [
        "import numpy as np\n",
        "import pandas as pd\n",
        "import seaborn as sns\n",
        "import plotly.express as px\n",
        "import matplotlib.pyplot as plt\n",
        "%matplotlib inline"
      ]
    },
    {
      "cell_type": "code",
      "source": [
        "from google.colab import drive\n",
        "drive.mount('/content/drive')"
      ],
      "metadata": {
        "colab": {
          "base_uri": "https://localhost:8080/"
        },
        "id": "7kMG07jcOqDm",
        "outputId": "c59d4e51-ad8e-4e26-f1b1-df8b4cd76a99"
      },
      "id": "7kMG07jcOqDm",
      "execution_count": null,
      "outputs": [
        {
          "output_type": "stream",
          "name": "stdout",
          "text": [
            "Drive already mounted at /content/drive; to attempt to forcibly remount, call drive.mount(\"/content/drive\", force_remount=True).\n"
          ]
        }
      ]
    },
    {
      "cell_type": "code",
      "execution_count": null,
      "id": "6ce99f93",
      "metadata": {
        "id": "6ce99f93"
      },
      "outputs": [],
      "source": [
        "box_office = pd.read_csv('/test.csv')\n",
        "box_office = pd.read_csv('/train.csv')"
      ]
    },
    {
      "cell_type": "code",
      "execution_count": null,
      "id": "54a35451",
      "metadata": {
        "colab": {
          "base_uri": "https://localhost:8080/",
          "height": 716
        },
        "id": "54a35451",
        "outputId": "d417f7b4-0325-4035-e45e-f0f3e77c1b88"
      },
      "outputs": [
        {
          "output_type": "execute_result",
          "data": {
            "text/plain": [
              "   id                              belongs_to_collection    budget  \\\n",
              "0   1  [{'id': 313576, 'name': 'Hot Tub Time Machine ...  14000000   \n",
              "1   2  [{'id': 107674, 'name': 'The Princess Diaries ...  40000000   \n",
              "2   3                                                NaN   3300000   \n",
              "3   4                                                NaN   1200000   \n",
              "4   5                                                NaN         0   \n",
              "\n",
              "                                              genres  \\\n",
              "0                     [{'id': 35, 'name': 'Comedy'}]   \n",
              "1  [{'id': 35, 'name': 'Comedy'}, {'id': 18, 'nam...   \n",
              "2                      [{'id': 18, 'name': 'Drama'}]   \n",
              "3  [{'id': 53, 'name': 'Thriller'}, {'id': 18, 'n...   \n",
              "4  [{'id': 28, 'name': 'Action'}, {'id': 53, 'nam...   \n",
              "\n",
              "                            homepage    imdb_id original_language  \\\n",
              "0                                NaN  tt2637294                en   \n",
              "1                                NaN  tt0368933                en   \n",
              "2  http://sonyclassics.com/whiplash/  tt2582802                en   \n",
              "3         http://kahaanithefilm.com/  tt1821480                hi   \n",
              "4                                NaN  tt1380152                ko   \n",
              "\n",
              "                             original_title  \\\n",
              "0                    Hot Tub Time Machine 2   \n",
              "1  The Princess Diaries 2: Royal Engagement   \n",
              "2                                  Whiplash   \n",
              "3                                   Kahaani   \n",
              "4                                      마린보이   \n",
              "\n",
              "                                            overview  popularity  ...  \\\n",
              "0  When Lou, who has become the \"father of the In...    6.575393  ...   \n",
              "1  Mia Thermopolis is now a college graduate and ...    8.248895  ...   \n",
              "2  Under the direction of a ruthless instructor, ...   64.299990  ...   \n",
              "3  Vidya Bagchi (Vidya Balan) arrives in Kolkata ...    3.174936  ...   \n",
              "4  Marine Boy is the story of a former national s...    1.148070  ...   \n",
              "\n",
              "  release_date runtime                                   spoken_languages  \\\n",
              "0      2/20/15    93.0           [{'iso_639_1': 'en', 'name': 'English'}]   \n",
              "1       8/6/04   113.0           [{'iso_639_1': 'en', 'name': 'English'}]   \n",
              "2     10/10/14   105.0           [{'iso_639_1': 'en', 'name': 'English'}]   \n",
              "3       3/9/12   122.0  [{'iso_639_1': 'en', 'name': 'English'}, {'iso...   \n",
              "4       2/5/09   118.0           [{'iso_639_1': 'ko', 'name': '한국어/조선말'}]   \n",
              "\n",
              "     status                                            tagline  \\\n",
              "0  Released  The Laws of Space and Time are About to be Vio...   \n",
              "1  Released  It can take a lifetime to find true love; she'...   \n",
              "2  Released    The road to greatness can take you to the edge.   \n",
              "3  Released                                                NaN   \n",
              "4  Released                                                NaN   \n",
              "\n",
              "                                      title  \\\n",
              "0                    Hot Tub Time Machine 2   \n",
              "1  The Princess Diaries 2: Royal Engagement   \n",
              "2                                  Whiplash   \n",
              "3                                   Kahaani   \n",
              "4                                Marine Boy   \n",
              "\n",
              "                                            Keywords  \\\n",
              "0  [{'id': 4379, 'name': 'time travel'}, {'id': 9...   \n",
              "1  [{'id': 2505, 'name': 'coronation'}, {'id': 42...   \n",
              "2  [{'id': 1416, 'name': 'jazz'}, {'id': 1523, 'n...   \n",
              "3  [{'id': 10092, 'name': 'mystery'}, {'id': 1054...   \n",
              "4                                                NaN   \n",
              "\n",
              "                                                cast  \\\n",
              "0  [{'cast_id': 4, 'character': 'Lou', 'credit_id...   \n",
              "1  [{'cast_id': 1, 'character': 'Mia Thermopolis'...   \n",
              "2  [{'cast_id': 5, 'character': 'Andrew Neimann',...   \n",
              "3  [{'cast_id': 1, 'character': 'Vidya Bagchi', '...   \n",
              "4  [{'cast_id': 3, 'character': 'Chun-soo', 'cred...   \n",
              "\n",
              "                                                crew   revenue  \n",
              "0  [{'credit_id': '59ac067c92514107af02c8c8', 'de...  12314651  \n",
              "1  [{'credit_id': '52fe43fe9251416c7502563d', 'de...  95149435  \n",
              "2  [{'credit_id': '54d5356ec3a3683ba0000039', 'de...  13092000  \n",
              "3  [{'credit_id': '52fe48779251416c9108d6eb', 'de...  16000000  \n",
              "4  [{'credit_id': '52fe464b9251416c75073b43', 'de...   3923970  \n",
              "\n",
              "[5 rows x 23 columns]"
            ],
            "text/html": [
              "\n",
              "  <div id=\"df-659b2f7c-4d83-47f8-8f39-0fdd5eda2842\">\n",
              "    <div class=\"colab-df-container\">\n",
              "      <div>\n",
              "<style scoped>\n",
              "    .dataframe tbody tr th:only-of-type {\n",
              "        vertical-align: middle;\n",
              "    }\n",
              "\n",
              "    .dataframe tbody tr th {\n",
              "        vertical-align: top;\n",
              "    }\n",
              "\n",
              "    .dataframe thead th {\n",
              "        text-align: right;\n",
              "    }\n",
              "</style>\n",
              "<table border=\"1\" class=\"dataframe\">\n",
              "  <thead>\n",
              "    <tr style=\"text-align: right;\">\n",
              "      <th></th>\n",
              "      <th>id</th>\n",
              "      <th>belongs_to_collection</th>\n",
              "      <th>budget</th>\n",
              "      <th>genres</th>\n",
              "      <th>homepage</th>\n",
              "      <th>imdb_id</th>\n",
              "      <th>original_language</th>\n",
              "      <th>original_title</th>\n",
              "      <th>overview</th>\n",
              "      <th>popularity</th>\n",
              "      <th>...</th>\n",
              "      <th>release_date</th>\n",
              "      <th>runtime</th>\n",
              "      <th>spoken_languages</th>\n",
              "      <th>status</th>\n",
              "      <th>tagline</th>\n",
              "      <th>title</th>\n",
              "      <th>Keywords</th>\n",
              "      <th>cast</th>\n",
              "      <th>crew</th>\n",
              "      <th>revenue</th>\n",
              "    </tr>\n",
              "  </thead>\n",
              "  <tbody>\n",
              "    <tr>\n",
              "      <th>0</th>\n",
              "      <td>1</td>\n",
              "      <td>[{'id': 313576, 'name': 'Hot Tub Time Machine ...</td>\n",
              "      <td>14000000</td>\n",
              "      <td>[{'id': 35, 'name': 'Comedy'}]</td>\n",
              "      <td>NaN</td>\n",
              "      <td>tt2637294</td>\n",
              "      <td>en</td>\n",
              "      <td>Hot Tub Time Machine 2</td>\n",
              "      <td>When Lou, who has become the \"father of the In...</td>\n",
              "      <td>6.575393</td>\n",
              "      <td>...</td>\n",
              "      <td>2/20/15</td>\n",
              "      <td>93.0</td>\n",
              "      <td>[{'iso_639_1': 'en', 'name': 'English'}]</td>\n",
              "      <td>Released</td>\n",
              "      <td>The Laws of Space and Time are About to be Vio...</td>\n",
              "      <td>Hot Tub Time Machine 2</td>\n",
              "      <td>[{'id': 4379, 'name': 'time travel'}, {'id': 9...</td>\n",
              "      <td>[{'cast_id': 4, 'character': 'Lou', 'credit_id...</td>\n",
              "      <td>[{'credit_id': '59ac067c92514107af02c8c8', 'de...</td>\n",
              "      <td>12314651</td>\n",
              "    </tr>\n",
              "    <tr>\n",
              "      <th>1</th>\n",
              "      <td>2</td>\n",
              "      <td>[{'id': 107674, 'name': 'The Princess Diaries ...</td>\n",
              "      <td>40000000</td>\n",
              "      <td>[{'id': 35, 'name': 'Comedy'}, {'id': 18, 'nam...</td>\n",
              "      <td>NaN</td>\n",
              "      <td>tt0368933</td>\n",
              "      <td>en</td>\n",
              "      <td>The Princess Diaries 2: Royal Engagement</td>\n",
              "      <td>Mia Thermopolis is now a college graduate and ...</td>\n",
              "      <td>8.248895</td>\n",
              "      <td>...</td>\n",
              "      <td>8/6/04</td>\n",
              "      <td>113.0</td>\n",
              "      <td>[{'iso_639_1': 'en', 'name': 'English'}]</td>\n",
              "      <td>Released</td>\n",
              "      <td>It can take a lifetime to find true love; she'...</td>\n",
              "      <td>The Princess Diaries 2: Royal Engagement</td>\n",
              "      <td>[{'id': 2505, 'name': 'coronation'}, {'id': 42...</td>\n",
              "      <td>[{'cast_id': 1, 'character': 'Mia Thermopolis'...</td>\n",
              "      <td>[{'credit_id': '52fe43fe9251416c7502563d', 'de...</td>\n",
              "      <td>95149435</td>\n",
              "    </tr>\n",
              "    <tr>\n",
              "      <th>2</th>\n",
              "      <td>3</td>\n",
              "      <td>NaN</td>\n",
              "      <td>3300000</td>\n",
              "      <td>[{'id': 18, 'name': 'Drama'}]</td>\n",
              "      <td>http://sonyclassics.com/whiplash/</td>\n",
              "      <td>tt2582802</td>\n",
              "      <td>en</td>\n",
              "      <td>Whiplash</td>\n",
              "      <td>Under the direction of a ruthless instructor, ...</td>\n",
              "      <td>64.299990</td>\n",
              "      <td>...</td>\n",
              "      <td>10/10/14</td>\n",
              "      <td>105.0</td>\n",
              "      <td>[{'iso_639_1': 'en', 'name': 'English'}]</td>\n",
              "      <td>Released</td>\n",
              "      <td>The road to greatness can take you to the edge.</td>\n",
              "      <td>Whiplash</td>\n",
              "      <td>[{'id': 1416, 'name': 'jazz'}, {'id': 1523, 'n...</td>\n",
              "      <td>[{'cast_id': 5, 'character': 'Andrew Neimann',...</td>\n",
              "      <td>[{'credit_id': '54d5356ec3a3683ba0000039', 'de...</td>\n",
              "      <td>13092000</td>\n",
              "    </tr>\n",
              "    <tr>\n",
              "      <th>3</th>\n",
              "      <td>4</td>\n",
              "      <td>NaN</td>\n",
              "      <td>1200000</td>\n",
              "      <td>[{'id': 53, 'name': 'Thriller'}, {'id': 18, 'n...</td>\n",
              "      <td>http://kahaanithefilm.com/</td>\n",
              "      <td>tt1821480</td>\n",
              "      <td>hi</td>\n",
              "      <td>Kahaani</td>\n",
              "      <td>Vidya Bagchi (Vidya Balan) arrives in Kolkata ...</td>\n",
              "      <td>3.174936</td>\n",
              "      <td>...</td>\n",
              "      <td>3/9/12</td>\n",
              "      <td>122.0</td>\n",
              "      <td>[{'iso_639_1': 'en', 'name': 'English'}, {'iso...</td>\n",
              "      <td>Released</td>\n",
              "      <td>NaN</td>\n",
              "      <td>Kahaani</td>\n",
              "      <td>[{'id': 10092, 'name': 'mystery'}, {'id': 1054...</td>\n",
              "      <td>[{'cast_id': 1, 'character': 'Vidya Bagchi', '...</td>\n",
              "      <td>[{'credit_id': '52fe48779251416c9108d6eb', 'de...</td>\n",
              "      <td>16000000</td>\n",
              "    </tr>\n",
              "    <tr>\n",
              "      <th>4</th>\n",
              "      <td>5</td>\n",
              "      <td>NaN</td>\n",
              "      <td>0</td>\n",
              "      <td>[{'id': 28, 'name': 'Action'}, {'id': 53, 'nam...</td>\n",
              "      <td>NaN</td>\n",
              "      <td>tt1380152</td>\n",
              "      <td>ko</td>\n",
              "      <td>마린보이</td>\n",
              "      <td>Marine Boy is the story of a former national s...</td>\n",
              "      <td>1.148070</td>\n",
              "      <td>...</td>\n",
              "      <td>2/5/09</td>\n",
              "      <td>118.0</td>\n",
              "      <td>[{'iso_639_1': 'ko', 'name': '한국어/조선말'}]</td>\n",
              "      <td>Released</td>\n",
              "      <td>NaN</td>\n",
              "      <td>Marine Boy</td>\n",
              "      <td>NaN</td>\n",
              "      <td>[{'cast_id': 3, 'character': 'Chun-soo', 'cred...</td>\n",
              "      <td>[{'credit_id': '52fe464b9251416c75073b43', 'de...</td>\n",
              "      <td>3923970</td>\n",
              "    </tr>\n",
              "  </tbody>\n",
              "</table>\n",
              "<p>5 rows × 23 columns</p>\n",
              "</div>\n",
              "      <button class=\"colab-df-convert\" onclick=\"convertToInteractive('df-659b2f7c-4d83-47f8-8f39-0fdd5eda2842')\"\n",
              "              title=\"Convert this dataframe to an interactive table.\"\n",
              "              style=\"display:none;\">\n",
              "        \n",
              "  <svg xmlns=\"http://www.w3.org/2000/svg\" height=\"24px\"viewBox=\"0 0 24 24\"\n",
              "       width=\"24px\">\n",
              "    <path d=\"M0 0h24v24H0V0z\" fill=\"none\"/>\n",
              "    <path d=\"M18.56 5.44l.94 2.06.94-2.06 2.06-.94-2.06-.94-.94-2.06-.94 2.06-2.06.94zm-11 1L8.5 8.5l.94-2.06 2.06-.94-2.06-.94L8.5 2.5l-.94 2.06-2.06.94zm10 10l.94 2.06.94-2.06 2.06-.94-2.06-.94-.94-2.06-.94 2.06-2.06.94z\"/><path d=\"M17.41 7.96l-1.37-1.37c-.4-.4-.92-.59-1.43-.59-.52 0-1.04.2-1.43.59L10.3 9.45l-7.72 7.72c-.78.78-.78 2.05 0 2.83L4 21.41c.39.39.9.59 1.41.59.51 0 1.02-.2 1.41-.59l7.78-7.78 2.81-2.81c.8-.78.8-2.07 0-2.86zM5.41 20L4 18.59l7.72-7.72 1.47 1.35L5.41 20z\"/>\n",
              "  </svg>\n",
              "      </button>\n",
              "      \n",
              "  <style>\n",
              "    .colab-df-container {\n",
              "      display:flex;\n",
              "      flex-wrap:wrap;\n",
              "      gap: 12px;\n",
              "    }\n",
              "\n",
              "    .colab-df-convert {\n",
              "      background-color: #E8F0FE;\n",
              "      border: none;\n",
              "      border-radius: 50%;\n",
              "      cursor: pointer;\n",
              "      display: none;\n",
              "      fill: #1967D2;\n",
              "      height: 32px;\n",
              "      padding: 0 0 0 0;\n",
              "      width: 32px;\n",
              "    }\n",
              "\n",
              "    .colab-df-convert:hover {\n",
              "      background-color: #E2EBFA;\n",
              "      box-shadow: 0px 1px 2px rgba(60, 64, 67, 0.3), 0px 1px 3px 1px rgba(60, 64, 67, 0.15);\n",
              "      fill: #174EA6;\n",
              "    }\n",
              "\n",
              "    [theme=dark] .colab-df-convert {\n",
              "      background-color: #3B4455;\n",
              "      fill: #D2E3FC;\n",
              "    }\n",
              "\n",
              "    [theme=dark] .colab-df-convert:hover {\n",
              "      background-color: #434B5C;\n",
              "      box-shadow: 0px 1px 3px 1px rgba(0, 0, 0, 0.15);\n",
              "      filter: drop-shadow(0px 1px 2px rgba(0, 0, 0, 0.3));\n",
              "      fill: #FFFFFF;\n",
              "    }\n",
              "  </style>\n",
              "\n",
              "      <script>\n",
              "        const buttonEl =\n",
              "          document.querySelector('#df-659b2f7c-4d83-47f8-8f39-0fdd5eda2842 button.colab-df-convert');\n",
              "        buttonEl.style.display =\n",
              "          google.colab.kernel.accessAllowed ? 'block' : 'none';\n",
              "\n",
              "        async function convertToInteractive(key) {\n",
              "          const element = document.querySelector('#df-659b2f7c-4d83-47f8-8f39-0fdd5eda2842');\n",
              "          const dataTable =\n",
              "            await google.colab.kernel.invokeFunction('convertToInteractive',\n",
              "                                                     [key], {});\n",
              "          if (!dataTable) return;\n",
              "\n",
              "          const docLinkHtml = 'Like what you see? Visit the ' +\n",
              "            '<a target=\"_blank\" href=https://colab.research.google.com/notebooks/data_table.ipynb>data table notebook</a>'\n",
              "            + ' to learn more about interactive tables.';\n",
              "          element.innerHTML = '';\n",
              "          dataTable['output_type'] = 'display_data';\n",
              "          await google.colab.output.renderOutput(dataTable, element);\n",
              "          const docLink = document.createElement('div');\n",
              "          docLink.innerHTML = docLinkHtml;\n",
              "          element.appendChild(docLink);\n",
              "        }\n",
              "      </script>\n",
              "    </div>\n",
              "  </div>\n",
              "  "
            ]
          },
          "metadata": {},
          "execution_count": 45
        }
      ],
      "source": [
        "box_office.head()"
      ]
    },
    {
      "cell_type": "code",
      "execution_count": null,
      "id": "82818c21",
      "metadata": {
        "colab": {
          "base_uri": "https://localhost:8080/",
          "height": 699
        },
        "id": "82818c21",
        "outputId": "4e4ed483-9057-4229-e223-3bbd139fa00d"
      },
      "outputs": [
        {
          "output_type": "execute_result",
          "data": {
            "text/plain": [
              "        id belongs_to_collection    budget  \\\n",
              "2995  2996                   NaN         0   \n",
              "2996  2997                   NaN         0   \n",
              "2997  2998                   NaN  65000000   \n",
              "2998  2999                   NaN  42000000   \n",
              "2999  3000                   NaN  35000000   \n",
              "\n",
              "                                                 genres  \\\n",
              "2995  [{'id': 35, 'name': 'Comedy'}, {'id': 10749, '...   \n",
              "2996  [{'id': 18, 'name': 'Drama'}, {'id': 10402, 'n...   \n",
              "2997  [{'id': 80, 'name': 'Crime'}, {'id': 28, 'name...   \n",
              "2998  [{'id': 35, 'name': 'Comedy'}, {'id': 10749, '...   \n",
              "2999  [{'id': 53, 'name': 'Thriller'}, {'id': 28, 'n...   \n",
              "\n",
              "                              homepage    imdb_id original_language  \\\n",
              "2995                               NaN  tt0109403                en   \n",
              "2996                               NaN  tt2364975                sv   \n",
              "2997                               NaN  tt0116908                en   \n",
              "2998    http://www.alongcamepolly.com/  tt0343135                en   \n",
              "2999  http://www.abductionthefilm.com/  tt1600195                en   \n",
              "\n",
              "               original_title  \\\n",
              "2995                  Chasers   \n",
              "2996              Vi är bäst!   \n",
              "2997  The Long Kiss Goodnight   \n",
              "2998         Along Came Polly   \n",
              "2999                Abduction   \n",
              "\n",
              "                                               overview  popularity  ...  \\\n",
              "2995  Military men Rock Reilly and Eddie Devane are ...    9.853270  ...   \n",
              "2996  Three girls in 1980s Stockholm decide to form ...    3.727996  ...   \n",
              "2997  Samantha Caine, suburban homemaker, is the ide...   14.482345  ...   \n",
              "2998  Reuben Feffer is a guy who's spent his entire ...   15.725542  ...   \n",
              "2999  A young man sets out to uncover the truth abou...   10.512109  ...   \n",
              "\n",
              "     release_date runtime                          spoken_languages    status  \\\n",
              "2995      4/22/94   102.0  [{'iso_639_1': 'en', 'name': 'English'}]  Released   \n",
              "2996      3/28/13   102.0  [{'iso_639_1': 'sv', 'name': 'svenska'}]  Released   \n",
              "2997     10/11/96   120.0  [{'iso_639_1': 'en', 'name': 'English'}]  Released   \n",
              "2998      1/16/04    90.0  [{'iso_639_1': 'en', 'name': 'English'}]  Released   \n",
              "2999      9/22/11   106.0  [{'iso_639_1': 'en', 'name': 'English'}]  Released   \n",
              "\n",
              "                                                tagline  \\\n",
              "2995  It was supposed to be a routine prisoner trans...   \n",
              "2996                                                NaN   \n",
              "2997               What's forgotten is not always gone.   \n",
              "2998  For the most cautious man on Earth, life is ab...   \n",
              "2999          They stole his life. He's taking it back.   \n",
              "\n",
              "                        title  \\\n",
              "2995                  Chasers   \n",
              "2996         We Are the Best!   \n",
              "2997  The Long Kiss Goodnight   \n",
              "2998         Along Came Polly   \n",
              "2999                Abduction   \n",
              "\n",
              "                                               Keywords  \\\n",
              "2995  [{'id': 378, 'name': 'prison'}, {'id': 572, 'n...   \n",
              "2996  [{'id': 1192, 'name': 'sweden'}, {'id': 4470, ...   \n",
              "2997  [{'id': 441, 'name': 'assassination'}, {'id': ...   \n",
              "2998  [{'id': 966, 'name': 'beach'}, {'id': 2676, 'n...   \n",
              "2999  [{'id': 591, 'name': 'cia'}, {'id': 822, 'name...   \n",
              "\n",
              "                                                   cast  \\\n",
              "2995  [{'cast_id': 2, 'character': 'Rock Reilly', 'c...   \n",
              "2996  [{'cast_id': 5, 'character': 'Bobo', 'credit_i...   \n",
              "2997  [{'cast_id': 10, 'character': 'Samantha Caine ...   \n",
              "2998  [{'cast_id': 8, 'character': 'Reuben Feffer', ...   \n",
              "2999  [{'cast_id': 2, 'character': 'Nathan Harper', ...   \n",
              "\n",
              "                                                   crew    revenue  \n",
              "2995  [{'credit_id': '52fe4494c3a368484e02ac7d', 'de...    1596687  \n",
              "2996  [{'credit_id': '5716b72ac3a3686678012c84', 'de...     180590  \n",
              "2997  [{'credit_id': '52fe443a9251416c7502d579', 'de...   89456761  \n",
              "2998  [{'credit_id': '556f817b9251410866000a63', 'de...  171963386  \n",
              "2999  [{'credit_id': '5391990d0e0a260fb5001629', 'de...   82087155  \n",
              "\n",
              "[5 rows x 23 columns]"
            ],
            "text/html": [
              "\n",
              "  <div id=\"df-a8175fa7-7fa1-447e-8fd7-af673a3ca226\">\n",
              "    <div class=\"colab-df-container\">\n",
              "      <div>\n",
              "<style scoped>\n",
              "    .dataframe tbody tr th:only-of-type {\n",
              "        vertical-align: middle;\n",
              "    }\n",
              "\n",
              "    .dataframe tbody tr th {\n",
              "        vertical-align: top;\n",
              "    }\n",
              "\n",
              "    .dataframe thead th {\n",
              "        text-align: right;\n",
              "    }\n",
              "</style>\n",
              "<table border=\"1\" class=\"dataframe\">\n",
              "  <thead>\n",
              "    <tr style=\"text-align: right;\">\n",
              "      <th></th>\n",
              "      <th>id</th>\n",
              "      <th>belongs_to_collection</th>\n",
              "      <th>budget</th>\n",
              "      <th>genres</th>\n",
              "      <th>homepage</th>\n",
              "      <th>imdb_id</th>\n",
              "      <th>original_language</th>\n",
              "      <th>original_title</th>\n",
              "      <th>overview</th>\n",
              "      <th>popularity</th>\n",
              "      <th>...</th>\n",
              "      <th>release_date</th>\n",
              "      <th>runtime</th>\n",
              "      <th>spoken_languages</th>\n",
              "      <th>status</th>\n",
              "      <th>tagline</th>\n",
              "      <th>title</th>\n",
              "      <th>Keywords</th>\n",
              "      <th>cast</th>\n",
              "      <th>crew</th>\n",
              "      <th>revenue</th>\n",
              "    </tr>\n",
              "  </thead>\n",
              "  <tbody>\n",
              "    <tr>\n",
              "      <th>2995</th>\n",
              "      <td>2996</td>\n",
              "      <td>NaN</td>\n",
              "      <td>0</td>\n",
              "      <td>[{'id': 35, 'name': 'Comedy'}, {'id': 10749, '...</td>\n",
              "      <td>NaN</td>\n",
              "      <td>tt0109403</td>\n",
              "      <td>en</td>\n",
              "      <td>Chasers</td>\n",
              "      <td>Military men Rock Reilly and Eddie Devane are ...</td>\n",
              "      <td>9.853270</td>\n",
              "      <td>...</td>\n",
              "      <td>4/22/94</td>\n",
              "      <td>102.0</td>\n",
              "      <td>[{'iso_639_1': 'en', 'name': 'English'}]</td>\n",
              "      <td>Released</td>\n",
              "      <td>It was supposed to be a routine prisoner trans...</td>\n",
              "      <td>Chasers</td>\n",
              "      <td>[{'id': 378, 'name': 'prison'}, {'id': 572, 'n...</td>\n",
              "      <td>[{'cast_id': 2, 'character': 'Rock Reilly', 'c...</td>\n",
              "      <td>[{'credit_id': '52fe4494c3a368484e02ac7d', 'de...</td>\n",
              "      <td>1596687</td>\n",
              "    </tr>\n",
              "    <tr>\n",
              "      <th>2996</th>\n",
              "      <td>2997</td>\n",
              "      <td>NaN</td>\n",
              "      <td>0</td>\n",
              "      <td>[{'id': 18, 'name': 'Drama'}, {'id': 10402, 'n...</td>\n",
              "      <td>NaN</td>\n",
              "      <td>tt2364975</td>\n",
              "      <td>sv</td>\n",
              "      <td>Vi är bäst!</td>\n",
              "      <td>Three girls in 1980s Stockholm decide to form ...</td>\n",
              "      <td>3.727996</td>\n",
              "      <td>...</td>\n",
              "      <td>3/28/13</td>\n",
              "      <td>102.0</td>\n",
              "      <td>[{'iso_639_1': 'sv', 'name': 'svenska'}]</td>\n",
              "      <td>Released</td>\n",
              "      <td>NaN</td>\n",
              "      <td>We Are the Best!</td>\n",
              "      <td>[{'id': 1192, 'name': 'sweden'}, {'id': 4470, ...</td>\n",
              "      <td>[{'cast_id': 5, 'character': 'Bobo', 'credit_i...</td>\n",
              "      <td>[{'credit_id': '5716b72ac3a3686678012c84', 'de...</td>\n",
              "      <td>180590</td>\n",
              "    </tr>\n",
              "    <tr>\n",
              "      <th>2997</th>\n",
              "      <td>2998</td>\n",
              "      <td>NaN</td>\n",
              "      <td>65000000</td>\n",
              "      <td>[{'id': 80, 'name': 'Crime'}, {'id': 28, 'name...</td>\n",
              "      <td>NaN</td>\n",
              "      <td>tt0116908</td>\n",
              "      <td>en</td>\n",
              "      <td>The Long Kiss Goodnight</td>\n",
              "      <td>Samantha Caine, suburban homemaker, is the ide...</td>\n",
              "      <td>14.482345</td>\n",
              "      <td>...</td>\n",
              "      <td>10/11/96</td>\n",
              "      <td>120.0</td>\n",
              "      <td>[{'iso_639_1': 'en', 'name': 'English'}]</td>\n",
              "      <td>Released</td>\n",
              "      <td>What's forgotten is not always gone.</td>\n",
              "      <td>The Long Kiss Goodnight</td>\n",
              "      <td>[{'id': 441, 'name': 'assassination'}, {'id': ...</td>\n",
              "      <td>[{'cast_id': 10, 'character': 'Samantha Caine ...</td>\n",
              "      <td>[{'credit_id': '52fe443a9251416c7502d579', 'de...</td>\n",
              "      <td>89456761</td>\n",
              "    </tr>\n",
              "    <tr>\n",
              "      <th>2998</th>\n",
              "      <td>2999</td>\n",
              "      <td>NaN</td>\n",
              "      <td>42000000</td>\n",
              "      <td>[{'id': 35, 'name': 'Comedy'}, {'id': 10749, '...</td>\n",
              "      <td>http://www.alongcamepolly.com/</td>\n",
              "      <td>tt0343135</td>\n",
              "      <td>en</td>\n",
              "      <td>Along Came Polly</td>\n",
              "      <td>Reuben Feffer is a guy who's spent his entire ...</td>\n",
              "      <td>15.725542</td>\n",
              "      <td>...</td>\n",
              "      <td>1/16/04</td>\n",
              "      <td>90.0</td>\n",
              "      <td>[{'iso_639_1': 'en', 'name': 'English'}]</td>\n",
              "      <td>Released</td>\n",
              "      <td>For the most cautious man on Earth, life is ab...</td>\n",
              "      <td>Along Came Polly</td>\n",
              "      <td>[{'id': 966, 'name': 'beach'}, {'id': 2676, 'n...</td>\n",
              "      <td>[{'cast_id': 8, 'character': 'Reuben Feffer', ...</td>\n",
              "      <td>[{'credit_id': '556f817b9251410866000a63', 'de...</td>\n",
              "      <td>171963386</td>\n",
              "    </tr>\n",
              "    <tr>\n",
              "      <th>2999</th>\n",
              "      <td>3000</td>\n",
              "      <td>NaN</td>\n",
              "      <td>35000000</td>\n",
              "      <td>[{'id': 53, 'name': 'Thriller'}, {'id': 28, 'n...</td>\n",
              "      <td>http://www.abductionthefilm.com/</td>\n",
              "      <td>tt1600195</td>\n",
              "      <td>en</td>\n",
              "      <td>Abduction</td>\n",
              "      <td>A young man sets out to uncover the truth abou...</td>\n",
              "      <td>10.512109</td>\n",
              "      <td>...</td>\n",
              "      <td>9/22/11</td>\n",
              "      <td>106.0</td>\n",
              "      <td>[{'iso_639_1': 'en', 'name': 'English'}]</td>\n",
              "      <td>Released</td>\n",
              "      <td>They stole his life. He's taking it back.</td>\n",
              "      <td>Abduction</td>\n",
              "      <td>[{'id': 591, 'name': 'cia'}, {'id': 822, 'name...</td>\n",
              "      <td>[{'cast_id': 2, 'character': 'Nathan Harper', ...</td>\n",
              "      <td>[{'credit_id': '5391990d0e0a260fb5001629', 'de...</td>\n",
              "      <td>82087155</td>\n",
              "    </tr>\n",
              "  </tbody>\n",
              "</table>\n",
              "<p>5 rows × 23 columns</p>\n",
              "</div>\n",
              "      <button class=\"colab-df-convert\" onclick=\"convertToInteractive('df-a8175fa7-7fa1-447e-8fd7-af673a3ca226')\"\n",
              "              title=\"Convert this dataframe to an interactive table.\"\n",
              "              style=\"display:none;\">\n",
              "        \n",
              "  <svg xmlns=\"http://www.w3.org/2000/svg\" height=\"24px\"viewBox=\"0 0 24 24\"\n",
              "       width=\"24px\">\n",
              "    <path d=\"M0 0h24v24H0V0z\" fill=\"none\"/>\n",
              "    <path d=\"M18.56 5.44l.94 2.06.94-2.06 2.06-.94-2.06-.94-.94-2.06-.94 2.06-2.06.94zm-11 1L8.5 8.5l.94-2.06 2.06-.94-2.06-.94L8.5 2.5l-.94 2.06-2.06.94zm10 10l.94 2.06.94-2.06 2.06-.94-2.06-.94-.94-2.06-.94 2.06-2.06.94z\"/><path d=\"M17.41 7.96l-1.37-1.37c-.4-.4-.92-.59-1.43-.59-.52 0-1.04.2-1.43.59L10.3 9.45l-7.72 7.72c-.78.78-.78 2.05 0 2.83L4 21.41c.39.39.9.59 1.41.59.51 0 1.02-.2 1.41-.59l7.78-7.78 2.81-2.81c.8-.78.8-2.07 0-2.86zM5.41 20L4 18.59l7.72-7.72 1.47 1.35L5.41 20z\"/>\n",
              "  </svg>\n",
              "      </button>\n",
              "      \n",
              "  <style>\n",
              "    .colab-df-container {\n",
              "      display:flex;\n",
              "      flex-wrap:wrap;\n",
              "      gap: 12px;\n",
              "    }\n",
              "\n",
              "    .colab-df-convert {\n",
              "      background-color: #E8F0FE;\n",
              "      border: none;\n",
              "      border-radius: 50%;\n",
              "      cursor: pointer;\n",
              "      display: none;\n",
              "      fill: #1967D2;\n",
              "      height: 32px;\n",
              "      padding: 0 0 0 0;\n",
              "      width: 32px;\n",
              "    }\n",
              "\n",
              "    .colab-df-convert:hover {\n",
              "      background-color: #E2EBFA;\n",
              "      box-shadow: 0px 1px 2px rgba(60, 64, 67, 0.3), 0px 1px 3px 1px rgba(60, 64, 67, 0.15);\n",
              "      fill: #174EA6;\n",
              "    }\n",
              "\n",
              "    [theme=dark] .colab-df-convert {\n",
              "      background-color: #3B4455;\n",
              "      fill: #D2E3FC;\n",
              "    }\n",
              "\n",
              "    [theme=dark] .colab-df-convert:hover {\n",
              "      background-color: #434B5C;\n",
              "      box-shadow: 0px 1px 3px 1px rgba(0, 0, 0, 0.15);\n",
              "      filter: drop-shadow(0px 1px 2px rgba(0, 0, 0, 0.3));\n",
              "      fill: #FFFFFF;\n",
              "    }\n",
              "  </style>\n",
              "\n",
              "      <script>\n",
              "        const buttonEl =\n",
              "          document.querySelector('#df-a8175fa7-7fa1-447e-8fd7-af673a3ca226 button.colab-df-convert');\n",
              "        buttonEl.style.display =\n",
              "          google.colab.kernel.accessAllowed ? 'block' : 'none';\n",
              "\n",
              "        async function convertToInteractive(key) {\n",
              "          const element = document.querySelector('#df-a8175fa7-7fa1-447e-8fd7-af673a3ca226');\n",
              "          const dataTable =\n",
              "            await google.colab.kernel.invokeFunction('convertToInteractive',\n",
              "                                                     [key], {});\n",
              "          if (!dataTable) return;\n",
              "\n",
              "          const docLinkHtml = 'Like what you see? Visit the ' +\n",
              "            '<a target=\"_blank\" href=https://colab.research.google.com/notebooks/data_table.ipynb>data table notebook</a>'\n",
              "            + ' to learn more about interactive tables.';\n",
              "          element.innerHTML = '';\n",
              "          dataTable['output_type'] = 'display_data';\n",
              "          await google.colab.output.renderOutput(dataTable, element);\n",
              "          const docLink = document.createElement('div');\n",
              "          docLink.innerHTML = docLinkHtml;\n",
              "          element.appendChild(docLink);\n",
              "        }\n",
              "      </script>\n",
              "    </div>\n",
              "  </div>\n",
              "  "
            ]
          },
          "metadata": {},
          "execution_count": 46
        }
      ],
      "source": [
        "box_office.tail()"
      ]
    },
    {
      "cell_type": "code",
      "execution_count": null,
      "id": "e816c560",
      "metadata": {
        "colab": {
          "base_uri": "https://localhost:8080/",
          "height": 169
        },
        "id": "e816c560",
        "outputId": "c381c8a4-8df9-4a6f-96a4-cf713a5d80f6"
      },
      "outputs": [
        {
          "output_type": "error",
          "ename": "NameError",
          "evalue": "ignored",
          "traceback": [
            "\u001b[0;31m---------------------------------------------------------------------------\u001b[0m",
            "\u001b[0;31mNameError\u001b[0m                                 Traceback (most recent call last)",
            "\u001b[0;32m<ipython-input-1-827e5821edf9>\u001b[0m in \u001b[0;36m<module>\u001b[0;34m()\u001b[0m\n\u001b[0;32m----> 1\u001b[0;31m \u001b[0mbox_office\u001b[0m\u001b[0;34m.\u001b[0m\u001b[0mdescribe\u001b[0m\u001b[0;34m(\u001b[0m\u001b[0minclude\u001b[0m\u001b[0;34m=\u001b[0m\u001b[0;34m'all'\u001b[0m\u001b[0;34m)\u001b[0m\u001b[0;34m\u001b[0m\u001b[0;34m\u001b[0m\u001b[0m\n\u001b[0m",
            "\u001b[0;31mNameError\u001b[0m: name 'box_office' is not defined"
          ]
        }
      ],
      "source": [
        "box_office.describe(include='all')"
      ]
    },
    {
      "cell_type": "code",
      "execution_count": null,
      "id": "1ecee23e",
      "metadata": {
        "colab": {
          "base_uri": "https://localhost:8080/"
        },
        "id": "1ecee23e",
        "outputId": "b708d2d9-b18a-41bb-c2ee-b5ec0db18196"
      },
      "outputs": [
        {
          "output_type": "execute_result",
          "data": {
            "text/plain": [
              "(3000, 23)"
            ]
          },
          "metadata": {},
          "execution_count": 48
        }
      ],
      "source": [
        "box_office.shape"
      ]
    },
    {
      "cell_type": "code",
      "execution_count": null,
      "id": "8dbeebcd",
      "metadata": {
        "colab": {
          "base_uri": "https://localhost:8080/"
        },
        "id": "8dbeebcd",
        "outputId": "053fef02-be83-4fad-ac28-3ac239bef8dc"
      },
      "outputs": [
        {
          "output_type": "execute_result",
          "data": {
            "text/plain": [
              "(3000, 23)"
            ]
          },
          "metadata": {},
          "execution_count": 49
        }
      ],
      "source": [
        "box_office.drop_duplicates(keep='first', inplace=True)\n",
        "box_office.shape"
      ]
    },
    {
      "cell_type": "code",
      "execution_count": null,
      "id": "54bf0f00",
      "metadata": {
        "colab": {
          "base_uri": "https://localhost:8080/"
        },
        "id": "54bf0f00",
        "outputId": "2354906f-71d1-4c79-e3e2-ae9b3a50fb91"
      },
      "outputs": [
        {
          "output_type": "stream",
          "name": "stdout",
          "text": [
            "<class 'pandas.core.frame.DataFrame'>\n",
            "Int64Index: 3000 entries, 0 to 2999\n",
            "Data columns (total 23 columns):\n",
            " #   Column                 Non-Null Count  Dtype  \n",
            "---  ------                 --------------  -----  \n",
            " 0   id                     3000 non-null   int64  \n",
            " 1   belongs_to_collection  604 non-null    object \n",
            " 2   budget                 3000 non-null   int64  \n",
            " 3   genres                 2993 non-null   object \n",
            " 4   homepage               946 non-null    object \n",
            " 5   imdb_id                3000 non-null   object \n",
            " 6   original_language      3000 non-null   object \n",
            " 7   original_title         3000 non-null   object \n",
            " 8   overview               2992 non-null   object \n",
            " 9   popularity             3000 non-null   float64\n",
            " 10  poster_path            2999 non-null   object \n",
            " 11  production_companies   2844 non-null   object \n",
            " 12  production_countries   2945 non-null   object \n",
            " 13  release_date           3000 non-null   object \n",
            " 14  runtime                2998 non-null   float64\n",
            " 15  spoken_languages       2980 non-null   object \n",
            " 16  status                 3000 non-null   object \n",
            " 17  tagline                2403 non-null   object \n",
            " 18  title                  3000 non-null   object \n",
            " 19  Keywords               2724 non-null   object \n",
            " 20  cast                   2987 non-null   object \n",
            " 21  crew                   2984 non-null   object \n",
            " 22  revenue                3000 non-null   int64  \n",
            "dtypes: float64(2), int64(3), object(18)\n",
            "memory usage: 562.5+ KB\n"
          ]
        }
      ],
      "source": [
        "box_office.info()"
      ]
    },
    {
      "cell_type": "code",
      "execution_count": null,
      "id": "555bd9d6",
      "metadata": {
        "colab": {
          "base_uri": "https://localhost:8080/"
        },
        "id": "555bd9d6",
        "outputId": "a385a099-0cba-43df-b998-ed449c66d286"
      },
      "outputs": [
        {
          "output_type": "execute_result",
          "data": {
            "text/plain": [
              "id                          0\n",
              "belongs_to_collection    2396\n",
              "budget                      0\n",
              "genres                      7\n",
              "homepage                 2054\n",
              "imdb_id                     0\n",
              "original_language           0\n",
              "original_title              0\n",
              "overview                    8\n",
              "popularity                  0\n",
              "poster_path                 1\n",
              "production_companies      156\n",
              "production_countries       55\n",
              "release_date                0\n",
              "runtime                     2\n",
              "spoken_languages           20\n",
              "status                      0\n",
              "tagline                   597\n",
              "title                       0\n",
              "Keywords                  276\n",
              "cast                       13\n",
              "crew                       16\n",
              "revenue                     0\n",
              "dtype: int64"
            ]
          },
          "metadata": {},
          "execution_count": 51
        }
      ],
      "source": [
        "box_office.isnull().sum()"
      ]
    },
    {
      "cell_type": "markdown",
      "id": "1a215710",
      "metadata": {
        "id": "1a215710"
      },
      "source": [
        "## Data cleaning"
      ]
    },
    {
      "cell_type": "code",
      "execution_count": null,
      "id": "1da9d49f",
      "metadata": {
        "colab": {
          "base_uri": "https://localhost:8080/",
          "height": 300
        },
        "id": "1da9d49f",
        "outputId": "65fa3b23-e31d-4c00-dbbc-906896d5a06b"
      },
      "outputs": [
        {
          "output_type": "execute_result",
          "data": {
            "text/plain": [
              "                id        budget   popularity      runtime       revenue\n",
              "count  3000.000000  3.000000e+03  3000.000000  2998.000000  3.000000e+03\n",
              "mean   1500.500000  2.253133e+07     8.463274   107.856571  6.672585e+07\n",
              "std     866.169729  3.702609e+07    12.104000    22.086434  1.375323e+08\n",
              "min       1.000000  0.000000e+00     0.000001     0.000000  1.000000e+00\n",
              "25%     750.750000  0.000000e+00     4.018053    94.000000  2.379808e+06\n",
              "50%    1500.500000  8.000000e+06     7.374861   104.000000  1.680707e+07\n",
              "75%    2250.250000  2.900000e+07    10.890983   118.000000  6.891920e+07\n",
              "max    3000.000000  3.800000e+08   294.337037   338.000000  1.519558e+09"
            ],
            "text/html": [
              "\n",
              "  <div id=\"df-67f01378-e6ec-4632-91be-6018da2a5d7f\">\n",
              "    <div class=\"colab-df-container\">\n",
              "      <div>\n",
              "<style scoped>\n",
              "    .dataframe tbody tr th:only-of-type {\n",
              "        vertical-align: middle;\n",
              "    }\n",
              "\n",
              "    .dataframe tbody tr th {\n",
              "        vertical-align: top;\n",
              "    }\n",
              "\n",
              "    .dataframe thead th {\n",
              "        text-align: right;\n",
              "    }\n",
              "</style>\n",
              "<table border=\"1\" class=\"dataframe\">\n",
              "  <thead>\n",
              "    <tr style=\"text-align: right;\">\n",
              "      <th></th>\n",
              "      <th>id</th>\n",
              "      <th>budget</th>\n",
              "      <th>popularity</th>\n",
              "      <th>runtime</th>\n",
              "      <th>revenue</th>\n",
              "    </tr>\n",
              "  </thead>\n",
              "  <tbody>\n",
              "    <tr>\n",
              "      <th>count</th>\n",
              "      <td>3000.000000</td>\n",
              "      <td>3.000000e+03</td>\n",
              "      <td>3000.000000</td>\n",
              "      <td>2998.000000</td>\n",
              "      <td>3.000000e+03</td>\n",
              "    </tr>\n",
              "    <tr>\n",
              "      <th>mean</th>\n",
              "      <td>1500.500000</td>\n",
              "      <td>2.253133e+07</td>\n",
              "      <td>8.463274</td>\n",
              "      <td>107.856571</td>\n",
              "      <td>6.672585e+07</td>\n",
              "    </tr>\n",
              "    <tr>\n",
              "      <th>std</th>\n",
              "      <td>866.169729</td>\n",
              "      <td>3.702609e+07</td>\n",
              "      <td>12.104000</td>\n",
              "      <td>22.086434</td>\n",
              "      <td>1.375323e+08</td>\n",
              "    </tr>\n",
              "    <tr>\n",
              "      <th>min</th>\n",
              "      <td>1.000000</td>\n",
              "      <td>0.000000e+00</td>\n",
              "      <td>0.000001</td>\n",
              "      <td>0.000000</td>\n",
              "      <td>1.000000e+00</td>\n",
              "    </tr>\n",
              "    <tr>\n",
              "      <th>25%</th>\n",
              "      <td>750.750000</td>\n",
              "      <td>0.000000e+00</td>\n",
              "      <td>4.018053</td>\n",
              "      <td>94.000000</td>\n",
              "      <td>2.379808e+06</td>\n",
              "    </tr>\n",
              "    <tr>\n",
              "      <th>50%</th>\n",
              "      <td>1500.500000</td>\n",
              "      <td>8.000000e+06</td>\n",
              "      <td>7.374861</td>\n",
              "      <td>104.000000</td>\n",
              "      <td>1.680707e+07</td>\n",
              "    </tr>\n",
              "    <tr>\n",
              "      <th>75%</th>\n",
              "      <td>2250.250000</td>\n",
              "      <td>2.900000e+07</td>\n",
              "      <td>10.890983</td>\n",
              "      <td>118.000000</td>\n",
              "      <td>6.891920e+07</td>\n",
              "    </tr>\n",
              "    <tr>\n",
              "      <th>max</th>\n",
              "      <td>3000.000000</td>\n",
              "      <td>3.800000e+08</td>\n",
              "      <td>294.337037</td>\n",
              "      <td>338.000000</td>\n",
              "      <td>1.519558e+09</td>\n",
              "    </tr>\n",
              "  </tbody>\n",
              "</table>\n",
              "</div>\n",
              "      <button class=\"colab-df-convert\" onclick=\"convertToInteractive('df-67f01378-e6ec-4632-91be-6018da2a5d7f')\"\n",
              "              title=\"Convert this dataframe to an interactive table.\"\n",
              "              style=\"display:none;\">\n",
              "        \n",
              "  <svg xmlns=\"http://www.w3.org/2000/svg\" height=\"24px\"viewBox=\"0 0 24 24\"\n",
              "       width=\"24px\">\n",
              "    <path d=\"M0 0h24v24H0V0z\" fill=\"none\"/>\n",
              "    <path d=\"M18.56 5.44l.94 2.06.94-2.06 2.06-.94-2.06-.94-.94-2.06-.94 2.06-2.06.94zm-11 1L8.5 8.5l.94-2.06 2.06-.94-2.06-.94L8.5 2.5l-.94 2.06-2.06.94zm10 10l.94 2.06.94-2.06 2.06-.94-2.06-.94-.94-2.06-.94 2.06-2.06.94z\"/><path d=\"M17.41 7.96l-1.37-1.37c-.4-.4-.92-.59-1.43-.59-.52 0-1.04.2-1.43.59L10.3 9.45l-7.72 7.72c-.78.78-.78 2.05 0 2.83L4 21.41c.39.39.9.59 1.41.59.51 0 1.02-.2 1.41-.59l7.78-7.78 2.81-2.81c.8-.78.8-2.07 0-2.86zM5.41 20L4 18.59l7.72-7.72 1.47 1.35L5.41 20z\"/>\n",
              "  </svg>\n",
              "      </button>\n",
              "      \n",
              "  <style>\n",
              "    .colab-df-container {\n",
              "      display:flex;\n",
              "      flex-wrap:wrap;\n",
              "      gap: 12px;\n",
              "    }\n",
              "\n",
              "    .colab-df-convert {\n",
              "      background-color: #E8F0FE;\n",
              "      border: none;\n",
              "      border-radius: 50%;\n",
              "      cursor: pointer;\n",
              "      display: none;\n",
              "      fill: #1967D2;\n",
              "      height: 32px;\n",
              "      padding: 0 0 0 0;\n",
              "      width: 32px;\n",
              "    }\n",
              "\n",
              "    .colab-df-convert:hover {\n",
              "      background-color: #E2EBFA;\n",
              "      box-shadow: 0px 1px 2px rgba(60, 64, 67, 0.3), 0px 1px 3px 1px rgba(60, 64, 67, 0.15);\n",
              "      fill: #174EA6;\n",
              "    }\n",
              "\n",
              "    [theme=dark] .colab-df-convert {\n",
              "      background-color: #3B4455;\n",
              "      fill: #D2E3FC;\n",
              "    }\n",
              "\n",
              "    [theme=dark] .colab-df-convert:hover {\n",
              "      background-color: #434B5C;\n",
              "      box-shadow: 0px 1px 3px 1px rgba(0, 0, 0, 0.15);\n",
              "      filter: drop-shadow(0px 1px 2px rgba(0, 0, 0, 0.3));\n",
              "      fill: #FFFFFF;\n",
              "    }\n",
              "  </style>\n",
              "\n",
              "      <script>\n",
              "        const buttonEl =\n",
              "          document.querySelector('#df-67f01378-e6ec-4632-91be-6018da2a5d7f button.colab-df-convert');\n",
              "        buttonEl.style.display =\n",
              "          google.colab.kernel.accessAllowed ? 'block' : 'none';\n",
              "\n",
              "        async function convertToInteractive(key) {\n",
              "          const element = document.querySelector('#df-67f01378-e6ec-4632-91be-6018da2a5d7f');\n",
              "          const dataTable =\n",
              "            await google.colab.kernel.invokeFunction('convertToInteractive',\n",
              "                                                     [key], {});\n",
              "          if (!dataTable) return;\n",
              "\n",
              "          const docLinkHtml = 'Like what you see? Visit the ' +\n",
              "            '<a target=\"_blank\" href=https://colab.research.google.com/notebooks/data_table.ipynb>data table notebook</a>'\n",
              "            + ' to learn more about interactive tables.';\n",
              "          element.innerHTML = '';\n",
              "          dataTable['output_type'] = 'display_data';\n",
              "          await google.colab.output.renderOutput(dataTable, element);\n",
              "          const docLink = document.createElement('div');\n",
              "          docLink.innerHTML = docLinkHtml;\n",
              "          element.appendChild(docLink);\n",
              "        }\n",
              "      </script>\n",
              "    </div>\n",
              "  </div>\n",
              "  "
            ]
          },
          "metadata": {},
          "execution_count": 52
        }
      ],
      "source": [
        "box_office.describe()"
      ]
    },
    {
      "cell_type": "code",
      "execution_count": null,
      "id": "a9535aca",
      "metadata": {
        "colab": {
          "base_uri": "https://localhost:8080/",
          "height": 716
        },
        "id": "a9535aca",
        "outputId": "8a15d2e7-2fc9-412f-ffff-683e7d0545e2"
      },
      "outputs": [
        {
          "output_type": "execute_result",
          "data": {
            "text/plain": [
              "   id                              belongs_to_collection    budget  \\\n",
              "0   1  [{'id': 313576, 'name': 'Hot Tub Time Machine ...  14000000   \n",
              "1   2  [{'id': 107674, 'name': 'The Princess Diaries ...  40000000   \n",
              "2   3                                                NaN   3300000   \n",
              "3   4                                                NaN   1200000   \n",
              "4   5                                                NaN         0   \n",
              "\n",
              "                                              genres  \\\n",
              "0                     [{'id': 35, 'name': 'Comedy'}]   \n",
              "1  [{'id': 35, 'name': 'Comedy'}, {'id': 18, 'nam...   \n",
              "2                      [{'id': 18, 'name': 'Drama'}]   \n",
              "3  [{'id': 53, 'name': 'Thriller'}, {'id': 18, 'n...   \n",
              "4  [{'id': 28, 'name': 'Action'}, {'id': 53, 'nam...   \n",
              "\n",
              "                            homepage    imdb_id original_language  \\\n",
              "0                                NaN  tt2637294                en   \n",
              "1                                NaN  tt0368933                en   \n",
              "2  http://sonyclassics.com/whiplash/  tt2582802                en   \n",
              "3         http://kahaanithefilm.com/  tt1821480                hi   \n",
              "4                                NaN  tt1380152                ko   \n",
              "\n",
              "                             original_title  \\\n",
              "0                    Hot Tub Time Machine 2   \n",
              "1  The Princess Diaries 2: Royal Engagement   \n",
              "2                                  Whiplash   \n",
              "3                                   Kahaani   \n",
              "4                                      마린보이   \n",
              "\n",
              "                                            overview  popularity  ...  \\\n",
              "0  When Lou, who has become the \"father of the In...    6.575393  ...   \n",
              "1  Mia Thermopolis is now a college graduate and ...    8.248895  ...   \n",
              "2  Under the direction of a ruthless instructor, ...   64.299990  ...   \n",
              "3  Vidya Bagchi (Vidya Balan) arrives in Kolkata ...    3.174936  ...   \n",
              "4  Marine Boy is the story of a former national s...    1.148070  ...   \n",
              "\n",
              "  release_date runtime                                   spoken_languages  \\\n",
              "0      2/20/15    93.0           [{'iso_639_1': 'en', 'name': 'English'}]   \n",
              "1       8/6/04   113.0           [{'iso_639_1': 'en', 'name': 'English'}]   \n",
              "2     10/10/14   105.0           [{'iso_639_1': 'en', 'name': 'English'}]   \n",
              "3       3/9/12   122.0  [{'iso_639_1': 'en', 'name': 'English'}, {'iso...   \n",
              "4       2/5/09   118.0           [{'iso_639_1': 'ko', 'name': '한국어/조선말'}]   \n",
              "\n",
              "     status                                            tagline  \\\n",
              "0  Released  The Laws of Space and Time are About to be Vio...   \n",
              "1  Released  It can take a lifetime to find true love; she'...   \n",
              "2  Released    The road to greatness can take you to the edge.   \n",
              "3  Released                                                NaN   \n",
              "4  Released                                                NaN   \n",
              "\n",
              "                                      title  \\\n",
              "0                    Hot Tub Time Machine 2   \n",
              "1  The Princess Diaries 2: Royal Engagement   \n",
              "2                                  Whiplash   \n",
              "3                                   Kahaani   \n",
              "4                                Marine Boy   \n",
              "\n",
              "                                            Keywords  \\\n",
              "0  [{'id': 4379, 'name': 'time travel'}, {'id': 9...   \n",
              "1  [{'id': 2505, 'name': 'coronation'}, {'id': 42...   \n",
              "2  [{'id': 1416, 'name': 'jazz'}, {'id': 1523, 'n...   \n",
              "3  [{'id': 10092, 'name': 'mystery'}, {'id': 1054...   \n",
              "4                                                NaN   \n",
              "\n",
              "                                                cast  \\\n",
              "0  [{'cast_id': 4, 'character': 'Lou', 'credit_id...   \n",
              "1  [{'cast_id': 1, 'character': 'Mia Thermopolis'...   \n",
              "2  [{'cast_id': 5, 'character': 'Andrew Neimann',...   \n",
              "3  [{'cast_id': 1, 'character': 'Vidya Bagchi', '...   \n",
              "4  [{'cast_id': 3, 'character': 'Chun-soo', 'cred...   \n",
              "\n",
              "                                                crew   revenue  \n",
              "0  [{'credit_id': '59ac067c92514107af02c8c8', 'de...  12314651  \n",
              "1  [{'credit_id': '52fe43fe9251416c7502563d', 'de...  95149435  \n",
              "2  [{'credit_id': '54d5356ec3a3683ba0000039', 'de...  13092000  \n",
              "3  [{'credit_id': '52fe48779251416c9108d6eb', 'de...  16000000  \n",
              "4  [{'credit_id': '52fe464b9251416c75073b43', 'de...   3923970  \n",
              "\n",
              "[5 rows x 23 columns]"
            ],
            "text/html": [
              "\n",
              "  <div id=\"df-b0f8927d-b1df-4b6e-a585-5eb04bda747f\">\n",
              "    <div class=\"colab-df-container\">\n",
              "      <div>\n",
              "<style scoped>\n",
              "    .dataframe tbody tr th:only-of-type {\n",
              "        vertical-align: middle;\n",
              "    }\n",
              "\n",
              "    .dataframe tbody tr th {\n",
              "        vertical-align: top;\n",
              "    }\n",
              "\n",
              "    .dataframe thead th {\n",
              "        text-align: right;\n",
              "    }\n",
              "</style>\n",
              "<table border=\"1\" class=\"dataframe\">\n",
              "  <thead>\n",
              "    <tr style=\"text-align: right;\">\n",
              "      <th></th>\n",
              "      <th>id</th>\n",
              "      <th>belongs_to_collection</th>\n",
              "      <th>budget</th>\n",
              "      <th>genres</th>\n",
              "      <th>homepage</th>\n",
              "      <th>imdb_id</th>\n",
              "      <th>original_language</th>\n",
              "      <th>original_title</th>\n",
              "      <th>overview</th>\n",
              "      <th>popularity</th>\n",
              "      <th>...</th>\n",
              "      <th>release_date</th>\n",
              "      <th>runtime</th>\n",
              "      <th>spoken_languages</th>\n",
              "      <th>status</th>\n",
              "      <th>tagline</th>\n",
              "      <th>title</th>\n",
              "      <th>Keywords</th>\n",
              "      <th>cast</th>\n",
              "      <th>crew</th>\n",
              "      <th>revenue</th>\n",
              "    </tr>\n",
              "  </thead>\n",
              "  <tbody>\n",
              "    <tr>\n",
              "      <th>0</th>\n",
              "      <td>1</td>\n",
              "      <td>[{'id': 313576, 'name': 'Hot Tub Time Machine ...</td>\n",
              "      <td>14000000</td>\n",
              "      <td>[{'id': 35, 'name': 'Comedy'}]</td>\n",
              "      <td>NaN</td>\n",
              "      <td>tt2637294</td>\n",
              "      <td>en</td>\n",
              "      <td>Hot Tub Time Machine 2</td>\n",
              "      <td>When Lou, who has become the \"father of the In...</td>\n",
              "      <td>6.575393</td>\n",
              "      <td>...</td>\n",
              "      <td>2/20/15</td>\n",
              "      <td>93.0</td>\n",
              "      <td>[{'iso_639_1': 'en', 'name': 'English'}]</td>\n",
              "      <td>Released</td>\n",
              "      <td>The Laws of Space and Time are About to be Vio...</td>\n",
              "      <td>Hot Tub Time Machine 2</td>\n",
              "      <td>[{'id': 4379, 'name': 'time travel'}, {'id': 9...</td>\n",
              "      <td>[{'cast_id': 4, 'character': 'Lou', 'credit_id...</td>\n",
              "      <td>[{'credit_id': '59ac067c92514107af02c8c8', 'de...</td>\n",
              "      <td>12314651</td>\n",
              "    </tr>\n",
              "    <tr>\n",
              "      <th>1</th>\n",
              "      <td>2</td>\n",
              "      <td>[{'id': 107674, 'name': 'The Princess Diaries ...</td>\n",
              "      <td>40000000</td>\n",
              "      <td>[{'id': 35, 'name': 'Comedy'}, {'id': 18, 'nam...</td>\n",
              "      <td>NaN</td>\n",
              "      <td>tt0368933</td>\n",
              "      <td>en</td>\n",
              "      <td>The Princess Diaries 2: Royal Engagement</td>\n",
              "      <td>Mia Thermopolis is now a college graduate and ...</td>\n",
              "      <td>8.248895</td>\n",
              "      <td>...</td>\n",
              "      <td>8/6/04</td>\n",
              "      <td>113.0</td>\n",
              "      <td>[{'iso_639_1': 'en', 'name': 'English'}]</td>\n",
              "      <td>Released</td>\n",
              "      <td>It can take a lifetime to find true love; she'...</td>\n",
              "      <td>The Princess Diaries 2: Royal Engagement</td>\n",
              "      <td>[{'id': 2505, 'name': 'coronation'}, {'id': 42...</td>\n",
              "      <td>[{'cast_id': 1, 'character': 'Mia Thermopolis'...</td>\n",
              "      <td>[{'credit_id': '52fe43fe9251416c7502563d', 'de...</td>\n",
              "      <td>95149435</td>\n",
              "    </tr>\n",
              "    <tr>\n",
              "      <th>2</th>\n",
              "      <td>3</td>\n",
              "      <td>NaN</td>\n",
              "      <td>3300000</td>\n",
              "      <td>[{'id': 18, 'name': 'Drama'}]</td>\n",
              "      <td>http://sonyclassics.com/whiplash/</td>\n",
              "      <td>tt2582802</td>\n",
              "      <td>en</td>\n",
              "      <td>Whiplash</td>\n",
              "      <td>Under the direction of a ruthless instructor, ...</td>\n",
              "      <td>64.299990</td>\n",
              "      <td>...</td>\n",
              "      <td>10/10/14</td>\n",
              "      <td>105.0</td>\n",
              "      <td>[{'iso_639_1': 'en', 'name': 'English'}]</td>\n",
              "      <td>Released</td>\n",
              "      <td>The road to greatness can take you to the edge.</td>\n",
              "      <td>Whiplash</td>\n",
              "      <td>[{'id': 1416, 'name': 'jazz'}, {'id': 1523, 'n...</td>\n",
              "      <td>[{'cast_id': 5, 'character': 'Andrew Neimann',...</td>\n",
              "      <td>[{'credit_id': '54d5356ec3a3683ba0000039', 'de...</td>\n",
              "      <td>13092000</td>\n",
              "    </tr>\n",
              "    <tr>\n",
              "      <th>3</th>\n",
              "      <td>4</td>\n",
              "      <td>NaN</td>\n",
              "      <td>1200000</td>\n",
              "      <td>[{'id': 53, 'name': 'Thriller'}, {'id': 18, 'n...</td>\n",
              "      <td>http://kahaanithefilm.com/</td>\n",
              "      <td>tt1821480</td>\n",
              "      <td>hi</td>\n",
              "      <td>Kahaani</td>\n",
              "      <td>Vidya Bagchi (Vidya Balan) arrives in Kolkata ...</td>\n",
              "      <td>3.174936</td>\n",
              "      <td>...</td>\n",
              "      <td>3/9/12</td>\n",
              "      <td>122.0</td>\n",
              "      <td>[{'iso_639_1': 'en', 'name': 'English'}, {'iso...</td>\n",
              "      <td>Released</td>\n",
              "      <td>NaN</td>\n",
              "      <td>Kahaani</td>\n",
              "      <td>[{'id': 10092, 'name': 'mystery'}, {'id': 1054...</td>\n",
              "      <td>[{'cast_id': 1, 'character': 'Vidya Bagchi', '...</td>\n",
              "      <td>[{'credit_id': '52fe48779251416c9108d6eb', 'de...</td>\n",
              "      <td>16000000</td>\n",
              "    </tr>\n",
              "    <tr>\n",
              "      <th>4</th>\n",
              "      <td>5</td>\n",
              "      <td>NaN</td>\n",
              "      <td>0</td>\n",
              "      <td>[{'id': 28, 'name': 'Action'}, {'id': 53, 'nam...</td>\n",
              "      <td>NaN</td>\n",
              "      <td>tt1380152</td>\n",
              "      <td>ko</td>\n",
              "      <td>마린보이</td>\n",
              "      <td>Marine Boy is the story of a former national s...</td>\n",
              "      <td>1.148070</td>\n",
              "      <td>...</td>\n",
              "      <td>2/5/09</td>\n",
              "      <td>118.0</td>\n",
              "      <td>[{'iso_639_1': 'ko', 'name': '한국어/조선말'}]</td>\n",
              "      <td>Released</td>\n",
              "      <td>NaN</td>\n",
              "      <td>Marine Boy</td>\n",
              "      <td>NaN</td>\n",
              "      <td>[{'cast_id': 3, 'character': 'Chun-soo', 'cred...</td>\n",
              "      <td>[{'credit_id': '52fe464b9251416c75073b43', 'de...</td>\n",
              "      <td>3923970</td>\n",
              "    </tr>\n",
              "  </tbody>\n",
              "</table>\n",
              "<p>5 rows × 23 columns</p>\n",
              "</div>\n",
              "      <button class=\"colab-df-convert\" onclick=\"convertToInteractive('df-b0f8927d-b1df-4b6e-a585-5eb04bda747f')\"\n",
              "              title=\"Convert this dataframe to an interactive table.\"\n",
              "              style=\"display:none;\">\n",
              "        \n",
              "  <svg xmlns=\"http://www.w3.org/2000/svg\" height=\"24px\"viewBox=\"0 0 24 24\"\n",
              "       width=\"24px\">\n",
              "    <path d=\"M0 0h24v24H0V0z\" fill=\"none\"/>\n",
              "    <path d=\"M18.56 5.44l.94 2.06.94-2.06 2.06-.94-2.06-.94-.94-2.06-.94 2.06-2.06.94zm-11 1L8.5 8.5l.94-2.06 2.06-.94-2.06-.94L8.5 2.5l-.94 2.06-2.06.94zm10 10l.94 2.06.94-2.06 2.06-.94-2.06-.94-.94-2.06-.94 2.06-2.06.94z\"/><path d=\"M17.41 7.96l-1.37-1.37c-.4-.4-.92-.59-1.43-.59-.52 0-1.04.2-1.43.59L10.3 9.45l-7.72 7.72c-.78.78-.78 2.05 0 2.83L4 21.41c.39.39.9.59 1.41.59.51 0 1.02-.2 1.41-.59l7.78-7.78 2.81-2.81c.8-.78.8-2.07 0-2.86zM5.41 20L4 18.59l7.72-7.72 1.47 1.35L5.41 20z\"/>\n",
              "  </svg>\n",
              "      </button>\n",
              "      \n",
              "  <style>\n",
              "    .colab-df-container {\n",
              "      display:flex;\n",
              "      flex-wrap:wrap;\n",
              "      gap: 12px;\n",
              "    }\n",
              "\n",
              "    .colab-df-convert {\n",
              "      background-color: #E8F0FE;\n",
              "      border: none;\n",
              "      border-radius: 50%;\n",
              "      cursor: pointer;\n",
              "      display: none;\n",
              "      fill: #1967D2;\n",
              "      height: 32px;\n",
              "      padding: 0 0 0 0;\n",
              "      width: 32px;\n",
              "    }\n",
              "\n",
              "    .colab-df-convert:hover {\n",
              "      background-color: #E2EBFA;\n",
              "      box-shadow: 0px 1px 2px rgba(60, 64, 67, 0.3), 0px 1px 3px 1px rgba(60, 64, 67, 0.15);\n",
              "      fill: #174EA6;\n",
              "    }\n",
              "\n",
              "    [theme=dark] .colab-df-convert {\n",
              "      background-color: #3B4455;\n",
              "      fill: #D2E3FC;\n",
              "    }\n",
              "\n",
              "    [theme=dark] .colab-df-convert:hover {\n",
              "      background-color: #434B5C;\n",
              "      box-shadow: 0px 1px 3px 1px rgba(0, 0, 0, 0.15);\n",
              "      filter: drop-shadow(0px 1px 2px rgba(0, 0, 0, 0.3));\n",
              "      fill: #FFFFFF;\n",
              "    }\n",
              "  </style>\n",
              "\n",
              "      <script>\n",
              "        const buttonEl =\n",
              "          document.querySelector('#df-b0f8927d-b1df-4b6e-a585-5eb04bda747f button.colab-df-convert');\n",
              "        buttonEl.style.display =\n",
              "          google.colab.kernel.accessAllowed ? 'block' : 'none';\n",
              "\n",
              "        async function convertToInteractive(key) {\n",
              "          const element = document.querySelector('#df-b0f8927d-b1df-4b6e-a585-5eb04bda747f');\n",
              "          const dataTable =\n",
              "            await google.colab.kernel.invokeFunction('convertToInteractive',\n",
              "                                                     [key], {});\n",
              "          if (!dataTable) return;\n",
              "\n",
              "          const docLinkHtml = 'Like what you see? Visit the ' +\n",
              "            '<a target=\"_blank\" href=https://colab.research.google.com/notebooks/data_table.ipynb>data table notebook</a>'\n",
              "            + ' to learn more about interactive tables.';\n",
              "          element.innerHTML = '';\n",
              "          dataTable['output_type'] = 'display_data';\n",
              "          await google.colab.output.renderOutput(dataTable, element);\n",
              "          const docLink = document.createElement('div');\n",
              "          docLink.innerHTML = docLinkHtml;\n",
              "          element.appendChild(docLink);\n",
              "        }\n",
              "      </script>\n",
              "    </div>\n",
              "  </div>\n",
              "  "
            ]
          },
          "metadata": {},
          "execution_count": 53
        }
      ],
      "source": [
        "box_office.head()"
      ]
    },
    {
      "cell_type": "code",
      "execution_count": null,
      "id": "c5307291",
      "metadata": {
        "id": "c5307291"
      },
      "outputs": [],
      "source": [
        "box_office = box_office.drop(columns=['id','belongs_to_collection','homepage','original_title','poster_path','production_companies','overview','imdb_id','production_countries','tagline','Keywords','cast','crew'], axis=1)"
      ]
    },
    {
      "cell_type": "code",
      "execution_count": null,
      "id": "15783d0d",
      "metadata": {
        "colab": {
          "base_uri": "https://localhost:8080/"
        },
        "id": "15783d0d",
        "outputId": "d31e4f11-8db0-4178-8cfd-521547a063ad"
      },
      "outputs": [
        {
          "output_type": "execute_result",
          "data": {
            "text/plain": [
              "Index(['budget', 'genres', 'original_language', 'popularity', 'release_date',\n",
              "       'runtime', 'spoken_languages', 'status', 'title', 'revenue'],\n",
              "      dtype='object')"
            ]
          },
          "metadata": {},
          "execution_count": 55
        }
      ],
      "source": [
        "box_office.columns"
      ]
    },
    {
      "cell_type": "code",
      "execution_count": null,
      "id": "f0cada61",
      "metadata": {
        "id": "f0cada61"
      },
      "outputs": [],
      "source": [
        "box_office['release_date'] = pd.to_datetime(box_office['release_date'])"
      ]
    },
    {
      "cell_type": "code",
      "execution_count": null,
      "id": "51e53f03",
      "metadata": {
        "id": "51e53f03"
      },
      "outputs": [],
      "source": [
        "box_office['day'] = box_office['release_date'].dt.day"
      ]
    },
    {
      "cell_type": "code",
      "execution_count": null,
      "id": "4131e264",
      "metadata": {
        "id": "4131e264"
      },
      "outputs": [],
      "source": [
        "box_office['month'] = box_office['release_date'].dt.month"
      ]
    },
    {
      "cell_type": "code",
      "execution_count": null,
      "id": "202db80d",
      "metadata": {
        "id": "202db80d"
      },
      "outputs": [],
      "source": [
        "box_office['year'] = box_office['release_date'].dt.year"
      ]
    },
    {
      "cell_type": "code",
      "execution_count": null,
      "id": "6507a516",
      "metadata": {
        "id": "6507a516"
      },
      "outputs": [],
      "source": [
        "box_office = box_office.drop(['release_date'], axis=1)"
      ]
    },
    {
      "cell_type": "code",
      "execution_count": null,
      "id": "ec98ea36",
      "metadata": {
        "colab": {
          "base_uri": "https://localhost:8080/",
          "height": 372
        },
        "id": "ec98ea36",
        "outputId": "21845f7e-5b66-4b23-d8fb-22a54adb3810"
      },
      "outputs": [
        {
          "output_type": "execute_result",
          "data": {
            "text/plain": [
              "     budget                                             genres  \\\n",
              "0  14000000                     [{'id': 35, 'name': 'Comedy'}]   \n",
              "1  40000000  [{'id': 35, 'name': 'Comedy'}, {'id': 18, 'nam...   \n",
              "2   3300000                      [{'id': 18, 'name': 'Drama'}]   \n",
              "3   1200000  [{'id': 53, 'name': 'Thriller'}, {'id': 18, 'n...   \n",
              "4         0  [{'id': 28, 'name': 'Action'}, {'id': 53, 'nam...   \n",
              "\n",
              "  original_language  popularity  runtime  \\\n",
              "0                en    6.575393     93.0   \n",
              "1                en    8.248895    113.0   \n",
              "2                en   64.299990    105.0   \n",
              "3                hi    3.174936    122.0   \n",
              "4                ko    1.148070    118.0   \n",
              "\n",
              "                                    spoken_languages    status  \\\n",
              "0           [{'iso_639_1': 'en', 'name': 'English'}]  Released   \n",
              "1           [{'iso_639_1': 'en', 'name': 'English'}]  Released   \n",
              "2           [{'iso_639_1': 'en', 'name': 'English'}]  Released   \n",
              "3  [{'iso_639_1': 'en', 'name': 'English'}, {'iso...  Released   \n",
              "4           [{'iso_639_1': 'ko', 'name': '한국어/조선말'}]  Released   \n",
              "\n",
              "                                      title   revenue  day  month  year  \n",
              "0                    Hot Tub Time Machine 2  12314651   20      2  2015  \n",
              "1  The Princess Diaries 2: Royal Engagement  95149435    6      8  2004  \n",
              "2                                  Whiplash  13092000   10     10  2014  \n",
              "3                                   Kahaani  16000000    9      3  2012  \n",
              "4                                Marine Boy   3923970    5      2  2009  "
            ],
            "text/html": [
              "\n",
              "  <div id=\"df-a45a872b-56a4-4bdc-a7f8-acc3857a4bc1\">\n",
              "    <div class=\"colab-df-container\">\n",
              "      <div>\n",
              "<style scoped>\n",
              "    .dataframe tbody tr th:only-of-type {\n",
              "        vertical-align: middle;\n",
              "    }\n",
              "\n",
              "    .dataframe tbody tr th {\n",
              "        vertical-align: top;\n",
              "    }\n",
              "\n",
              "    .dataframe thead th {\n",
              "        text-align: right;\n",
              "    }\n",
              "</style>\n",
              "<table border=\"1\" class=\"dataframe\">\n",
              "  <thead>\n",
              "    <tr style=\"text-align: right;\">\n",
              "      <th></th>\n",
              "      <th>budget</th>\n",
              "      <th>genres</th>\n",
              "      <th>original_language</th>\n",
              "      <th>popularity</th>\n",
              "      <th>runtime</th>\n",
              "      <th>spoken_languages</th>\n",
              "      <th>status</th>\n",
              "      <th>title</th>\n",
              "      <th>revenue</th>\n",
              "      <th>day</th>\n",
              "      <th>month</th>\n",
              "      <th>year</th>\n",
              "    </tr>\n",
              "  </thead>\n",
              "  <tbody>\n",
              "    <tr>\n",
              "      <th>0</th>\n",
              "      <td>14000000</td>\n",
              "      <td>[{'id': 35, 'name': 'Comedy'}]</td>\n",
              "      <td>en</td>\n",
              "      <td>6.575393</td>\n",
              "      <td>93.0</td>\n",
              "      <td>[{'iso_639_1': 'en', 'name': 'English'}]</td>\n",
              "      <td>Released</td>\n",
              "      <td>Hot Tub Time Machine 2</td>\n",
              "      <td>12314651</td>\n",
              "      <td>20</td>\n",
              "      <td>2</td>\n",
              "      <td>2015</td>\n",
              "    </tr>\n",
              "    <tr>\n",
              "      <th>1</th>\n",
              "      <td>40000000</td>\n",
              "      <td>[{'id': 35, 'name': 'Comedy'}, {'id': 18, 'nam...</td>\n",
              "      <td>en</td>\n",
              "      <td>8.248895</td>\n",
              "      <td>113.0</td>\n",
              "      <td>[{'iso_639_1': 'en', 'name': 'English'}]</td>\n",
              "      <td>Released</td>\n",
              "      <td>The Princess Diaries 2: Royal Engagement</td>\n",
              "      <td>95149435</td>\n",
              "      <td>6</td>\n",
              "      <td>8</td>\n",
              "      <td>2004</td>\n",
              "    </tr>\n",
              "    <tr>\n",
              "      <th>2</th>\n",
              "      <td>3300000</td>\n",
              "      <td>[{'id': 18, 'name': 'Drama'}]</td>\n",
              "      <td>en</td>\n",
              "      <td>64.299990</td>\n",
              "      <td>105.0</td>\n",
              "      <td>[{'iso_639_1': 'en', 'name': 'English'}]</td>\n",
              "      <td>Released</td>\n",
              "      <td>Whiplash</td>\n",
              "      <td>13092000</td>\n",
              "      <td>10</td>\n",
              "      <td>10</td>\n",
              "      <td>2014</td>\n",
              "    </tr>\n",
              "    <tr>\n",
              "      <th>3</th>\n",
              "      <td>1200000</td>\n",
              "      <td>[{'id': 53, 'name': 'Thriller'}, {'id': 18, 'n...</td>\n",
              "      <td>hi</td>\n",
              "      <td>3.174936</td>\n",
              "      <td>122.0</td>\n",
              "      <td>[{'iso_639_1': 'en', 'name': 'English'}, {'iso...</td>\n",
              "      <td>Released</td>\n",
              "      <td>Kahaani</td>\n",
              "      <td>16000000</td>\n",
              "      <td>9</td>\n",
              "      <td>3</td>\n",
              "      <td>2012</td>\n",
              "    </tr>\n",
              "    <tr>\n",
              "      <th>4</th>\n",
              "      <td>0</td>\n",
              "      <td>[{'id': 28, 'name': 'Action'}, {'id': 53, 'nam...</td>\n",
              "      <td>ko</td>\n",
              "      <td>1.148070</td>\n",
              "      <td>118.0</td>\n",
              "      <td>[{'iso_639_1': 'ko', 'name': '한국어/조선말'}]</td>\n",
              "      <td>Released</td>\n",
              "      <td>Marine Boy</td>\n",
              "      <td>3923970</td>\n",
              "      <td>5</td>\n",
              "      <td>2</td>\n",
              "      <td>2009</td>\n",
              "    </tr>\n",
              "  </tbody>\n",
              "</table>\n",
              "</div>\n",
              "      <button class=\"colab-df-convert\" onclick=\"convertToInteractive('df-a45a872b-56a4-4bdc-a7f8-acc3857a4bc1')\"\n",
              "              title=\"Convert this dataframe to an interactive table.\"\n",
              "              style=\"display:none;\">\n",
              "        \n",
              "  <svg xmlns=\"http://www.w3.org/2000/svg\" height=\"24px\"viewBox=\"0 0 24 24\"\n",
              "       width=\"24px\">\n",
              "    <path d=\"M0 0h24v24H0V0z\" fill=\"none\"/>\n",
              "    <path d=\"M18.56 5.44l.94 2.06.94-2.06 2.06-.94-2.06-.94-.94-2.06-.94 2.06-2.06.94zm-11 1L8.5 8.5l.94-2.06 2.06-.94-2.06-.94L8.5 2.5l-.94 2.06-2.06.94zm10 10l.94 2.06.94-2.06 2.06-.94-2.06-.94-.94-2.06-.94 2.06-2.06.94z\"/><path d=\"M17.41 7.96l-1.37-1.37c-.4-.4-.92-.59-1.43-.59-.52 0-1.04.2-1.43.59L10.3 9.45l-7.72 7.72c-.78.78-.78 2.05 0 2.83L4 21.41c.39.39.9.59 1.41.59.51 0 1.02-.2 1.41-.59l7.78-7.78 2.81-2.81c.8-.78.8-2.07 0-2.86zM5.41 20L4 18.59l7.72-7.72 1.47 1.35L5.41 20z\"/>\n",
              "  </svg>\n",
              "      </button>\n",
              "      \n",
              "  <style>\n",
              "    .colab-df-container {\n",
              "      display:flex;\n",
              "      flex-wrap:wrap;\n",
              "      gap: 12px;\n",
              "    }\n",
              "\n",
              "    .colab-df-convert {\n",
              "      background-color: #E8F0FE;\n",
              "      border: none;\n",
              "      border-radius: 50%;\n",
              "      cursor: pointer;\n",
              "      display: none;\n",
              "      fill: #1967D2;\n",
              "      height: 32px;\n",
              "      padding: 0 0 0 0;\n",
              "      width: 32px;\n",
              "    }\n",
              "\n",
              "    .colab-df-convert:hover {\n",
              "      background-color: #E2EBFA;\n",
              "      box-shadow: 0px 1px 2px rgba(60, 64, 67, 0.3), 0px 1px 3px 1px rgba(60, 64, 67, 0.15);\n",
              "      fill: #174EA6;\n",
              "    }\n",
              "\n",
              "    [theme=dark] .colab-df-convert {\n",
              "      background-color: #3B4455;\n",
              "      fill: #D2E3FC;\n",
              "    }\n",
              "\n",
              "    [theme=dark] .colab-df-convert:hover {\n",
              "      background-color: #434B5C;\n",
              "      box-shadow: 0px 1px 3px 1px rgba(0, 0, 0, 0.15);\n",
              "      filter: drop-shadow(0px 1px 2px rgba(0, 0, 0, 0.3));\n",
              "      fill: #FFFFFF;\n",
              "    }\n",
              "  </style>\n",
              "\n",
              "      <script>\n",
              "        const buttonEl =\n",
              "          document.querySelector('#df-a45a872b-56a4-4bdc-a7f8-acc3857a4bc1 button.colab-df-convert');\n",
              "        buttonEl.style.display =\n",
              "          google.colab.kernel.accessAllowed ? 'block' : 'none';\n",
              "\n",
              "        async function convertToInteractive(key) {\n",
              "          const element = document.querySelector('#df-a45a872b-56a4-4bdc-a7f8-acc3857a4bc1');\n",
              "          const dataTable =\n",
              "            await google.colab.kernel.invokeFunction('convertToInteractive',\n",
              "                                                     [key], {});\n",
              "          if (!dataTable) return;\n",
              "\n",
              "          const docLinkHtml = 'Like what you see? Visit the ' +\n",
              "            '<a target=\"_blank\" href=https://colab.research.google.com/notebooks/data_table.ipynb>data table notebook</a>'\n",
              "            + ' to learn more about interactive tables.';\n",
              "          element.innerHTML = '';\n",
              "          dataTable['output_type'] = 'display_data';\n",
              "          await google.colab.output.renderOutput(dataTable, element);\n",
              "          const docLink = document.createElement('div');\n",
              "          docLink.innerHTML = docLinkHtml;\n",
              "          element.appendChild(docLink);\n",
              "        }\n",
              "      </script>\n",
              "    </div>\n",
              "  </div>\n",
              "  "
            ]
          },
          "metadata": {},
          "execution_count": 61
        }
      ],
      "source": [
        "box_office.head()"
      ]
    },
    {
      "cell_type": "code",
      "execution_count": null,
      "id": "f47ab3ac",
      "metadata": {
        "colab": {
          "base_uri": "https://localhost:8080/"
        },
        "id": "f47ab3ac",
        "outputId": "fe13ea53-9127-4b50-fb87-100399e3daa3"
      },
      "outputs": [
        {
          "output_type": "execute_result",
          "data": {
            "text/plain": [
              "budget                0\n",
              "genres                7\n",
              "original_language     0\n",
              "popularity            0\n",
              "runtime               2\n",
              "spoken_languages     20\n",
              "status                0\n",
              "title                 0\n",
              "revenue               0\n",
              "day                   0\n",
              "month                 0\n",
              "year                  0\n",
              "dtype: int64"
            ]
          },
          "metadata": {},
          "execution_count": 62
        }
      ],
      "source": [
        "box_office.isna().sum()"
      ]
    },
    {
      "cell_type": "code",
      "execution_count": null,
      "id": "83fea4dc",
      "metadata": {
        "colab": {
          "base_uri": "https://localhost:8080/",
          "height": 35
        },
        "id": "83fea4dc",
        "outputId": "dce94c72-0b9d-435e-eceb-14915369e8fc"
      },
      "outputs": [
        {
          "output_type": "execute_result",
          "data": {
            "text/plain": [
              "\"[{'id': 18, 'name': 'Drama'}]\""
            ],
            "application/vnd.google.colaboratory.intrinsic+json": {
              "type": "string"
            }
          },
          "metadata": {},
          "execution_count": 63
        }
      ],
      "source": [
        "box_office['genres'].mode()[0]"
      ]
    },
    {
      "cell_type": "code",
      "execution_count": null,
      "id": "e7ab5259",
      "metadata": {
        "id": "e7ab5259"
      },
      "outputs": [],
      "source": [
        "box_office['genres'].fillna(box_office['genres'].mode()[0], inplace=True )"
      ]
    },
    {
      "cell_type": "code",
      "execution_count": null,
      "id": "950547bd",
      "metadata": {
        "colab": {
          "base_uri": "https://localhost:8080/"
        },
        "id": "950547bd",
        "outputId": "e5f7de0d-98d2-4ffa-d00e-ccbca328624f"
      },
      "outputs": [
        {
          "output_type": "execute_result",
          "data": {
            "text/plain": [
              "107.85657104736491"
            ]
          },
          "metadata": {},
          "execution_count": 65
        }
      ],
      "source": [
        "box_office['runtime'].mean()"
      ]
    },
    {
      "cell_type": "code",
      "execution_count": null,
      "id": "5cdefe73",
      "metadata": {
        "id": "5cdefe73"
      },
      "outputs": [],
      "source": [
        "box_office['runtime'].fillna(box_office['runtime'].mean(), inplace=True)"
      ]
    },
    {
      "cell_type": "code",
      "execution_count": null,
      "id": "5423b631",
      "metadata": {
        "colab": {
          "base_uri": "https://localhost:8080/",
          "height": 35
        },
        "id": "5423b631",
        "outputId": "d701b1fd-38e9-4ff1-e071-7ea1771c6d74"
      },
      "outputs": [
        {
          "output_type": "execute_result",
          "data": {
            "text/plain": [
              "\"[{'iso_639_1': 'en', 'name': 'English'}]\""
            ],
            "application/vnd.google.colaboratory.intrinsic+json": {
              "type": "string"
            }
          },
          "metadata": {},
          "execution_count": 67
        }
      ],
      "source": [
        "box_office['spoken_languages'].mode()[0]"
      ]
    },
    {
      "cell_type": "code",
      "execution_count": null,
      "id": "ac808c97",
      "metadata": {
        "id": "ac808c97"
      },
      "outputs": [],
      "source": [
        "box_office['spoken_languages'].fillna(box_office['spoken_languages'].mode()[0], inplace=True)"
      ]
    },
    {
      "cell_type": "code",
      "execution_count": null,
      "id": "5b391a7d",
      "metadata": {
        "colab": {
          "base_uri": "https://localhost:8080/"
        },
        "id": "5b391a7d",
        "outputId": "78b0511b-a547-4b1d-ee75-74a9941cf0ef"
      },
      "outputs": [
        {
          "output_type": "execute_result",
          "data": {
            "text/plain": [
              "budget               0\n",
              "genres               0\n",
              "original_language    0\n",
              "popularity           0\n",
              "runtime              0\n",
              "spoken_languages     0\n",
              "status               0\n",
              "title                0\n",
              "revenue              0\n",
              "day                  0\n",
              "month                0\n",
              "year                 0\n",
              "dtype: int64"
            ]
          },
          "metadata": {},
          "execution_count": 69
        }
      ],
      "source": [
        "box_office.isna().sum()"
      ]
    },
    {
      "cell_type": "markdown",
      "id": "9c4b4b22",
      "metadata": {
        "id": "9c4b4b22"
      },
      "source": [
        "## Exploratory data analysis"
      ]
    },
    {
      "cell_type": "code",
      "execution_count": null,
      "id": "28b5d1be",
      "metadata": {
        "colab": {
          "base_uri": "https://localhost:8080/",
          "height": 300
        },
        "id": "28b5d1be",
        "outputId": "e82ed09c-9730-4de7-df1f-7775681f18b0"
      },
      "outputs": [
        {
          "output_type": "execute_result",
          "data": {
            "text/plain": [
              "             budget   popularity      runtime       revenue          day  \\\n",
              "count  3.000000e+03  3000.000000  3000.000000  3.000000e+03  3000.000000   \n",
              "mean   2.253133e+07     8.463274   107.856571  6.672585e+07    15.046333   \n",
              "std    3.702609e+07    12.104000    22.079069  1.375323e+08     8.632981   \n",
              "min    0.000000e+00     0.000001     0.000000  1.000000e+00     1.000000   \n",
              "25%    0.000000e+00     4.018053    94.000000  2.379808e+06     8.000000   \n",
              "50%    8.000000e+06     7.374861   104.000000  1.680707e+07    15.000000   \n",
              "75%    2.900000e+07    10.890983   118.000000  6.891920e+07    22.000000   \n",
              "max    3.800000e+08   294.337037   338.000000  1.519558e+09    31.000000   \n",
              "\n",
              "             month         year  \n",
              "count  3000.000000  3000.000000  \n",
              "mean      6.775333  2005.313000  \n",
              "std       3.409115    16.182531  \n",
              "min       1.000000  1972.000000  \n",
              "25%       4.000000  1996.000000  \n",
              "50%       7.000000  2006.000000  \n",
              "75%      10.000000  2012.000000  \n",
              "max      12.000000  2071.000000  "
            ],
            "text/html": [
              "\n",
              "  <div id=\"df-8793d1cf-ec32-44b5-97d6-0bbce32bb2e0\">\n",
              "    <div class=\"colab-df-container\">\n",
              "      <div>\n",
              "<style scoped>\n",
              "    .dataframe tbody tr th:only-of-type {\n",
              "        vertical-align: middle;\n",
              "    }\n",
              "\n",
              "    .dataframe tbody tr th {\n",
              "        vertical-align: top;\n",
              "    }\n",
              "\n",
              "    .dataframe thead th {\n",
              "        text-align: right;\n",
              "    }\n",
              "</style>\n",
              "<table border=\"1\" class=\"dataframe\">\n",
              "  <thead>\n",
              "    <tr style=\"text-align: right;\">\n",
              "      <th></th>\n",
              "      <th>budget</th>\n",
              "      <th>popularity</th>\n",
              "      <th>runtime</th>\n",
              "      <th>revenue</th>\n",
              "      <th>day</th>\n",
              "      <th>month</th>\n",
              "      <th>year</th>\n",
              "    </tr>\n",
              "  </thead>\n",
              "  <tbody>\n",
              "    <tr>\n",
              "      <th>count</th>\n",
              "      <td>3.000000e+03</td>\n",
              "      <td>3000.000000</td>\n",
              "      <td>3000.000000</td>\n",
              "      <td>3.000000e+03</td>\n",
              "      <td>3000.000000</td>\n",
              "      <td>3000.000000</td>\n",
              "      <td>3000.000000</td>\n",
              "    </tr>\n",
              "    <tr>\n",
              "      <th>mean</th>\n",
              "      <td>2.253133e+07</td>\n",
              "      <td>8.463274</td>\n",
              "      <td>107.856571</td>\n",
              "      <td>6.672585e+07</td>\n",
              "      <td>15.046333</td>\n",
              "      <td>6.775333</td>\n",
              "      <td>2005.313000</td>\n",
              "    </tr>\n",
              "    <tr>\n",
              "      <th>std</th>\n",
              "      <td>3.702609e+07</td>\n",
              "      <td>12.104000</td>\n",
              "      <td>22.079069</td>\n",
              "      <td>1.375323e+08</td>\n",
              "      <td>8.632981</td>\n",
              "      <td>3.409115</td>\n",
              "      <td>16.182531</td>\n",
              "    </tr>\n",
              "    <tr>\n",
              "      <th>min</th>\n",
              "      <td>0.000000e+00</td>\n",
              "      <td>0.000001</td>\n",
              "      <td>0.000000</td>\n",
              "      <td>1.000000e+00</td>\n",
              "      <td>1.000000</td>\n",
              "      <td>1.000000</td>\n",
              "      <td>1972.000000</td>\n",
              "    </tr>\n",
              "    <tr>\n",
              "      <th>25%</th>\n",
              "      <td>0.000000e+00</td>\n",
              "      <td>4.018053</td>\n",
              "      <td>94.000000</td>\n",
              "      <td>2.379808e+06</td>\n",
              "      <td>8.000000</td>\n",
              "      <td>4.000000</td>\n",
              "      <td>1996.000000</td>\n",
              "    </tr>\n",
              "    <tr>\n",
              "      <th>50%</th>\n",
              "      <td>8.000000e+06</td>\n",
              "      <td>7.374861</td>\n",
              "      <td>104.000000</td>\n",
              "      <td>1.680707e+07</td>\n",
              "      <td>15.000000</td>\n",
              "      <td>7.000000</td>\n",
              "      <td>2006.000000</td>\n",
              "    </tr>\n",
              "    <tr>\n",
              "      <th>75%</th>\n",
              "      <td>2.900000e+07</td>\n",
              "      <td>10.890983</td>\n",
              "      <td>118.000000</td>\n",
              "      <td>6.891920e+07</td>\n",
              "      <td>22.000000</td>\n",
              "      <td>10.000000</td>\n",
              "      <td>2012.000000</td>\n",
              "    </tr>\n",
              "    <tr>\n",
              "      <th>max</th>\n",
              "      <td>3.800000e+08</td>\n",
              "      <td>294.337037</td>\n",
              "      <td>338.000000</td>\n",
              "      <td>1.519558e+09</td>\n",
              "      <td>31.000000</td>\n",
              "      <td>12.000000</td>\n",
              "      <td>2071.000000</td>\n",
              "    </tr>\n",
              "  </tbody>\n",
              "</table>\n",
              "</div>\n",
              "      <button class=\"colab-df-convert\" onclick=\"convertToInteractive('df-8793d1cf-ec32-44b5-97d6-0bbce32bb2e0')\"\n",
              "              title=\"Convert this dataframe to an interactive table.\"\n",
              "              style=\"display:none;\">\n",
              "        \n",
              "  <svg xmlns=\"http://www.w3.org/2000/svg\" height=\"24px\"viewBox=\"0 0 24 24\"\n",
              "       width=\"24px\">\n",
              "    <path d=\"M0 0h24v24H0V0z\" fill=\"none\"/>\n",
              "    <path d=\"M18.56 5.44l.94 2.06.94-2.06 2.06-.94-2.06-.94-.94-2.06-.94 2.06-2.06.94zm-11 1L8.5 8.5l.94-2.06 2.06-.94-2.06-.94L8.5 2.5l-.94 2.06-2.06.94zm10 10l.94 2.06.94-2.06 2.06-.94-2.06-.94-.94-2.06-.94 2.06-2.06.94z\"/><path d=\"M17.41 7.96l-1.37-1.37c-.4-.4-.92-.59-1.43-.59-.52 0-1.04.2-1.43.59L10.3 9.45l-7.72 7.72c-.78.78-.78 2.05 0 2.83L4 21.41c.39.39.9.59 1.41.59.51 0 1.02-.2 1.41-.59l7.78-7.78 2.81-2.81c.8-.78.8-2.07 0-2.86zM5.41 20L4 18.59l7.72-7.72 1.47 1.35L5.41 20z\"/>\n",
              "  </svg>\n",
              "      </button>\n",
              "      \n",
              "  <style>\n",
              "    .colab-df-container {\n",
              "      display:flex;\n",
              "      flex-wrap:wrap;\n",
              "      gap: 12px;\n",
              "    }\n",
              "\n",
              "    .colab-df-convert {\n",
              "      background-color: #E8F0FE;\n",
              "      border: none;\n",
              "      border-radius: 50%;\n",
              "      cursor: pointer;\n",
              "      display: none;\n",
              "      fill: #1967D2;\n",
              "      height: 32px;\n",
              "      padding: 0 0 0 0;\n",
              "      width: 32px;\n",
              "    }\n",
              "\n",
              "    .colab-df-convert:hover {\n",
              "      background-color: #E2EBFA;\n",
              "      box-shadow: 0px 1px 2px rgba(60, 64, 67, 0.3), 0px 1px 3px 1px rgba(60, 64, 67, 0.15);\n",
              "      fill: #174EA6;\n",
              "    }\n",
              "\n",
              "    [theme=dark] .colab-df-convert {\n",
              "      background-color: #3B4455;\n",
              "      fill: #D2E3FC;\n",
              "    }\n",
              "\n",
              "    [theme=dark] .colab-df-convert:hover {\n",
              "      background-color: #434B5C;\n",
              "      box-shadow: 0px 1px 3px 1px rgba(0, 0, 0, 0.15);\n",
              "      filter: drop-shadow(0px 1px 2px rgba(0, 0, 0, 0.3));\n",
              "      fill: #FFFFFF;\n",
              "    }\n",
              "  </style>\n",
              "\n",
              "      <script>\n",
              "        const buttonEl =\n",
              "          document.querySelector('#df-8793d1cf-ec32-44b5-97d6-0bbce32bb2e0 button.colab-df-convert');\n",
              "        buttonEl.style.display =\n",
              "          google.colab.kernel.accessAllowed ? 'block' : 'none';\n",
              "\n",
              "        async function convertToInteractive(key) {\n",
              "          const element = document.querySelector('#df-8793d1cf-ec32-44b5-97d6-0bbce32bb2e0');\n",
              "          const dataTable =\n",
              "            await google.colab.kernel.invokeFunction('convertToInteractive',\n",
              "                                                     [key], {});\n",
              "          if (!dataTable) return;\n",
              "\n",
              "          const docLinkHtml = 'Like what you see? Visit the ' +\n",
              "            '<a target=\"_blank\" href=https://colab.research.google.com/notebooks/data_table.ipynb>data table notebook</a>'\n",
              "            + ' to learn more about interactive tables.';\n",
              "          element.innerHTML = '';\n",
              "          dataTable['output_type'] = 'display_data';\n",
              "          await google.colab.output.renderOutput(dataTable, element);\n",
              "          const docLink = document.createElement('div');\n",
              "          docLink.innerHTML = docLinkHtml;\n",
              "          element.appendChild(docLink);\n",
              "        }\n",
              "      </script>\n",
              "    </div>\n",
              "  </div>\n",
              "  "
            ]
          },
          "metadata": {},
          "execution_count": 70
        }
      ],
      "source": [
        "box_office.describe()"
      ]
    },
    {
      "cell_type": "code",
      "execution_count": null,
      "id": "10c17f17",
      "metadata": {
        "colab": {
          "base_uri": "https://localhost:8080/"
        },
        "id": "10c17f17",
        "outputId": "522810ab-7875-4604-a6b8-d4e3d8a2c08a"
      },
      "outputs": [
        {
          "output_type": "execute_result",
          "data": {
            "text/plain": [
              "count    3.000000e+03\n",
              "mean     6.672585e+07\n",
              "std      1.375323e+08\n",
              "min      1.000000e+00\n",
              "25%      2.379808e+06\n",
              "50%      1.680707e+07\n",
              "75%      6.891920e+07\n",
              "max      1.519558e+09\n",
              "Name: revenue, dtype: float64"
            ]
          },
          "metadata": {},
          "execution_count": 71
        }
      ],
      "source": [
        "box_office['revenue'].describe()"
      ]
    },
    {
      "cell_type": "code",
      "execution_count": null,
      "id": "9d76f3da",
      "metadata": {
        "colab": {
          "base_uri": "https://localhost:8080/"
        },
        "id": "9d76f3da",
        "outputId": "c0f0274e-949e-46b8-f192-1f4709d3de63"
      },
      "outputs": [
        {
          "output_type": "execute_result",
          "data": {
            "text/plain": [
              "6000000     10\n",
              "11000000    10\n",
              "10000000     9\n",
              "500000       8\n",
              "12000000     6\n",
              "Name: revenue, dtype: int64"
            ]
          },
          "metadata": {},
          "execution_count": 72
        }
      ],
      "source": [
        "#5 most popular revenue for movies\n",
        "\n",
        "box_office['revenue'].value_counts().sort_values(ascending=False).head(5) "
      ]
    },
    {
      "cell_type": "code",
      "execution_count": null,
      "id": "88bb8c03",
      "metadata": {
        "colab": {
          "base_uri": "https://localhost:8080/"
        },
        "id": "88bb8c03",
        "outputId": "5f11ad91-6a90-4fad-adb4-4941b25581a2"
      },
      "outputs": [
        {
          "output_type": "execute_result",
          "data": {
            "text/plain": [
              "array([ 12314651,  95149435,  13092000, ...,  89456761, 171963386,\n",
              "        82087155])"
            ]
          },
          "metadata": {},
          "execution_count": 73
        }
      ],
      "source": [
        "box_office['revenue'].unique()"
      ]
    },
    {
      "cell_type": "code",
      "execution_count": null,
      "id": "d4643ad1",
      "metadata": {
        "colab": {
          "base_uri": "https://localhost:8080/",
          "height": 353
        },
        "id": "d4643ad1",
        "outputId": "2c28bc94-c758-4a63-8cff-bd04d9ab7fbb"
      },
      "outputs": [
        {
          "output_type": "stream",
          "name": "stderr",
          "text": [
            "/usr/local/lib/python3.7/dist-packages/seaborn/_decorators.py:43: FutureWarning: Pass the following variable as a keyword arg: x. From version 0.12, the only valid positional argument will be `data`, and passing other arguments without an explicit keyword will result in an error or misinterpretation.\n",
            "  FutureWarning\n"
          ]
        },
        {
          "output_type": "execute_result",
          "data": {
            "text/plain": [
              "<matplotlib.axes._subplots.AxesSubplot at 0x7f88d4a2ffd0>"
            ]
          },
          "metadata": {},
          "execution_count": 74
        },
        {
          "output_type": "display_data",
          "data": {
            "text/plain": [
              "<Figure size 432x288 with 1 Axes>"
            ],
            "image/png": "[encoded data removed]"
          },
          "metadata": {
            "needs_background": "light"
          }
        }
      ],
      "source": [
        "sns.countplot('revenue',data=box_office)"
      ]
    },
    {
      "cell_type": "code",
      "execution_count": null,
      "id": "92ea65b8",
      "metadata": {
        "colab": {
          "base_uri": "https://localhost:8080/",
          "height": 1000
        },
        "id": "92ea65b8",
        "outputId": "06a7a699-dc8f-4c60-f0c4-9adad97a62f6"
      },
      "outputs": [
        {
          "output_type": "execute_result",
          "data": {
            "text/plain": [
              "<seaborn.axisgrid.PairGrid at 0x7f88d56c9c10>"
            ]
          },
          "metadata": {},
          "execution_count": 75
        },
        {
          "output_type": "display_data",
          "data": {
            "text/plain": [
              "<Figure size 1260x1260 with 56 Axes>"
            ],
            "image/png": "[encoded data removed]"
          },
          "metadata": {
            "needs_background": "light"
          }
        }
      ],
      "source": [
        "sns.pairplot(box_office)"
      ]
    },
    {
      "cell_type": "markdown",
      "id": "1ff42c01",
      "metadata": {
        "id": "1ff42c01"
      },
      "source": [
        "## Encoding"
      ]
    },
    {
      "cell_type": "code",
      "execution_count": null,
      "id": "3d2ee56d",
      "metadata": {
        "id": "3d2ee56d"
      },
      "outputs": [],
      "source": [
        "from sklearn.preprocessing import LabelEncoder"
      ]
    },
    {
      "cell_type": "code",
      "execution_count": null,
      "id": "5b04bbfb",
      "metadata": {
        "id": "5b04bbfb"
      },
      "outputs": [],
      "source": [
        "tmdb = LabelEncoder()"
      ]
    },
    {
      "cell_type": "code",
      "execution_count": null,
      "id": "719d55a6",
      "metadata": {
        "colab": {
          "base_uri": "https://localhost:8080/",
          "height": 206
        },
        "id": "719d55a6",
        "outputId": "71f26586-64ce-4087-aab0-ee0fd26a539f"
      },
      "outputs": [
        {
          "output_type": "execute_result",
          "data": {
            "text/plain": [
              "     budget  genres  original_language  popularity  runtime  spoken_languages  \\\n",
              "0  14000000     696                  7    6.575393     93.0               262   \n",
              "1  40000000     645                  7    8.248895    113.0               262   \n",
              "2   3300000     391                  7   64.299990    105.0               262   \n",
              "3   1200000     733                 13    3.174936    122.0               175   \n",
              "4         0     589                 18    1.148070    118.0               338   \n",
              "\n",
              "   status  title   revenue  day  month  year  \n",
              "0       0   1045  12314651   20      2  2015  \n",
              "1       0   2546  95149435    6      8  2004  \n",
              "2       0   2903  13092000   10     10  2014  \n",
              "3       0   1183  16000000    9      3  2012  \n",
              "4       0   1371   3923970    5      2  2009  "
            ],
            "text/html": [
              "\n",
              "  <div id=\"df-1ce9e9d7-e8eb-453c-9c80-07002f9bb5a4\">\n",
              "    <div class=\"colab-df-container\">\n",
              "      <div>\n",
              "<style scoped>\n",
              "    .dataframe tbody tr th:only-of-type {\n",
              "        vertical-align: middle;\n",
              "    }\n",
              "\n",
              "    .dataframe tbody tr th {\n",
              "        vertical-align: top;\n",
              "    }\n",
              "\n",
              "    .dataframe thead th {\n",
              "        text-align: right;\n",
              "    }\n",
              "</style>\n",
              "<table border=\"1\" class=\"dataframe\">\n",
              "  <thead>\n",
              "    <tr style=\"text-align: right;\">\n",
              "      <th></th>\n",
              "      <th>budget</th>\n",
              "      <th>genres</th>\n",
              "      <th>original_language</th>\n",
              "      <th>popularity</th>\n",
              "      <th>runtime</th>\n",
              "      <th>spoken_languages</th>\n",
              "      <th>status</th>\n",
              "      <th>title</th>\n",
              "      <th>revenue</th>\n",
              "      <th>day</th>\n",
              "      <th>month</th>\n",
              "      <th>year</th>\n",
              "    </tr>\n",
              "  </thead>\n",
              "  <tbody>\n",
              "    <tr>\n",
              "      <th>0</th>\n",
              "      <td>14000000</td>\n",
              "      <td>696</td>\n",
              "      <td>7</td>\n",
              "      <td>6.575393</td>\n",
              "      <td>93.0</td>\n",
              "      <td>262</td>\n",
              "      <td>0</td>\n",
              "      <td>1045</td>\n",
              "      <td>12314651</td>\n",
              "      <td>20</td>\n",
              "      <td>2</td>\n",
              "      <td>2015</td>\n",
              "    </tr>\n",
              "    <tr>\n",
              "      <th>1</th>\n",
              "      <td>40000000</td>\n",
              "      <td>645</td>\n",
              "      <td>7</td>\n",
              "      <td>8.248895</td>\n",
              "      <td>113.0</td>\n",
              "      <td>262</td>\n",
              "      <td>0</td>\n",
              "      <td>2546</td>\n",
              "      <td>95149435</td>\n",
              "      <td>6</td>\n",
              "      <td>8</td>\n",
              "      <td>2004</td>\n",
              "    </tr>\n",
              "    <tr>\n",
              "      <th>2</th>\n",
              "      <td>3300000</td>\n",
              "      <td>391</td>\n",
              "      <td>7</td>\n",
              "      <td>64.299990</td>\n",
              "      <td>105.0</td>\n",
              "      <td>262</td>\n",
              "      <td>0</td>\n",
              "      <td>2903</td>\n",
              "      <td>13092000</td>\n",
              "      <td>10</td>\n",
              "      <td>10</td>\n",
              "      <td>2014</td>\n",
              "    </tr>\n",
              "    <tr>\n",
              "      <th>3</th>\n",
              "      <td>1200000</td>\n",
              "      <td>733</td>\n",
              "      <td>13</td>\n",
              "      <td>3.174936</td>\n",
              "      <td>122.0</td>\n",
              "      <td>175</td>\n",
              "      <td>0</td>\n",
              "      <td>1183</td>\n",
              "      <td>16000000</td>\n",
              "      <td>9</td>\n",
              "      <td>3</td>\n",
              "      <td>2012</td>\n",
              "    </tr>\n",
              "    <tr>\n",
              "      <th>4</th>\n",
              "      <td>0</td>\n",
              "      <td>589</td>\n",
              "      <td>18</td>\n",
              "      <td>1.148070</td>\n",
              "      <td>118.0</td>\n",
              "      <td>338</td>\n",
              "      <td>0</td>\n",
              "      <td>1371</td>\n",
              "      <td>3923970</td>\n",
              "      <td>5</td>\n",
              "      <td>2</td>\n",
              "      <td>2009</td>\n",
              "    </tr>\n",
              "  </tbody>\n",
              "</table>\n",
              "</div>\n",
              "      <button class=\"colab-df-convert\" onclick=\"convertToInteractive('df-1ce9e9d7-e8eb-453c-9c80-07002f9bb5a4')\"\n",
              "              title=\"Convert this dataframe to an interactive table.\"\n",
              "              style=\"display:none;\">\n",
              "        \n",
              "  <svg xmlns=\"http://www.w3.org/2000/svg\" height=\"24px\"viewBox=\"0 0 24 24\"\n",
              "       width=\"24px\">\n",
              "    <path d=\"M0 0h24v24H0V0z\" fill=\"none\"/>\n",
              "    <path d=\"M18.56 5.44l.94 2.06.94-2.06 2.06-.94-2.06-.94-.94-2.06-.94 2.06-2.06.94zm-11 1L8.5 8.5l.94-2.06 2.06-.94-2.06-.94L8.5 2.5l-.94 2.06-2.06.94zm10 10l.94 2.06.94-2.06 2.06-.94-2.06-.94-.94-2.06-.94 2.06-2.06.94z\"/><path d=\"M17.41 7.96l-1.37-1.37c-.4-.4-.92-.59-1.43-.59-.52 0-1.04.2-1.43.59L10.3 9.45l-7.72 7.72c-.78.78-.78 2.05 0 2.83L4 21.41c.39.39.9.59 1.41.59.51 0 1.02-.2 1.41-.59l7.78-7.78 2.81-2.81c.8-.78.8-2.07 0-2.86zM5.41 20L4 18.59l7.72-7.72 1.47 1.35L5.41 20z\"/>\n",
              "  </svg>\n",
              "      </button>\n",
              "      \n",
              "  <style>\n",
              "    .colab-df-container {\n",
              "      display:flex;\n",
              "      flex-wrap:wrap;\n",
              "      gap: 12px;\n",
              "    }\n",
              "\n",
              "    .colab-df-convert {\n",
              "      background-color: #E8F0FE;\n",
              "      border: none;\n",
              "      border-radius: 50%;\n",
              "      cursor: pointer;\n",
              "      display: none;\n",
              "      fill: #1967D2;\n",
              "      height: 32px;\n",
              "      padding: 0 0 0 0;\n",
              "      width: 32px;\n",
              "    }\n",
              "\n",
              "    .colab-df-convert:hover {\n",
              "      background-color: #E2EBFA;\n",
              "      box-shadow: 0px 1px 2px rgba(60, 64, 67, 0.3), 0px 1px 3px 1px rgba(60, 64, 67, 0.15);\n",
              "      fill: #174EA6;\n",
              "    }\n",
              "\n",
              "    [theme=dark] .colab-df-convert {\n",
              "      background-color: #3B4455;\n",
              "      fill: #D2E3FC;\n",
              "    }\n",
              "\n",
              "    [theme=dark] .colab-df-convert:hover {\n",
              "      background-color: #434B5C;\n",
              "      box-shadow: 0px 1px 3px 1px rgba(0, 0, 0, 0.15);\n",
              "      filter: drop-shadow(0px 1px 2px rgba(0, 0, 0, 0.3));\n",
              "      fill: #FFFFFF;\n",
              "    }\n",
              "  </style>\n",
              "\n",
              "      <script>\n",
              "        const buttonEl =\n",
              "          document.querySelector('#df-1ce9e9d7-e8eb-453c-9c80-07002f9bb5a4 button.colab-df-convert');\n",
              "        buttonEl.style.display =\n",
              "          google.colab.kernel.accessAllowed ? 'block' : 'none';\n",
              "\n",
              "        async function convertToInteractive(key) {\n",
              "          const element = document.querySelector('#df-1ce9e9d7-e8eb-453c-9c80-07002f9bb5a4');\n",
              "          const dataTable =\n",
              "            await google.colab.kernel.invokeFunction('convertToInteractive',\n",
              "                                                     [key], {});\n",
              "          if (!dataTable) return;\n",
              "\n",
              "          const docLinkHtml = 'Like what you see? Visit the ' +\n",
              "            '<a target=\"_blank\" href=https://colab.research.google.com/notebooks/data_table.ipynb>data table notebook</a>'\n",
              "            + ' to learn more about interactive tables.';\n",
              "          element.innerHTML = '';\n",
              "          dataTable['output_type'] = 'display_data';\n",
              "          await google.colab.output.renderOutput(dataTable, element);\n",
              "          const docLink = document.createElement('div');\n",
              "          docLink.innerHTML = docLinkHtml;\n",
              "          element.appendChild(docLink);\n",
              "        }\n",
              "      </script>\n",
              "    </div>\n",
              "  </div>\n",
              "  "
            ]
          },
          "metadata": {},
          "execution_count": 106
        }
      ],
      "source": [
        "box_office.head()"
      ]
    },
    {
      "cell_type": "code",
      "execution_count": null,
      "id": "892b0e1b",
      "metadata": {
        "id": "892b0e1b"
      },
      "outputs": [],
      "source": [
        "box_office['genres'] = tmdb.fit_transform(box_office['genres'])\n",
        "box_office['original_language'] = tmdb.fit_transform(box_office['original_language'])\n",
        "box_office['spoken_languages'] = tmdb.fit_transform(box_office['spoken_languages'])\n",
        "box_office['status'] = tmdb.fit_transform(box_office['status'])\n",
        "box_office['title'] = tmdb.fit_transform(box_office['title'])"
      ]
    },
    {
      "cell_type": "code",
      "execution_count": null,
      "id": "f388b95d",
      "metadata": {
        "colab": {
          "base_uri": "https://localhost:8080/",
          "height": 206
        },
        "id": "f388b95d",
        "outputId": "fcb73f68-d898-42b8-8254-5026155c4c50"
      },
      "outputs": [
        {
          "output_type": "execute_result",
          "data": {
            "text/plain": [
              "     budget  genres  original_language  popularity  runtime  spoken_languages  \\\n",
              "0  14000000     696                  7    6.575393     93.0               262   \n",
              "1  40000000     645                  7    8.248895    113.0               262   \n",
              "2   3300000     391                  7   64.299990    105.0               262   \n",
              "3   1200000     733                 13    3.174936    122.0               175   \n",
              "4         0     589                 18    1.148070    118.0               338   \n",
              "\n",
              "   status  title   revenue  day  month  year  \n",
              "0       0   1045  12314651   20      2  2015  \n",
              "1       0   2546  95149435    6      8  2004  \n",
              "2       0   2903  13092000   10     10  2014  \n",
              "3       0   1183  16000000    9      3  2012  \n",
              "4       0   1371   3923970    5      2  2009  "
            ],
            "text/html": [
              "\n",
              "  <div id=\"df-b00503b7-cf43-422b-990a-c49927bb236d\">\n",
              "    <div class=\"colab-df-container\">\n",
              "      <div>\n",
              "<style scoped>\n",
              "    .dataframe tbody tr th:only-of-type {\n",
              "        vertical-align: middle;\n",
              "    }\n",
              "\n",
              "    .dataframe tbody tr th {\n",
              "        vertical-align: top;\n",
              "    }\n",
              "\n",
              "    .dataframe thead th {\n",
              "        text-align: right;\n",
              "    }\n",
              "</style>\n",
              "<table border=\"1\" class=\"dataframe\">\n",
              "  <thead>\n",
              "    <tr style=\"text-align: right;\">\n",
              "      <th></th>\n",
              "      <th>budget</th>\n",
              "      <th>genres</th>\n",
              "      <th>original_language</th>\n",
              "      <th>popularity</th>\n",
              "      <th>runtime</th>\n",
              "      <th>spoken_languages</th>\n",
              "      <th>status</th>\n",
              "      <th>title</th>\n",
              "      <th>revenue</th>\n",
              "      <th>day</th>\n",
              "      <th>month</th>\n",
              "      <th>year</th>\n",
              "    </tr>\n",
              "  </thead>\n",
              "  <tbody>\n",
              "    <tr>\n",
              "      <th>0</th>\n",
              "      <td>14000000</td>\n",
              "      <td>696</td>\n",
              "      <td>7</td>\n",
              "      <td>6.575393</td>\n",
              "      <td>93.0</td>\n",
              "      <td>262</td>\n",
              "      <td>0</td>\n",
              "      <td>1045</td>\n",
              "      <td>12314651</td>\n",
              "      <td>20</td>\n",
              "      <td>2</td>\n",
              "      <td>2015</td>\n",
              "    </tr>\n",
              "    <tr>\n",
              "      <th>1</th>\n",
              "      <td>40000000</td>\n",
              "      <td>645</td>\n",
              "      <td>7</td>\n",
              "      <td>8.248895</td>\n",
              "      <td>113.0</td>\n",
              "      <td>262</td>\n",
              "      <td>0</td>\n",
              "      <td>2546</td>\n",
              "      <td>95149435</td>\n",
              "      <td>6</td>\n",
              "      <td>8</td>\n",
              "      <td>2004</td>\n",
              "    </tr>\n",
              "    <tr>\n",
              "      <th>2</th>\n",
              "      <td>3300000</td>\n",
              "      <td>391</td>\n",
              "      <td>7</td>\n",
              "      <td>64.299990</td>\n",
              "      <td>105.0</td>\n",
              "      <td>262</td>\n",
              "      <td>0</td>\n",
              "      <td>2903</td>\n",
              "      <td>13092000</td>\n",
              "      <td>10</td>\n",
              "      <td>10</td>\n",
              "      <td>2014</td>\n",
              "    </tr>\n",
              "    <tr>\n",
              "      <th>3</th>\n",
              "      <td>1200000</td>\n",
              "      <td>733</td>\n",
              "      <td>13</td>\n",
              "      <td>3.174936</td>\n",
              "      <td>122.0</td>\n",
              "      <td>175</td>\n",
              "      <td>0</td>\n",
              "      <td>1183</td>\n",
              "      <td>16000000</td>\n",
              "      <td>9</td>\n",
              "      <td>3</td>\n",
              "      <td>2012</td>\n",
              "    </tr>\n",
              "    <tr>\n",
              "      <th>4</th>\n",
              "      <td>0</td>\n",
              "      <td>589</td>\n",
              "      <td>18</td>\n",
              "      <td>1.148070</td>\n",
              "      <td>118.0</td>\n",
              "      <td>338</td>\n",
              "      <td>0</td>\n",
              "      <td>1371</td>\n",
              "      <td>3923970</td>\n",
              "      <td>5</td>\n",
              "      <td>2</td>\n",
              "      <td>2009</td>\n",
              "    </tr>\n",
              "  </tbody>\n",
              "</table>\n",
              "</div>\n",
              "      <button class=\"colab-df-convert\" onclick=\"convertToInteractive('df-b00503b7-cf43-422b-990a-c49927bb236d')\"\n",
              "              title=\"Convert this dataframe to an interactive table.\"\n",
              "              style=\"display:none;\">\n",
              "        \n",
              "  <svg xmlns=\"http://www.w3.org/2000/svg\" height=\"24px\"viewBox=\"0 0 24 24\"\n",
              "       width=\"24px\">\n",
              "    <path d=\"M0 0h24v24H0V0z\" fill=\"none\"/>\n",
              "    <path d=\"M18.56 5.44l.94 2.06.94-2.06 2.06-.94-2.06-.94-.94-2.06-.94 2.06-2.06.94zm-11 1L8.5 8.5l.94-2.06 2.06-.94-2.06-.94L8.5 2.5l-.94 2.06-2.06.94zm10 10l.94 2.06.94-2.06 2.06-.94-2.06-.94-.94-2.06-.94 2.06-2.06.94z\"/><path d=\"M17.41 7.96l-1.37-1.37c-.4-.4-.92-.59-1.43-.59-.52 0-1.04.2-1.43.59L10.3 9.45l-7.72 7.72c-.78.78-.78 2.05 0 2.83L4 21.41c.39.39.9.59 1.41.59.51 0 1.02-.2 1.41-.59l7.78-7.78 2.81-2.81c.8-.78.8-2.07 0-2.86zM5.41 20L4 18.59l7.72-7.72 1.47 1.35L5.41 20z\"/>\n",
              "  </svg>\n",
              "      </button>\n",
              "      \n",
              "  <style>\n",
              "    .colab-df-container {\n",
              "      display:flex;\n",
              "      flex-wrap:wrap;\n",
              "      gap: 12px;\n",
              "    }\n",
              "\n",
              "    .colab-df-convert {\n",
              "      background-color: #E8F0FE;\n",
              "      border: none;\n",
              "      border-radius: 50%;\n",
              "      cursor: pointer;\n",
              "      display: none;\n",
              "      fill: #1967D2;\n",
              "      height: 32px;\n",
              "      padding: 0 0 0 0;\n",
              "      width: 32px;\n",
              "    }\n",
              "\n",
              "    .colab-df-convert:hover {\n",
              "      background-color: #E2EBFA;\n",
              "      box-shadow: 0px 1px 2px rgba(60, 64, 67, 0.3), 0px 1px 3px 1px rgba(60, 64, 67, 0.15);\n",
              "      fill: #174EA6;\n",
              "    }\n",
              "\n",
              "    [theme=dark] .colab-df-convert {\n",
              "      background-color: #3B4455;\n",
              "      fill: #D2E3FC;\n",
              "    }\n",
              "\n",
              "    [theme=dark] .colab-df-convert:hover {\n",
              "      background-color: #434B5C;\n",
              "      box-shadow: 0px 1px 3px 1px rgba(0, 0, 0, 0.15);\n",
              "      filter: drop-shadow(0px 1px 2px rgba(0, 0, 0, 0.3));\n",
              "      fill: #FFFFFF;\n",
              "    }\n",
              "  </style>\n",
              "\n",
              "      <script>\n",
              "        const buttonEl =\n",
              "          document.querySelector('#df-b00503b7-cf43-422b-990a-c49927bb236d button.colab-df-convert');\n",
              "        buttonEl.style.display =\n",
              "          google.colab.kernel.accessAllowed ? 'block' : 'none';\n",
              "\n",
              "        async function convertToInteractive(key) {\n",
              "          const element = document.querySelector('#df-b00503b7-cf43-422b-990a-c49927bb236d');\n",
              "          const dataTable =\n",
              "            await google.colab.kernel.invokeFunction('convertToInteractive',\n",
              "                                                     [key], {});\n",
              "          if (!dataTable) return;\n",
              "\n",
              "          const docLinkHtml = 'Like what you see? Visit the ' +\n",
              "            '<a target=\"_blank\" href=https://colab.research.google.com/notebooks/data_table.ipynb>data table notebook</a>'\n",
              "            + ' to learn more about interactive tables.';\n",
              "          element.innerHTML = '';\n",
              "          dataTable['output_type'] = 'display_data';\n",
              "          await google.colab.output.renderOutput(dataTable, element);\n",
              "          const docLink = document.createElement('div');\n",
              "          docLink.innerHTML = docLinkHtml;\n",
              "          element.appendChild(docLink);\n",
              "        }\n",
              "      </script>\n",
              "    </div>\n",
              "  </div>\n",
              "  "
            ]
          },
          "metadata": {},
          "execution_count": 108
        }
      ],
      "source": [
        "box_office.head()"
      ]
    },
    {
      "cell_type": "markdown",
      "id": "549a6eef",
      "metadata": {
        "id": "549a6eef"
      },
      "source": [
        "## Training the dataset"
      ]
    },
    {
      "cell_type": "code",
      "execution_count": null,
      "id": "d32d0230",
      "metadata": {
        "id": "d32d0230"
      },
      "outputs": [],
      "source": [
        "X = box_office.drop(columns=['revenue'], axis=1)\n",
        "y = box_office['revenue']"
      ]
    },
    {
      "cell_type": "code",
      "execution_count": null,
      "id": "c2fa005c",
      "metadata": {
        "colab": {
          "base_uri": "https://localhost:8080/",
          "height": 206
        },
        "id": "c2fa005c",
        "outputId": "7f548b06-4efc-4f91-fc12-e7a476cc931f"
      },
      "outputs": [
        {
          "output_type": "execute_result",
          "data": {
            "text/plain": [
              "     budget  genres  original_language  popularity  runtime  spoken_languages  \\\n",
              "0  14000000     696                  7    6.575393     93.0               262   \n",
              "1  40000000     645                  7    8.248895    113.0               262   \n",
              "2   3300000     391                  7   64.299990    105.0               262   \n",
              "3   1200000     733                 13    3.174936    122.0               175   \n",
              "4         0     589                 18    1.148070    118.0               338   \n",
              "\n",
              "   status  title  day  month  year  \n",
              "0       0   1045   20      2  2015  \n",
              "1       0   2546    6      8  2004  \n",
              "2       0   2903   10     10  2014  \n",
              "3       0   1183    9      3  2012  \n",
              "4       0   1371    5      2  2009  "
            ],
            "text/html": [
              "\n",
              "  <div id=\"df-20c42f48-aa03-48ca-8efa-cb780aab85db\">\n",
              "    <div class=\"colab-df-container\">\n",
              "      <div>\n",
              "<style scoped>\n",
              "    .dataframe tbody tr th:only-of-type {\n",
              "        vertical-align: middle;\n",
              "    }\n",
              "\n",
              "    .dataframe tbody tr th {\n",
              "        vertical-align: top;\n",
              "    }\n",
              "\n",
              "    .dataframe thead th {\n",
              "        text-align: right;\n",
              "    }\n",
              "</style>\n",
              "<table border=\"1\" class=\"dataframe\">\n",
              "  <thead>\n",
              "    <tr style=\"text-align: right;\">\n",
              "      <th></th>\n",
              "      <th>budget</th>\n",
              "      <th>genres</th>\n",
              "      <th>original_language</th>\n",
              "      <th>popularity</th>\n",
              "      <th>runtime</th>\n",
              "      <th>spoken_languages</th>\n",
              "      <th>status</th>\n",
              "      <th>title</th>\n",
              "      <th>day</th>\n",
              "      <th>month</th>\n",
              "      <th>year</th>\n",
              "    </tr>\n",
              "  </thead>\n",
              "  <tbody>\n",
              "    <tr>\n",
              "      <th>0</th>\n",
              "      <td>14000000</td>\n",
              "      <td>696</td>\n",
              "      <td>7</td>\n",
              "      <td>6.575393</td>\n",
              "      <td>93.0</td>\n",
              "      <td>262</td>\n",
              "      <td>0</td>\n",
              "      <td>1045</td>\n",
              "      <td>20</td>\n",
              "      <td>2</td>\n",
              "      <td>2015</td>\n",
              "    </tr>\n",
              "    <tr>\n",
              "      <th>1</th>\n",
              "      <td>40000000</td>\n",
              "      <td>645</td>\n",
              "      <td>7</td>\n",
              "      <td>8.248895</td>\n",
              "      <td>113.0</td>\n",
              "      <td>262</td>\n",
              "      <td>0</td>\n",
              "      <td>2546</td>\n",
              "      <td>6</td>\n",
              "      <td>8</td>\n",
              "      <td>2004</td>\n",
              "    </tr>\n",
              "    <tr>\n",
              "      <th>2</th>\n",
              "      <td>3300000</td>\n",
              "      <td>391</td>\n",
              "      <td>7</td>\n",
              "      <td>64.299990</td>\n",
              "      <td>105.0</td>\n",
              "      <td>262</td>\n",
              "      <td>0</td>\n",
              "      <td>2903</td>\n",
              "      <td>10</td>\n",
              "      <td>10</td>\n",
              "      <td>2014</td>\n",
              "    </tr>\n",
              "    <tr>\n",
              "      <th>3</th>\n",
              "      <td>1200000</td>\n",
              "      <td>733</td>\n",
              "      <td>13</td>\n",
              "      <td>3.174936</td>\n",
              "      <td>122.0</td>\n",
              "      <td>175</td>\n",
              "      <td>0</td>\n",
              "      <td>1183</td>\n",
              "      <td>9</td>\n",
              "      <td>3</td>\n",
              "      <td>2012</td>\n",
              "    </tr>\n",
              "    <tr>\n",
              "      <th>4</th>\n",
              "      <td>0</td>\n",
              "      <td>589</td>\n",
              "      <td>18</td>\n",
              "      <td>1.148070</td>\n",
              "      <td>118.0</td>\n",
              "      <td>338</td>\n",
              "      <td>0</td>\n",
              "      <td>1371</td>\n",
              "      <td>5</td>\n",
              "      <td>2</td>\n",
              "      <td>2009</td>\n",
              "    </tr>\n",
              "  </tbody>\n",
              "</table>\n",
              "</div>\n",
              "      <button class=\"colab-df-convert\" onclick=\"convertToInteractive('df-20c42f48-aa03-48ca-8efa-cb780aab85db')\"\n",
              "              title=\"Convert this dataframe to an interactive table.\"\n",
              "              style=\"display:none;\">\n",
              "        \n",
              "  <svg xmlns=\"http://www.w3.org/2000/svg\" height=\"24px\"viewBox=\"0 0 24 24\"\n",
              "       width=\"24px\">\n",
              "    <path d=\"M0 0h24v24H0V0z\" fill=\"none\"/>\n",
              "    <path d=\"M18.56 5.44l.94 2.06.94-2.06 2.06-.94-2.06-.94-.94-2.06-.94 2.06-2.06.94zm-11 1L8.5 8.5l.94-2.06 2.06-.94-2.06-.94L8.5 2.5l-.94 2.06-2.06.94zm10 10l.94 2.06.94-2.06 2.06-.94-2.06-.94-.94-2.06-.94 2.06-2.06.94z\"/><path d=\"M17.41 7.96l-1.37-1.37c-.4-.4-.92-.59-1.43-.59-.52 0-1.04.2-1.43.59L10.3 9.45l-7.72 7.72c-.78.78-.78 2.05 0 2.83L4 21.41c.39.39.9.59 1.41.59.51 0 1.02-.2 1.41-.59l7.78-7.78 2.81-2.81c.8-.78.8-2.07 0-2.86zM5.41 20L4 18.59l7.72-7.72 1.47 1.35L5.41 20z\"/>\n",
              "  </svg>\n",
              "      </button>\n",
              "      \n",
              "  <style>\n",
              "    .colab-df-container {\n",
              "      display:flex;\n",
              "      flex-wrap:wrap;\n",
              "      gap: 12px;\n",
              "    }\n",
              "\n",
              "    .colab-df-convert {\n",
              "      background-color: #E8F0FE;\n",
              "      border: none;\n",
              "      border-radius: 50%;\n",
              "      cursor: pointer;\n",
              "      display: none;\n",
              "      fill: #1967D2;\n",
              "      height: 32px;\n",
              "      padding: 0 0 0 0;\n",
              "      width: 32px;\n",
              "    }\n",
              "\n",
              "    .colab-df-convert:hover {\n",
              "      background-color: #E2EBFA;\n",
              "      box-shadow: 0px 1px 2px rgba(60, 64, 67, 0.3), 0px 1px 3px 1px rgba(60, 64, 67, 0.15);\n",
              "      fill: #174EA6;\n",
              "    }\n",
              "\n",
              "    [theme=dark] .colab-df-convert {\n",
              "      background-color: #3B4455;\n",
              "      fill: #D2E3FC;\n",
              "    }\n",
              "\n",
              "    [theme=dark] .colab-df-convert:hover {\n",
              "      background-color: #434B5C;\n",
              "      box-shadow: 0px 1px 3px 1px rgba(0, 0, 0, 0.15);\n",
              "      filter: drop-shadow(0px 1px 2px rgba(0, 0, 0, 0.3));\n",
              "      fill: #FFFFFF;\n",
              "    }\n",
              "  </style>\n",
              "\n",
              "      <script>\n",
              "        const buttonEl =\n",
              "          document.querySelector('#df-20c42f48-aa03-48ca-8efa-cb780aab85db button.colab-df-convert');\n",
              "        buttonEl.style.display =\n",
              "          google.colab.kernel.accessAllowed ? 'block' : 'none';\n",
              "\n",
              "        async function convertToInteractive(key) {\n",
              "          const element = document.querySelector('#df-20c42f48-aa03-48ca-8efa-cb780aab85db');\n",
              "          const dataTable =\n",
              "            await google.colab.kernel.invokeFunction('convertToInteractive',\n",
              "                                                     [key], {});\n",
              "          if (!dataTable) return;\n",
              "\n",
              "          const docLinkHtml = 'Like what you see? Visit the ' +\n",
              "            '<a target=\"_blank\" href=https://colab.research.google.com/notebooks/data_table.ipynb>data table notebook</a>'\n",
              "            + ' to learn more about interactive tables.';\n",
              "          element.innerHTML = '';\n",
              "          dataTable['output_type'] = 'display_data';\n",
              "          await google.colab.output.renderOutput(dataTable, element);\n",
              "          const docLink = document.createElement('div');\n",
              "          docLink.innerHTML = docLinkHtml;\n",
              "          element.appendChild(docLink);\n",
              "        }\n",
              "      </script>\n",
              "    </div>\n",
              "  </div>\n",
              "  "
            ]
          },
          "metadata": {},
          "execution_count": 82
        }
      ],
      "source": [
        "X.head()"
      ]
    },
    {
      "cell_type": "code",
      "execution_count": null,
      "id": "854f7a21",
      "metadata": {
        "colab": {
          "base_uri": "https://localhost:8080/"
        },
        "id": "854f7a21",
        "outputId": "8a3af2a3-5bd1-4b94-ac5b-33aabbc853ff"
      },
      "outputs": [
        {
          "output_type": "execute_result",
          "data": {
            "text/plain": [
              "0    12314651\n",
              "1    95149435\n",
              "2    13092000\n",
              "3    16000000\n",
              "4     3923970\n",
              "Name: revenue, dtype: int64"
            ]
          },
          "metadata": {},
          "execution_count": 83
        }
      ],
      "source": [
        "y.head()"
      ]
    },
    {
      "cell_type": "code",
      "execution_count": null,
      "id": "a698423b",
      "metadata": {
        "id": "a698423b"
      },
      "outputs": [],
      "source": [
        "from sklearn.linear_model import LinearRegression\n",
        "from sklearn.model_selection import train_test_split"
      ]
    },
    {
      "cell_type": "code",
      "execution_count": null,
      "id": "75790cc3",
      "metadata": {
        "id": "75790cc3"
      },
      "outputs": [],
      "source": [
        "model = LinearRegression()"
      ]
    },
    {
      "cell_type": "code",
      "execution_count": null,
      "id": "c2387c8b",
      "metadata": {
        "id": "c2387c8b"
      },
      "outputs": [],
      "source": [
        "X_train, X_test, y_train, y_test = train_test_split(X, y, train_size=0.4, random_state = 16)"
      ]
    },
    {
      "cell_type": "code",
      "execution_count": null,
      "id": "b4a2d466",
      "metadata": {
        "colab": {
          "base_uri": "https://localhost:8080/"
        },
        "id": "b4a2d466",
        "outputId": "b88047c3-3806-4d66-da97-f1b5309ff15a"
      },
      "outputs": [
        {
          "output_type": "stream",
          "name": "stdout",
          "text": [
            "(1200, 11) (1800, 11) (1200,) (1800,)\n"
          ]
        }
      ],
      "source": [
        "print(X_train.shape, X_test.shape, y_train.shape, y_test.shape)"
      ]
    },
    {
      "cell_type": "code",
      "execution_count": null,
      "id": "30324bfd",
      "metadata": {
        "colab": {
          "base_uri": "https://localhost:8080/"
        },
        "id": "30324bfd",
        "outputId": "33435715-b04a-40dc-aacd-468a37a2133f"
      },
      "outputs": [
        {
          "output_type": "execute_result",
          "data": {
            "text/plain": [
              "LinearRegression()"
            ]
          },
          "metadata": {},
          "execution_count": 88
        }
      ],
      "source": [
        "model.fit(X_train, y_train) "
      ]
    },
    {
      "cell_type": "code",
      "execution_count": null,
      "id": "c00e2392",
      "metadata": {
        "id": "c00e2392"
      },
      "outputs": [],
      "source": [
        "y_pred = model.predict(X_test)"
      ]
    },
    {
      "cell_type": "code",
      "execution_count": null,
      "id": "37f1bbb9",
      "metadata": {
        "colab": {
          "base_uri": "https://localhost:8080/"
        },
        "id": "37f1bbb9",
        "outputId": "86faf6c1-2942-4037-af6b-6cd1cbeafd8f"
      },
      "outputs": [
        {
          "output_type": "stream",
          "name": "stdout",
          "text": [
            "[-2955343.08640707 -3959690.50984693 -1319347.7577365  ...\n",
            " -4219807.76109987 -6666785.95858753 15524252.54888994]\n"
          ]
        }
      ],
      "source": [
        "print(y_pred)"
      ]
    },
    {
      "cell_type": "code",
      "execution_count": null,
      "id": "adbd062e",
      "metadata": {
        "id": "adbd062e"
      },
      "outputs": [],
      "source": [
        "from sklearn.metrics import explained_variance_score"
      ]
    },
    {
      "cell_type": "code",
      "execution_count": null,
      "id": "5cae6aaf",
      "metadata": {
        "colab": {
          "base_uri": "https://localhost:8080/"
        },
        "id": "5cae6aaf",
        "outputId": "fec36d0d-4b70-402f-f5a4-f6d75e7ff910"
      },
      "outputs": [
        {
          "output_type": "execute_result",
          "data": {
            "text/plain": [
              "0.6511165335905116"
            ]
          },
          "metadata": {},
          "execution_count": 92
        }
      ],
      "source": [
        "explained_variance_score(y_test, y_pred)"
      ]
    },
    {
      "cell_type": "code",
      "execution_count": null,
      "id": "0423b17c",
      "metadata": {
        "id": "0423b17c"
      },
      "outputs": [],
      "source": [
        "from sklearn.metrics import mean_squared_error"
      ]
    },
    {
      "cell_type": "code",
      "execution_count": null,
      "id": "8fc54fc6",
      "metadata": {
        "colab": {
          "base_uri": "https://localhost:8080/"
        },
        "id": "8fc54fc6",
        "outputId": "0eca8bed-7dbb-4e18-d488-f1a312777718"
      },
      "outputs": [
        {
          "output_type": "execute_result",
          "data": {
            "text/plain": [
              "79692728.6928988"
            ]
          },
          "metadata": {},
          "execution_count": 94
        }
      ],
      "source": [
        "np.sqrt(mean_squared_error(y_test, y_pred))"
      ]
    },
    {
      "cell_type": "code",
      "execution_count": null,
      "id": "505ca82f",
      "metadata": {
        "colab": {
          "base_uri": "https://localhost:8080/"
        },
        "id": "505ca82f",
        "outputId": "d87399c2-89d4-411e-f0d2-66a4dc246b52"
      },
      "outputs": [
        {
          "output_type": "execute_result",
          "data": {
            "text/plain": [
              "516       6000000\n",
              "1034     38901218\n",
              "2435      3956913\n",
              "1756     88658655\n",
              "2909     48902953\n",
              "          ...    \n",
              "635      20158808\n",
              "1345    149295601\n",
              "581        461162\n",
              "2169     23800000\n",
              "2729    498814908\n",
              "Name: revenue, Length: 1200, dtype: int64"
            ]
          },
          "metadata": {},
          "execution_count": 95
        }
      ],
      "source": [
        "y_train"
      ]
    },
    {
      "cell_type": "code",
      "execution_count": null,
      "id": "03950fa0",
      "metadata": {
        "colab": {
          "base_uri": "https://localhost:8080/"
        },
        "id": "03950fa0",
        "outputId": "597aafca-64dd-4296-dee8-cde449745c87"
      },
      "outputs": [
        {
          "output_type": "execute_result",
          "data": {
            "text/plain": [
              "104     149521495\n",
              "938          1938\n",
              "152           241\n",
              "2404    154026136\n",
              "2603    162000000\n",
              "          ...    \n",
              "2678      1081957\n",
              "1825      5765562\n",
              "2057       239894\n",
              "2560     12065892\n",
              "2382     18124262\n",
              "Name: revenue, Length: 1800, dtype: int64"
            ]
          },
          "metadata": {},
          "execution_count": 96
        }
      ],
      "source": [
        "y_test"
      ]
    },
    {
      "cell_type": "code",
      "execution_count": null,
      "id": "56aca3e4",
      "metadata": {
        "colab": {
          "base_uri": "https://localhost:8080/"
        },
        "id": "56aca3e4",
        "outputId": "5efc7900-7af5-48f6-8b9f-559708ab5d41"
      },
      "outputs": [
        {
          "output_type": "execute_result",
          "data": {
            "text/plain": [
              "array([-2955343.08640707, -3959690.50984693, -1319347.7577365 , ...,\n",
              "       -4219807.76109987, -6666785.95858753, 15524252.54888994])"
            ]
          },
          "metadata": {},
          "execution_count": 97
        }
      ],
      "source": [
        "y_pred"
      ]
    },
    {
      "cell_type": "code",
      "execution_count": null,
      "id": "4dba6a36",
      "metadata": {
        "colab": {
          "base_uri": "https://localhost:8080/"
        },
        "id": "4dba6a36",
        "outputId": "7f1ba806-61a4-4e59-bb5a-f1306b6275aa"
      },
      "outputs": [
        {
          "output_type": "stream",
          "name": "stdout",
          "text": [
            "6350931006519975.0\n"
          ]
        }
      ],
      "source": [
        "error = mean_squared_error(y_test, y_pred)\n",
        "print(error)"
      ]
    },
    {
      "cell_type": "code",
      "execution_count": null,
      "id": "f5cb73f8",
      "metadata": {
        "colab": {
          "base_uri": "https://localhost:8080/"
        },
        "id": "f5cb73f8",
        "outputId": "18b5de70-7757-4648-e534-115f0c26e397"
      },
      "outputs": [
        {
          "output_type": "stream",
          "name": "stdout",
          "text": [
            "79692728.6928988\n"
          ]
        }
      ],
      "source": [
        "error = mean_squared_error(y_test, y_pred, squared = False)\n",
        "print(error)"
      ]
    },
    {
      "cell_type": "code",
      "execution_count": null,
      "id": "1b2dd87a",
      "metadata": {
        "colab": {
          "base_uri": "https://localhost:8080/"
        },
        "id": "1b2dd87a",
        "outputId": "f62923de-11dc-4135-bd32-d0374d6e08ec"
      },
      "outputs": [
        {
          "output_type": "stream",
          "name": "stdout",
          "text": [
            "[6.35093101e+15]\n"
          ]
        }
      ],
      "source": [
        "error = mean_squared_error(y_test, y_pred, multioutput = 'raw_values')\n",
        "print(error)"
      ]
    },
    {
      "cell_type": "code",
      "execution_count": null,
      "id": "8cff1133",
      "metadata": {
        "colab": {
          "base_uri": "https://localhost:8080/"
        },
        "id": "8cff1133",
        "outputId": "b7ae61e2-27eb-4118-a4f8-f4d29bac5393"
      },
      "outputs": [
        {
          "output_type": "stream",
          "name": "stdout",
          "text": [
            "6350931006519975.0\n"
          ]
        }
      ],
      "source": [
        "error = mean_squared_error(y_test, y_pred, multioutput = 'uniform_average')\n",
        "print(error)"
      ]
    },
    {
      "cell_type": "code",
      "execution_count": null,
      "id": "64ae3fdd",
      "metadata": {
        "id": "64ae3fdd"
      },
      "outputs": [],
      "source": [
        "from sklearn.metrics import mean_absolute_error"
      ]
    },
    {
      "cell_type": "code",
      "execution_count": null,
      "id": "4aade030",
      "metadata": {
        "colab": {
          "base_uri": "https://localhost:8080/"
        },
        "id": "4aade030",
        "outputId": "43075c0b-1c28-4e8d-853d-29ea5bacda10"
      },
      "outputs": [
        {
          "output_type": "stream",
          "name": "stdout",
          "text": [
            "44789941.006416544\n"
          ]
        }
      ],
      "source": [
        "error = mean_absolute_error(y_test, y_pred)\n",
        "print(error)"
      ]
    },
    {
      "cell_type": "code",
      "execution_count": null,
      "id": "d978516a",
      "metadata": {
        "id": "d978516a"
      },
      "outputs": [],
      "source": [
        ""
      ]
    }
  ],
  "metadata": {
    "kernelspec": {
      "display_name": "Python 3 (ipykernel)",
      "language": "python",
      "name": "python3"
    },
    "language_info": {
      "codemirror_mode": {
        "name": "ipython",
        "version": 3
      },
      "file_extension": ".py",
      "mimetype": "text/x-python",
      "name": "python",
      "nbconvert_exporter": "python",
      "pygments_lexer": "ipython3",
      "version": "3.9.7"
    },
    "colab": {
      "name": "Revenue Prediction.ipynb",
      "provenance": [],
      "collapsed_sections": [],
      "include_colab_link": true
    }
  },
  "nbformat": 4,
  "nbformat_minor": 5
}