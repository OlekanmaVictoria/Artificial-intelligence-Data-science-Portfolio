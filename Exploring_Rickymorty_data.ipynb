{
  "cells": [
    {
      "cell_type": "markdown",
      "metadata": {
        "id": "view-in-github",
        "colab_type": "text"
      },
      "source": [
        "<a href=\"https://colab.research.google.com/github/OlekanmaVictoria/Data-science-Portfolio/blob/main/Exploring_Rickymorty_data.ipynb\" target=\"_parent\"><img src=\"https://colab.research.google.com/assets/colab-badge.svg\" alt=\"Open In Colab\"/></a>"
      ]
    },
    {
      "cell_type": "markdown",
      "source": [
        "# DATA SCIENCE CASE STUDY"
      ],
      "metadata": {
        "id": "Uf8cWvf31xQR"
      },
      "id": "Uf8cWvf31xQR"
    },
    {
      "cell_type": "code",
      "source": [
        "# Import Dependencies\n",
        "import pandas as pd\n",
        "import numpy as np\n",
        "import seaborn as sns\n",
        "from datetime import datetime, timedelta\n",
        "import requests\n",
        "import matplotlib.pyplot as plt"
      ],
      "metadata": {
        "id": "axuBNFP315gB"
      },
      "id": "axuBNFP315gB",
      "execution_count": null,
      "outputs": []
    },
    {
      "cell_type": "code",
      "execution_count": null,
      "id": "2a553eb2",
      "metadata": {
        "id": "2a553eb2"
      },
      "outputs": [],
      "source": [
        "# URL for the Rick and Morty API characters endpoint\n",
        "#fetching the Ricky and morty data from the API\n",
        "Rick_Morty_url = \"https://rickandmortyapi.com/api/character\"\n",
        "\n",
        "# Sending a GET request to the API\n",
        "response = requests.get(Rick_Morty_url)\n",
        "\n"
      ]
    },
    {
      "cell_type": "code",
      "execution_count": null,
      "id": "3f49f1db",
      "metadata": {
        "id": "3f49f1db",
        "outputId": "918fecea-8e70-4e61-90c2-77832d190fad"
      },
      "outputs": [
        {
          "name": "stdout",
          "output_type": "stream",
          "text": [
            "Rick Sanchez\n",
            "Morty Smith\n",
            "Summer Smith\n",
            "Beth Smith\n",
            "Jerry Smith\n"
          ]
        }
      ],
      "source": [
        "# Checking if the request was successful (status code 200)\n",
        "if response.status_code == 200:\n",
        "    # Extract character data from the response\n",
        "    character_data = response.json()\n",
        "    # Access information about characters\n",
        "    characters = character_data['results']  # List of characters\n",
        "\n",
        "    # Example: Print names of first 5 characters\n",
        "    for character in characters[:5]:\n",
        "        print(character['name'])\n",
        "else:\n",
        "    print(\"Failed to fetch data from the API\")\n"
      ]
    },
    {
      "cell_type": "code",
      "execution_count": null,
      "id": "484c821a",
      "metadata": {
        "id": "484c821a"
      },
      "outputs": [],
      "source": [
        "# Create a DataFrame from the Rick and moty character data\n",
        "Rick_Morty = pd.DataFrame(characters)"
      ]
    },
    {
      "cell_type": "code",
      "execution_count": null,
      "id": "e3f36de0",
      "metadata": {
        "id": "e3f36de0",
        "outputId": "445f0985-5d30-48aa-c7a9-715e329926dd"
      },
      "outputs": [
        {
          "data": {
            "text/html": [
              "<div>\n",
              "<style scoped>\n",
              "    .dataframe tbody tr th:only-of-type {\n",
              "        vertical-align: middle;\n",
              "    }\n",
              "\n",
              "    .dataframe tbody tr th {\n",
              "        vertical-align: top;\n",
              "    }\n",
              "\n",
              "    .dataframe thead th {\n",
              "        text-align: right;\n",
              "    }\n",
              "</style>\n",
              "<table border=\"1\" class=\"dataframe\">\n",
              "  <thead>\n",
              "    <tr style=\"text-align: right;\">\n",
              "      <th></th>\n",
              "      <th>id</th>\n",
              "      <th>name</th>\n",
              "      <th>status</th>\n",
              "      <th>species</th>\n",
              "      <th>type</th>\n",
              "      <th>gender</th>\n",
              "      <th>origin</th>\n",
              "      <th>location</th>\n",
              "      <th>image</th>\n",
              "      <th>episode</th>\n",
              "      <th>url</th>\n",
              "      <th>created</th>\n",
              "    </tr>\n",
              "  </thead>\n",
              "  <tbody>\n",
              "    <tr>\n",
              "      <th>0</th>\n",
              "      <td>1</td>\n",
              "      <td>Rick Sanchez</td>\n",
              "      <td>Alive</td>\n",
              "      <td>Human</td>\n",
              "      <td></td>\n",
              "      <td>Male</td>\n",
              "      <td>{'name': 'Earth (C-137)', 'url': 'https://rick...</td>\n",
              "      <td>{'name': 'Citadel of Ricks', 'url': 'https://r...</td>\n",
              "      <td>https://rickandmortyapi.com/api/character/avat...</td>\n",
              "      <td>[https://rickandmortyapi.com/api/episode/1, ht...</td>\n",
              "      <td>https://rickandmortyapi.com/api/character/1</td>\n",
              "      <td>2017-11-04T18:48:46.250Z</td>\n",
              "    </tr>\n",
              "    <tr>\n",
              "      <th>1</th>\n",
              "      <td>2</td>\n",
              "      <td>Morty Smith</td>\n",
              "      <td>Alive</td>\n",
              "      <td>Human</td>\n",
              "      <td></td>\n",
              "      <td>Male</td>\n",
              "      <td>{'name': 'unknown', 'url': ''}</td>\n",
              "      <td>{'name': 'Citadel of Ricks', 'url': 'https://r...</td>\n",
              "      <td>https://rickandmortyapi.com/api/character/avat...</td>\n",
              "      <td>[https://rickandmortyapi.com/api/episode/1, ht...</td>\n",
              "      <td>https://rickandmortyapi.com/api/character/2</td>\n",
              "      <td>2017-11-04T18:50:21.651Z</td>\n",
              "    </tr>\n",
              "    <tr>\n",
              "      <th>2</th>\n",
              "      <td>3</td>\n",
              "      <td>Summer Smith</td>\n",
              "      <td>Alive</td>\n",
              "      <td>Human</td>\n",
              "      <td></td>\n",
              "      <td>Female</td>\n",
              "      <td>{'name': 'Earth (Replacement Dimension)', 'url...</td>\n",
              "      <td>{'name': 'Earth (Replacement Dimension)', 'url...</td>\n",
              "      <td>https://rickandmortyapi.com/api/character/avat...</td>\n",
              "      <td>[https://rickandmortyapi.com/api/episode/6, ht...</td>\n",
              "      <td>https://rickandmortyapi.com/api/character/3</td>\n",
              "      <td>2017-11-04T19:09:56.428Z</td>\n",
              "    </tr>\n",
              "    <tr>\n",
              "      <th>3</th>\n",
              "      <td>4</td>\n",
              "      <td>Beth Smith</td>\n",
              "      <td>Alive</td>\n",
              "      <td>Human</td>\n",
              "      <td></td>\n",
              "      <td>Female</td>\n",
              "      <td>{'name': 'Earth (Replacement Dimension)', 'url...</td>\n",
              "      <td>{'name': 'Earth (Replacement Dimension)', 'url...</td>\n",
              "      <td>https://rickandmortyapi.com/api/character/avat...</td>\n",
              "      <td>[https://rickandmortyapi.com/api/episode/6, ht...</td>\n",
              "      <td>https://rickandmortyapi.com/api/character/4</td>\n",
              "      <td>2017-11-04T19:22:43.665Z</td>\n",
              "    </tr>\n",
              "    <tr>\n",
              "      <th>4</th>\n",
              "      <td>5</td>\n",
              "      <td>Jerry Smith</td>\n",
              "      <td>Alive</td>\n",
              "      <td>Human</td>\n",
              "      <td></td>\n",
              "      <td>Male</td>\n",
              "      <td>{'name': 'Earth (Replacement Dimension)', 'url...</td>\n",
              "      <td>{'name': 'Earth (Replacement Dimension)', 'url...</td>\n",
              "      <td>https://rickandmortyapi.com/api/character/avat...</td>\n",
              "      <td>[https://rickandmortyapi.com/api/episode/6, ht...</td>\n",
              "      <td>https://rickandmortyapi.com/api/character/5</td>\n",
              "      <td>2017-11-04T19:26:56.301Z</td>\n",
              "    </tr>\n",
              "  </tbody>\n",
              "</table>\n",
              "</div>"
            ],
            "text/plain": [
              "   id          name status species type  gender  \\\n",
              "0   1  Rick Sanchez  Alive   Human         Male   \n",
              "1   2   Morty Smith  Alive   Human         Male   \n",
              "2   3  Summer Smith  Alive   Human       Female   \n",
              "3   4    Beth Smith  Alive   Human       Female   \n",
              "4   5   Jerry Smith  Alive   Human         Male   \n",
              "\n",
              "                                              origin  \\\n",
              "0  {'name': 'Earth (C-137)', 'url': 'https://rick...   \n",
              "1                     {'name': 'unknown', 'url': ''}   \n",
              "2  {'name': 'Earth (Replacement Dimension)', 'url...   \n",
              "3  {'name': 'Earth (Replacement Dimension)', 'url...   \n",
              "4  {'name': 'Earth (Replacement Dimension)', 'url...   \n",
              "\n",
              "                                            location  \\\n",
              "0  {'name': 'Citadel of Ricks', 'url': 'https://r...   \n",
              "1  {'name': 'Citadel of Ricks', 'url': 'https://r...   \n",
              "2  {'name': 'Earth (Replacement Dimension)', 'url...   \n",
              "3  {'name': 'Earth (Replacement Dimension)', 'url...   \n",
              "4  {'name': 'Earth (Replacement Dimension)', 'url...   \n",
              "\n",
              "                                               image  \\\n",
              "0  https://rickandmortyapi.com/api/character/avat...   \n",
              "1  https://rickandmortyapi.com/api/character/avat...   \n",
              "2  https://rickandmortyapi.com/api/character/avat...   \n",
              "3  https://rickandmortyapi.com/api/character/avat...   \n",
              "4  https://rickandmortyapi.com/api/character/avat...   \n",
              "\n",
              "                                             episode  \\\n",
              "0  [https://rickandmortyapi.com/api/episode/1, ht...   \n",
              "1  [https://rickandmortyapi.com/api/episode/1, ht...   \n",
              "2  [https://rickandmortyapi.com/api/episode/6, ht...   \n",
              "3  [https://rickandmortyapi.com/api/episode/6, ht...   \n",
              "4  [https://rickandmortyapi.com/api/episode/6, ht...   \n",
              "\n",
              "                                           url                   created  \n",
              "0  https://rickandmortyapi.com/api/character/1  2017-11-04T18:48:46.250Z  \n",
              "1  https://rickandmortyapi.com/api/character/2  2017-11-04T18:50:21.651Z  \n",
              "2  https://rickandmortyapi.com/api/character/3  2017-11-04T19:09:56.428Z  \n",
              "3  https://rickandmortyapi.com/api/character/4  2017-11-04T19:22:43.665Z  \n",
              "4  https://rickandmortyapi.com/api/character/5  2017-11-04T19:26:56.301Z  "
            ]
          },
          "execution_count": 25,
          "metadata": {},
          "output_type": "execute_result"
        }
      ],
      "source": [
        "Rick_Morty.head()#so as to inspect the dataset to know the features it contians.-------"
      ]
    },
    {
      "cell_type": "markdown",
      "source": [
        "## Checking for basic information about the Rick and mort show  data\n",
        "\n",
        "## Findings--------\n",
        "\n",
        "## It contains only two data types which are;int and object."
      ],
      "metadata": {
        "id": "MZtYXtM1yZkS"
      },
      "id": "MZtYXtM1yZkS"
    },
    {
      "cell_type": "code",
      "execution_count": null,
      "id": "419364b7",
      "metadata": {
        "id": "419364b7",
        "outputId": "fb2e8887-b56a-469d-c610-cf104b977e64"
      },
      "outputs": [
        {
          "name": "stdout",
          "output_type": "stream",
          "text": [
            "<class 'pandas.core.frame.DataFrame'>\n",
            "RangeIndex: 20 entries, 0 to 19\n",
            "Data columns (total 12 columns):\n",
            " #   Column    Non-Null Count  Dtype \n",
            "---  ------    --------------  ----- \n",
            " 0   id        20 non-null     int64 \n",
            " 1   name      20 non-null     object\n",
            " 2   status    20 non-null     object\n",
            " 3   species   20 non-null     object\n",
            " 4   type      20 non-null     object\n",
            " 5   gender    20 non-null     object\n",
            " 6   origin    20 non-null     object\n",
            " 7   location  20 non-null     object\n",
            " 8   image     20 non-null     object\n",
            " 9   episode   20 non-null     object\n",
            " 10  url       20 non-null     object\n",
            " 11  created   20 non-null     object\n",
            "dtypes: int64(1), object(11)\n",
            "memory usage: 2.0+ KB\n",
            "None\n"
          ]
        }
      ],
      "source": [
        "print(Rick_Morty.info())"
      ]
    },
    {
      "cell_type": "markdown",
      "source": [
        "## Check for missing values\n",
        "\n",
        "## -----------FINDINGS--------\n",
        "## No null values found\n",
        "## There are no missing data in the Rick and morty show data provided.\n",
        "## All data for all features are present"
      ],
      "metadata": {
        "id": "RQ-NOMLJympq"
      },
      "id": "RQ-NOMLJympq"
    },
    {
      "cell_type": "code",
      "execution_count": null,
      "id": "edd5813d",
      "metadata": {
        "id": "edd5813d",
        "outputId": "ecf826f8-cb62-469e-a65c-d6168a2db203"
      },
      "outputs": [
        {
          "name": "stdout",
          "output_type": "stream",
          "text": [
            "id          0\n",
            "name        0\n",
            "status      0\n",
            "species     0\n",
            "type        0\n",
            "gender      0\n",
            "origin      0\n",
            "location    0\n",
            "image       0\n",
            "episode     0\n",
            "url         0\n",
            "created     0\n",
            "dtype: int64\n"
          ]
        }
      ],
      "source": [
        "print(Rick_Morty.isnull().sum())"
      ]
    },
    {
      "cell_type": "code",
      "execution_count": null,
      "id": "60f45e04",
      "metadata": {
        "colab": {
          "base_uri": "https://localhost:8080/",
          "height": 175
        },
        "id": "60f45e04",
        "outputId": "57efffea-6c44-44b4-8921-39fd24d1b142"
      },
      "outputs": [
        {
          "output_type": "error",
          "ename": "NameError",
          "evalue": "ignored",
          "traceback": [
            "\u001b[0;31m---------------------------------------------------------------------------\u001b[0m",
            "\u001b[0;31mNameError\u001b[0m                                 Traceback (most recent call last)",
            "\u001b[0;32m<ipython-input-1-10d884badce4>\u001b[0m in \u001b[0;36m<cell line: 1>\u001b[0;34m()\u001b[0m\n\u001b[0;32m----> 1\u001b[0;31m \u001b[0mRick_Morty\u001b[0m\u001b[0;34m.\u001b[0m\u001b[0mshape\u001b[0m\u001b[0;31m# the shape of the data,apparently the data has 20 rows and 12 columns!\u001b[0m\u001b[0;34m\u001b[0m\u001b[0;34m\u001b[0m\u001b[0m\n\u001b[0m",
            "\u001b[0;31mNameError\u001b[0m: name 'Rick_Morty' is not defined"
          ]
        }
      ],
      "source": [
        "Rick_Morty.shape\n",
        "# the shape of the data,apparently the data has 20 rows and 12 columns!\n"
      ]
    },
    {
      "cell_type": "code",
      "execution_count": null,
      "id": "ffd1a89f",
      "metadata": {
        "id": "ffd1a89f",
        "outputId": "765bc34d-7007-48bb-a4f4-3af8e19b104c"
      },
      "outputs": [
        {
          "name": "stdout",
          "output_type": "stream",
          "text": [
            "             id\n",
            "count  20.00000\n",
            "mean   10.50000\n",
            "std     5.91608\n",
            "min     1.00000\n",
            "25%     5.75000\n",
            "50%    10.50000\n",
            "75%    15.25000\n",
            "max    20.00000\n"
          ]
        }
      ],
      "source": [
        "# Here I explored basic statistics of the  id columns of the Rick and Morty dataset.\n",
        "\n",
        "print(Rick_Morty.describe())"
      ]
    },
    {
      "cell_type": "code",
      "execution_count": null,
      "id": "09c6e5d2",
      "metadata": {
        "id": "09c6e5d2",
        "outputId": "25d884cf-3410-46d3-a4b0-cc8df0425399"
      },
      "outputs": [
        {
          "name": "stdout",
          "output_type": "stream",
          "text": [
            "Human    0.75\n",
            "Alien    0.25\n",
            "Name: species, dtype: float64\n",
            "Male       15\n",
            "Female      4\n",
            "unknown     1\n",
            "Name: gender, dtype: int64\n"
          ]
        }
      ],
      "source": [
        "# Checking unique values and value counts for categorical columns\n",
        "# Exploration of the species used in the show\n",
        "print(Rick_Morty['species'].value_counts(10))\n",
        "\n",
        "\n",
        "#For the species used on the show,the male species were more,followed by the females\n",
        "print(Rick_Morty['gender'].value_counts())\n",
        "\n",
        "#For the gender,there were two genders and an unknown one."
      ]
    },
    {
      "cell_type": "code",
      "execution_count": null,
      "id": "78ab81bb",
      "metadata": {
        "id": "78ab81bb",
        "outputId": "3292e183-a232-4dec-bd0b-90fd31271eda"
      },
      "outputs": [
        {
          "name": "stdout",
          "output_type": "stream",
          "text": [
            "                                      14\n",
            "Human with antennae                    2\n",
            "Genetic experiment                     1\n",
            "Superhuman (Ghost trains summoner)     1\n",
            "Parasite                               1\n",
            "Human with ants in his eyes            1\n",
            "Name: type, dtype: int64\n"
          ]
        }
      ],
      "source": [
        "print(Rick_Morty['type'].value_counts())\n",
        "\n",
        "#The type of humans shown on the show are as listed"
      ]
    },
    {
      "cell_type": "code",
      "execution_count": null,
      "id": "78f2c5c9",
      "metadata": {
        "id": "78f2c5c9",
        "outputId": "d5077f97-02b2-4cd2-ad14-b9dad0e93cff"
      },
      "outputs": [
        {
          "name": "stdout",
          "output_type": "stream",
          "text": [
            "Alive      8\n",
            "unknown    6\n",
            "Dead       6\n",
            "Name: status, dtype: int64\n"
          ]
        }
      ],
      "source": [
        "print(Rick_Morty['status'].value_counts())\n",
        "\n",
        "#The status summary of the characters are as listed below"
      ]
    },
    {
      "cell_type": "code",
      "execution_count": null,
      "id": "d40db921",
      "metadata": {
        "id": "d40db921",
        "outputId": "bbcf3408-9094-4e4a-a04a-af22804dc8c2"
      },
      "outputs": [
        {
          "name": "stdout",
          "output_type": "stream",
          "text": [
            "Rick Sanchez                 1\n",
            "Morty Smith                  1\n",
            "Antenna Rick                 1\n",
            "Antenna Morty                1\n",
            "Annie                        1\n",
            "Amish Cyborg                 1\n",
            "Alien Rick                   1\n",
            "Alien Morty                  1\n",
            "Alien Googah                 1\n",
            "Alexander                    1\n",
            "Albert Einstein              1\n",
            "Alan Rails                   1\n",
            "Agency Director              1\n",
            "Adjudicator Rick             1\n",
            "Abradolf Lincler             1\n",
            "Abadango Cluster Princess    1\n",
            "Jerry Smith                  1\n",
            "Beth Smith                   1\n",
            "Summer Smith                 1\n",
            "Ants in my Eyes Johnson      1\n",
            "Name: name, dtype: int64\n"
          ]
        }
      ],
      "source": [
        "print(Rick_Morty['name'].value_counts())\n",
        "\n",
        "# The names of the characters used for the show are as listed."
      ]
    },
    {
      "cell_type": "code",
      "execution_count": null,
      "id": "d44c2516",
      "metadata": {
        "id": "d44c2516",
        "outputId": "f7116eff-e3c0-472e-9593-fdef5c7b595f"
      },
      "outputs": [
        {
          "name": "stdout",
          "output_type": "stream",
          "text": [
            "{'name': 'unknown', 'url': ''}                                                                     10\n",
            "{'name': 'Earth (Replacement Dimension)', 'url': 'https://rickandmortyapi.com/api/location/20'}     5\n",
            "{'name': 'Earth (C-137)', 'url': 'https://rickandmortyapi.com/api/location/1'}                      4\n",
            "{'name': 'Abadango', 'url': 'https://rickandmortyapi.com/api/location/2'}                           1\n",
            "Name: origin, dtype: int64\n"
          ]
        }
      ],
      "source": [
        "print(Rick_Morty['origin'].value_counts())\n",
        "#A list of their origins as used in the show."
      ]
    },
    {
      "cell_type": "code",
      "execution_count": null,
      "id": "e7fde412",
      "metadata": {
        "id": "e7fde412",
        "outputId": "d3222e7a-f045-4e4e-8ac2-d6c87c9a2394"
      },
      "outputs": [
        {
          "name": "stdout",
          "output_type": "stream",
          "text": [
            "{'name': 'Earth (Replacement Dimension)', 'url': 'https://rickandmortyapi.com/api/location/20'}    7\n",
            "{'name': 'Citadel of Ricks', 'url': 'https://rickandmortyapi.com/api/location/3'}                  6\n",
            "{'name': 'Anatomy Park', 'url': 'https://rickandmortyapi.com/api/location/5'}                      2\n",
            "{'name': 'Abadango', 'url': 'https://rickandmortyapi.com/api/location/2'}                          1\n",
            "{'name': 'Testicle Monster Dimension', 'url': 'https://rickandmortyapi.com/api/location/21'}       1\n",
            "{'name': 'Worldender's lair', 'url': 'https://rickandmortyapi.com/api/location/4'}                 1\n",
            "{'name': 'unknown', 'url': ''}                                                                     1\n",
            "{'name': 'Interdimensional Cable', 'url': 'https://rickandmortyapi.com/api/location/6'}            1\n",
            "Name: location, dtype: int64\n"
          ]
        }
      ],
      "source": [
        "print(Rick_Morty['location'].value_counts())\n",
        "#The locations as displayed in the show."
      ]
    },
    {
      "cell_type": "code",
      "execution_count": null,
      "id": "80d3dd22",
      "metadata": {
        "id": "80d3dd22",
        "outputId": "54145267-3056-4fdd-9021-f7ed7e2ce2cd"
      },
      "outputs": [
        {
          "name": "stdout",
          "output_type": "stream",
          "text": [
            "2017-11-04T18:48:46.250Z    1\n",
            "2017-11-04T18:50:21.651Z    1\n",
            "2017-11-04T22:28:13.756Z    1\n",
            "2017-11-04T22:25:29.008Z    1\n",
            "2017-11-04T22:21:24.481Z    1\n",
            "2017-11-04T21:12:45.235Z    1\n",
            "2017-11-04T20:56:13.215Z    1\n",
            "2017-11-04T20:51:31.373Z    1\n",
            "2017-11-04T20:33:30.779Z    1\n",
            "2017-11-04T20:32:33.144Z    1\n",
            "2017-11-04T20:20:20.965Z    1\n",
            "2017-11-04T20:19:09.017Z    1\n",
            "2017-11-04T20:06:54.976Z    1\n",
            "2017-11-04T20:03:34.737Z    1\n",
            "2017-11-04T19:59:20.523Z    1\n",
            "2017-11-04T19:50:28.250Z    1\n",
            "2017-11-04T19:26:56.301Z    1\n",
            "2017-11-04T19:22:43.665Z    1\n",
            "2017-11-04T19:09:56.428Z    1\n",
            "2017-11-04T22:34:53.659Z    1\n",
            "Name: created, dtype: int64\n"
          ]
        }
      ],
      "source": [
        "print(Rick_Morty['created'].value_counts())\n",
        "\n",
        "## The time and Date for the show episode productions."
      ]
    },
    {
      "cell_type": "code",
      "execution_count": null,
      "id": "7a07c248",
      "metadata": {
        "id": "7a07c248"
      },
      "outputs": [],
      "source": [
        "#Exploration and cleaning of the  \"created\" column which contians the timestand format data.\n",
        "\n",
        "#I coverted it to datetime for easy analysis.\n",
        "#checked out for it's descriptive statistics to futher gain insight"
      ]
    },
    {
      "cell_type": "code",
      "execution_count": null,
      "id": "6cb1ae96",
      "metadata": {
        "id": "6cb1ae96",
        "outputId": "edebc759-f4c5-43a3-a7a6-ddea0b7c7953"
      },
      "outputs": [
        {
          "name": "stdout",
          "output_type": "stream",
          "text": [
            "count                                   20\n",
            "unique                                  20\n",
            "top       2017-11-04 18:48:46.250000+00:00\n",
            "freq                                     1\n",
            "first     2017-11-04 18:48:46.250000+00:00\n",
            "last      2017-11-04 22:34:53.659000+00:00\n",
            "Name: created, dtype: object\n"
          ]
        },
        {
          "name": "stderr",
          "output_type": "stream",
          "text": [
            "C:\\Users\\USER\\AppData\\Local\\Temp\\ipykernel_12264\\102413315.py:2: FutureWarning: Treating datetime data as categorical rather than numeric in `.describe` is deprecated and will be removed in a future version of pandas. Specify `datetime_is_numeric=True` to silence this warning and adopt the future behavior now.\n",
            "  print(Rick_Morty['created'].describe())\n"
          ]
        }
      ],
      "source": [
        "Rick_Morty['created'] = pd.to_datetime(df['created'])\n",
        "print(Rick_Morty['created'].describe())"
      ]
    },
    {
      "cell_type": "code",
      "execution_count": null,
      "id": "98823a9b",
      "metadata": {
        "id": "98823a9b"
      },
      "outputs": [],
      "source": [
        "#Separting the Date data from time data\n",
        "\n",
        "Rick_Morty['created'] = pd.to_datetime(Rick_Morty['created'])\n",
        "\n",
        "# Separate date and time into new columns\n",
        "Rick_Morty['date_created'] = Rick_Morty['created'].dt.date  # Extracts only the date\n",
        "Rick_Morty['time_created'] = Rick_Morty['created'].dt.time  # Extracts only the time"
      ]
    },
    {
      "cell_type": "code",
      "execution_count": null,
      "id": "2d559b21",
      "metadata": {
        "scrolled": true,
        "id": "2d559b21",
        "outputId": "1ab0bf7d-a0a8-44dd-9ff9-f20d886473b8"
      },
      "outputs": [
        {
          "data": {
            "text/html": [
              "<div>\n",
              "<style scoped>\n",
              "    .dataframe tbody tr th:only-of-type {\n",
              "        vertical-align: middle;\n",
              "    }\n",
              "\n",
              "    .dataframe tbody tr th {\n",
              "        vertical-align: top;\n",
              "    }\n",
              "\n",
              "    .dataframe thead th {\n",
              "        text-align: right;\n",
              "    }\n",
              "</style>\n",
              "<table border=\"1\" class=\"dataframe\">\n",
              "  <thead>\n",
              "    <tr style=\"text-align: right;\">\n",
              "      <th></th>\n",
              "      <th>id</th>\n",
              "      <th>name</th>\n",
              "      <th>status</th>\n",
              "      <th>species</th>\n",
              "      <th>type</th>\n",
              "      <th>gender</th>\n",
              "      <th>origin</th>\n",
              "      <th>location</th>\n",
              "      <th>image</th>\n",
              "      <th>episode</th>\n",
              "      <th>url</th>\n",
              "      <th>created</th>\n",
              "      <th>date_created</th>\n",
              "      <th>time_created</th>\n",
              "    </tr>\n",
              "  </thead>\n",
              "  <tbody>\n",
              "    <tr>\n",
              "      <th>0</th>\n",
              "      <td>1</td>\n",
              "      <td>Rick Sanchez</td>\n",
              "      <td>Alive</td>\n",
              "      <td>Human</td>\n",
              "      <td></td>\n",
              "      <td>Male</td>\n",
              "      <td>{'name': 'Earth (C-137)', 'url': 'https://rick...</td>\n",
              "      <td>{'name': 'Citadel of Ricks', 'url': 'https://r...</td>\n",
              "      <td>https://rickandmortyapi.com/api/character/avat...</td>\n",
              "      <td>[https://rickandmortyapi.com/api/episode/1, ht...</td>\n",
              "      <td>https://rickandmortyapi.com/api/character/1</td>\n",
              "      <td>2017-11-04 18:48:46.250000+00:00</td>\n",
              "      <td>2017-11-04</td>\n",
              "      <td>18:48:46.250000</td>\n",
              "    </tr>\n",
              "    <tr>\n",
              "      <th>1</th>\n",
              "      <td>2</td>\n",
              "      <td>Morty Smith</td>\n",
              "      <td>Alive</td>\n",
              "      <td>Human</td>\n",
              "      <td></td>\n",
              "      <td>Male</td>\n",
              "      <td>{'name': 'unknown', 'url': ''}</td>\n",
              "      <td>{'name': 'Citadel of Ricks', 'url': 'https://r...</td>\n",
              "      <td>https://rickandmortyapi.com/api/character/avat...</td>\n",
              "      <td>[https://rickandmortyapi.com/api/episode/1, ht...</td>\n",
              "      <td>https://rickandmortyapi.com/api/character/2</td>\n",
              "      <td>2017-11-04 18:50:21.651000+00:00</td>\n",
              "      <td>2017-11-04</td>\n",
              "      <td>18:50:21.651000</td>\n",
              "    </tr>\n",
              "    <tr>\n",
              "      <th>2</th>\n",
              "      <td>3</td>\n",
              "      <td>Summer Smith</td>\n",
              "      <td>Alive</td>\n",
              "      <td>Human</td>\n",
              "      <td></td>\n",
              "      <td>Female</td>\n",
              "      <td>{'name': 'Earth (Replacement Dimension)', 'url...</td>\n",
              "      <td>{'name': 'Earth (Replacement Dimension)', 'url...</td>\n",
              "      <td>https://rickandmortyapi.com/api/character/avat...</td>\n",
              "      <td>[https://rickandmortyapi.com/api/episode/6, ht...</td>\n",
              "      <td>https://rickandmortyapi.com/api/character/3</td>\n",
              "      <td>2017-11-04 19:09:56.428000+00:00</td>\n",
              "      <td>2017-11-04</td>\n",
              "      <td>19:09:56.428000</td>\n",
              "    </tr>\n",
              "    <tr>\n",
              "      <th>3</th>\n",
              "      <td>4</td>\n",
              "      <td>Beth Smith</td>\n",
              "      <td>Alive</td>\n",
              "      <td>Human</td>\n",
              "      <td></td>\n",
              "      <td>Female</td>\n",
              "      <td>{'name': 'Earth (Replacement Dimension)', 'url...</td>\n",
              "      <td>{'name': 'Earth (Replacement Dimension)', 'url...</td>\n",
              "      <td>https://rickandmortyapi.com/api/character/avat...</td>\n",
              "      <td>[https://rickandmortyapi.com/api/episode/6, ht...</td>\n",
              "      <td>https://rickandmortyapi.com/api/character/4</td>\n",
              "      <td>2017-11-04 19:22:43.665000+00:00</td>\n",
              "      <td>2017-11-04</td>\n",
              "      <td>19:22:43.665000</td>\n",
              "    </tr>\n",
              "    <tr>\n",
              "      <th>4</th>\n",
              "      <td>5</td>\n",
              "      <td>Jerry Smith</td>\n",
              "      <td>Alive</td>\n",
              "      <td>Human</td>\n",
              "      <td></td>\n",
              "      <td>Male</td>\n",
              "      <td>{'name': 'Earth (Replacement Dimension)', 'url...</td>\n",
              "      <td>{'name': 'Earth (Replacement Dimension)', 'url...</td>\n",
              "      <td>https://rickandmortyapi.com/api/character/avat...</td>\n",
              "      <td>[https://rickandmortyapi.com/api/episode/6, ht...</td>\n",
              "      <td>https://rickandmortyapi.com/api/character/5</td>\n",
              "      <td>2017-11-04 19:26:56.301000+00:00</td>\n",
              "      <td>2017-11-04</td>\n",
              "      <td>19:26:56.301000</td>\n",
              "    </tr>\n",
              "  </tbody>\n",
              "</table>\n",
              "</div>"
            ],
            "text/plain": [
              "   id          name status species type  gender  \\\n",
              "0   1  Rick Sanchez  Alive   Human         Male   \n",
              "1   2   Morty Smith  Alive   Human         Male   \n",
              "2   3  Summer Smith  Alive   Human       Female   \n",
              "3   4    Beth Smith  Alive   Human       Female   \n",
              "4   5   Jerry Smith  Alive   Human         Male   \n",
              "\n",
              "                                              origin  \\\n",
              "0  {'name': 'Earth (C-137)', 'url': 'https://rick...   \n",
              "1                     {'name': 'unknown', 'url': ''}   \n",
              "2  {'name': 'Earth (Replacement Dimension)', 'url...   \n",
              "3  {'name': 'Earth (Replacement Dimension)', 'url...   \n",
              "4  {'name': 'Earth (Replacement Dimension)', 'url...   \n",
              "\n",
              "                                            location  \\\n",
              "0  {'name': 'Citadel of Ricks', 'url': 'https://r...   \n",
              "1  {'name': 'Citadel of Ricks', 'url': 'https://r...   \n",
              "2  {'name': 'Earth (Replacement Dimension)', 'url...   \n",
              "3  {'name': 'Earth (Replacement Dimension)', 'url...   \n",
              "4  {'name': 'Earth (Replacement Dimension)', 'url...   \n",
              "\n",
              "                                               image  \\\n",
              "0  https://rickandmortyapi.com/api/character/avat...   \n",
              "1  https://rickandmortyapi.com/api/character/avat...   \n",
              "2  https://rickandmortyapi.com/api/character/avat...   \n",
              "3  https://rickandmortyapi.com/api/character/avat...   \n",
              "4  https://rickandmortyapi.com/api/character/avat...   \n",
              "\n",
              "                                             episode  \\\n",
              "0  [https://rickandmortyapi.com/api/episode/1, ht...   \n",
              "1  [https://rickandmortyapi.com/api/episode/1, ht...   \n",
              "2  [https://rickandmortyapi.com/api/episode/6, ht...   \n",
              "3  [https://rickandmortyapi.com/api/episode/6, ht...   \n",
              "4  [https://rickandmortyapi.com/api/episode/6, ht...   \n",
              "\n",
              "                                           url  \\\n",
              "0  https://rickandmortyapi.com/api/character/1   \n",
              "1  https://rickandmortyapi.com/api/character/2   \n",
              "2  https://rickandmortyapi.com/api/character/3   \n",
              "3  https://rickandmortyapi.com/api/character/4   \n",
              "4  https://rickandmortyapi.com/api/character/5   \n",
              "\n",
              "                           created date_created     time_created  \n",
              "0 2017-11-04 18:48:46.250000+00:00   2017-11-04  18:48:46.250000  \n",
              "1 2017-11-04 18:50:21.651000+00:00   2017-11-04  18:50:21.651000  \n",
              "2 2017-11-04 19:09:56.428000+00:00   2017-11-04  19:09:56.428000  \n",
              "3 2017-11-04 19:22:43.665000+00:00   2017-11-04  19:22:43.665000  \n",
              "4 2017-11-04 19:26:56.301000+00:00   2017-11-04  19:26:56.301000  "
            ]
          },
          "execution_count": 50,
          "metadata": {},
          "output_type": "execute_result"
        }
      ],
      "source": [
        "Rick_Morty.head()  # Display the DataFrame to confirm the column changes\n"
      ]
    },
    {
      "cell_type": "code",
      "execution_count": null,
      "id": "124a4be0",
      "metadata": {
        "id": "124a4be0"
      },
      "outputs": [],
      "source": [
        "#Now the Rick and Morty show data has unique feature added like the \"Date created\" column which was extracted from the \"created\"\n",
        "#columns which contians the date o f production for the show episode,from the above it seems to be the same date for all.\n",
        "#Then the Time created\" columns contians at what time used the episodes were created."
      ]
    },
    {
      "cell_type": "code",
      "execution_count": null,
      "id": "3f02395b",
      "metadata": {
        "id": "3f02395b"
      },
      "outputs": [],
      "source": [
        "# Drop the original 'created' column because it;s informations are extracted and stored in other columns\n",
        "Rick_Morty.drop(columns=['created'], inplace=True)"
      ]
    },
    {
      "cell_type": "code",
      "execution_count": null,
      "id": "84616709",
      "metadata": {
        "id": "84616709",
        "outputId": "92cc879f-827a-4dac-d75d-58bbb9a9708f"
      },
      "outputs": [
        {
          "data": {
            "text/html": [
              "<div>\n",
              "<style scoped>\n",
              "    .dataframe tbody tr th:only-of-type {\n",
              "        vertical-align: middle;\n",
              "    }\n",
              "\n",
              "    .dataframe tbody tr th {\n",
              "        vertical-align: top;\n",
              "    }\n",
              "\n",
              "    .dataframe thead th {\n",
              "        text-align: right;\n",
              "    }\n",
              "</style>\n",
              "<table border=\"1\" class=\"dataframe\">\n",
              "  <thead>\n",
              "    <tr style=\"text-align: right;\">\n",
              "      <th></th>\n",
              "      <th>id</th>\n",
              "      <th>name</th>\n",
              "      <th>status</th>\n",
              "      <th>species</th>\n",
              "      <th>type</th>\n",
              "      <th>gender</th>\n",
              "      <th>origin</th>\n",
              "      <th>location</th>\n",
              "      <th>image</th>\n",
              "      <th>episode</th>\n",
              "      <th>url</th>\n",
              "      <th>date_created</th>\n",
              "      <th>time_created</th>\n",
              "    </tr>\n",
              "  </thead>\n",
              "  <tbody>\n",
              "    <tr>\n",
              "      <th>0</th>\n",
              "      <td>1</td>\n",
              "      <td>Rick Sanchez</td>\n",
              "      <td>Alive</td>\n",
              "      <td>Human</td>\n",
              "      <td></td>\n",
              "      <td>Male</td>\n",
              "      <td>{'name': 'Earth (C-137)', 'url': 'https://rick...</td>\n",
              "      <td>{'name': 'Citadel of Ricks', 'url': 'https://r...</td>\n",
              "      <td>https://rickandmortyapi.com/api/character/avat...</td>\n",
              "      <td>[https://rickandmortyapi.com/api/episode/1, ht...</td>\n",
              "      <td>https://rickandmortyapi.com/api/character/1</td>\n",
              "      <td>2017-11-04</td>\n",
              "      <td>18:48:46.250000</td>\n",
              "    </tr>\n",
              "    <tr>\n",
              "      <th>1</th>\n",
              "      <td>2</td>\n",
              "      <td>Morty Smith</td>\n",
              "      <td>Alive</td>\n",
              "      <td>Human</td>\n",
              "      <td></td>\n",
              "      <td>Male</td>\n",
              "      <td>{'name': 'unknown', 'url': ''}</td>\n",
              "      <td>{'name': 'Citadel of Ricks', 'url': 'https://r...</td>\n",
              "      <td>https://rickandmortyapi.com/api/character/avat...</td>\n",
              "      <td>[https://rickandmortyapi.com/api/episode/1, ht...</td>\n",
              "      <td>https://rickandmortyapi.com/api/character/2</td>\n",
              "      <td>2017-11-04</td>\n",
              "      <td>18:50:21.651000</td>\n",
              "    </tr>\n",
              "    <tr>\n",
              "      <th>2</th>\n",
              "      <td>3</td>\n",
              "      <td>Summer Smith</td>\n",
              "      <td>Alive</td>\n",
              "      <td>Human</td>\n",
              "      <td></td>\n",
              "      <td>Female</td>\n",
              "      <td>{'name': 'Earth (Replacement Dimension)', 'url...</td>\n",
              "      <td>{'name': 'Earth (Replacement Dimension)', 'url...</td>\n",
              "      <td>https://rickandmortyapi.com/api/character/avat...</td>\n",
              "      <td>[https://rickandmortyapi.com/api/episode/6, ht...</td>\n",
              "      <td>https://rickandmortyapi.com/api/character/3</td>\n",
              "      <td>2017-11-04</td>\n",
              "      <td>19:09:56.428000</td>\n",
              "    </tr>\n",
              "    <tr>\n",
              "      <th>3</th>\n",
              "      <td>4</td>\n",
              "      <td>Beth Smith</td>\n",
              "      <td>Alive</td>\n",
              "      <td>Human</td>\n",
              "      <td></td>\n",
              "      <td>Female</td>\n",
              "      <td>{'name': 'Earth (Replacement Dimension)', 'url...</td>\n",
              "      <td>{'name': 'Earth (Replacement Dimension)', 'url...</td>\n",
              "      <td>https://rickandmortyapi.com/api/character/avat...</td>\n",
              "      <td>[https://rickandmortyapi.com/api/episode/6, ht...</td>\n",
              "      <td>https://rickandmortyapi.com/api/character/4</td>\n",
              "      <td>2017-11-04</td>\n",
              "      <td>19:22:43.665000</td>\n",
              "    </tr>\n",
              "    <tr>\n",
              "      <th>4</th>\n",
              "      <td>5</td>\n",
              "      <td>Jerry Smith</td>\n",
              "      <td>Alive</td>\n",
              "      <td>Human</td>\n",
              "      <td></td>\n",
              "      <td>Male</td>\n",
              "      <td>{'name': 'Earth (Replacement Dimension)', 'url...</td>\n",
              "      <td>{'name': 'Earth (Replacement Dimension)', 'url...</td>\n",
              "      <td>https://rickandmortyapi.com/api/character/avat...</td>\n",
              "      <td>[https://rickandmortyapi.com/api/episode/6, ht...</td>\n",
              "      <td>https://rickandmortyapi.com/api/character/5</td>\n",
              "      <td>2017-11-04</td>\n",
              "      <td>19:26:56.301000</td>\n",
              "    </tr>\n",
              "  </tbody>\n",
              "</table>\n",
              "</div>"
            ],
            "text/plain": [
              "   id          name status species type  gender  \\\n",
              "0   1  Rick Sanchez  Alive   Human         Male   \n",
              "1   2   Morty Smith  Alive   Human         Male   \n",
              "2   3  Summer Smith  Alive   Human       Female   \n",
              "3   4    Beth Smith  Alive   Human       Female   \n",
              "4   5   Jerry Smith  Alive   Human         Male   \n",
              "\n",
              "                                              origin  \\\n",
              "0  {'name': 'Earth (C-137)', 'url': 'https://rick...   \n",
              "1                     {'name': 'unknown', 'url': ''}   \n",
              "2  {'name': 'Earth (Replacement Dimension)', 'url...   \n",
              "3  {'name': 'Earth (Replacement Dimension)', 'url...   \n",
              "4  {'name': 'Earth (Replacement Dimension)', 'url...   \n",
              "\n",
              "                                            location  \\\n",
              "0  {'name': 'Citadel of Ricks', 'url': 'https://r...   \n",
              "1  {'name': 'Citadel of Ricks', 'url': 'https://r...   \n",
              "2  {'name': 'Earth (Replacement Dimension)', 'url...   \n",
              "3  {'name': 'Earth (Replacement Dimension)', 'url...   \n",
              "4  {'name': 'Earth (Replacement Dimension)', 'url...   \n",
              "\n",
              "                                               image  \\\n",
              "0  https://rickandmortyapi.com/api/character/avat...   \n",
              "1  https://rickandmortyapi.com/api/character/avat...   \n",
              "2  https://rickandmortyapi.com/api/character/avat...   \n",
              "3  https://rickandmortyapi.com/api/character/avat...   \n",
              "4  https://rickandmortyapi.com/api/character/avat...   \n",
              "\n",
              "                                             episode  \\\n",
              "0  [https://rickandmortyapi.com/api/episode/1, ht...   \n",
              "1  [https://rickandmortyapi.com/api/episode/1, ht...   \n",
              "2  [https://rickandmortyapi.com/api/episode/6, ht...   \n",
              "3  [https://rickandmortyapi.com/api/episode/6, ht...   \n",
              "4  [https://rickandmortyapi.com/api/episode/6, ht...   \n",
              "\n",
              "                                           url date_created     time_created  \n",
              "0  https://rickandmortyapi.com/api/character/1   2017-11-04  18:48:46.250000  \n",
              "1  https://rickandmortyapi.com/api/character/2   2017-11-04  18:50:21.651000  \n",
              "2  https://rickandmortyapi.com/api/character/3   2017-11-04  19:09:56.428000  \n",
              "3  https://rickandmortyapi.com/api/character/4   2017-11-04  19:22:43.665000  \n",
              "4  https://rickandmortyapi.com/api/character/5   2017-11-04  19:26:56.301000  "
            ]
          },
          "execution_count": 53,
          "metadata": {},
          "output_type": "execute_result"
        }
      ],
      "source": [
        "Rick_Morty.head()#To check out the new dataframe..."
      ]
    },
    {
      "cell_type": "markdown",
      "source": [
        "##-----COMMENTS\n",
        "\n",
        "##After the careful above exploration of Rick and morty data;\n",
        "##I eplored the unique features to gain more insights and understanding into the data which would give room for more analysis\n",
        "##and feature engnerring if required.\n",
        "##I separated the date from the Time in the \"created\" column and dropped the column\n",
        "\n",
        "\n",
        "##-----------------------FINDINGS\n",
        "\n",
        "##No missing values were found,it is actually a clean data.\n",
        "##There were no outliers considering that only one feature is an intger and the rest  features are strings."
      ],
      "metadata": {
        "id": "Fs55CWTrzSaD"
      },
      "id": "Fs55CWTrzSaD"
    },
    {
      "cell_type": "markdown",
      "source": [
        "#FEATURE ENGNEERING\n",
        "##It was necessary to include some new features to futher draw more insight from the Rick and Morty show Data"
      ],
      "metadata": {
        "id": "LDegCvuLzfNH"
      },
      "id": "LDegCvuLzfNH"
    },
    {
      "cell_type": "code",
      "execution_count": null,
      "id": "b015ce01",
      "metadata": {
        "id": "b015ce01"
      },
      "outputs": [],
      "source": [
        "# So I am creating a feature called the \"screen_time_per_episode\"\n",
        "# The feature shows the average time it takes an episode to run!!!!!\n",
        "\n",
        "\n",
        "# Calculate the average screen time per episode for each character\n",
        "Rick_Morty['screen_time_per_episode'] = Rick_Morty['episode'].apply(lambda x: len(x) / len(df['episode']))"
      ]
    },
    {
      "cell_type": "code",
      "execution_count": null,
      "id": "61094d5a",
      "metadata": {
        "id": "61094d5a"
      },
      "outputs": [],
      "source": [
        "# I futher explored the know the top character with the highest average screen time\n",
        "\n",
        "# Guess who I found;Rick Sanchez,with 2.55 minutes follwed by Morty Smith with the same time and thirdly Summer Smith with\n",
        "#2.1 minutes."
      ]
    },
    {
      "cell_type": "code",
      "execution_count": null,
      "id": "7f1ee5dc",
      "metadata": {
        "id": "7f1ee5dc",
        "outputId": "2a10676b-a032-4fb8-a143-d9395f17054d"
      },
      "outputs": [
        {
          "name": "stdout",
          "output_type": "stream",
          "text": [
            "                name  screen_time_per_episode\n",
            "0       Rick Sanchez                     2.55\n",
            "1        Morty Smith                     2.55\n",
            "2       Summer Smith                     2.10\n",
            "3         Beth Smith                     2.10\n",
            "4        Jerry Smith                     1.95\n",
            "6   Abradolf Lincler                     0.10\n",
            "17     Antenna Morty                     0.10\n",
            "13       Alien Morty                     0.05\n",
            "18      Antenna Rick                     0.05\n",
            "16             Annie                     0.05\n"
          ]
        }
      ],
      "source": [
        "# Displaying top characters with the highest average screen time per episode\n",
        "top_characters = df.sort_values('screen_time_per_episode', ascending=False).head(10)\n",
        "print(top_characters[['name', 'screen_time_per_episode']])"
      ]
    },
    {
      "cell_type": "code",
      "execution_count": null,
      "id": "2463d4a3",
      "metadata": {
        "id": "2463d4a3"
      },
      "outputs": [],
      "source": [
        "# I created a feature that categories characters in the show based on thier species!!! for futher analysis."
      ]
    },
    {
      "cell_type": "code",
      "execution_count": null,
      "id": "276432ba",
      "metadata": {
        "id": "276432ba"
      },
      "outputs": [],
      "source": [
        "# Categorize characters based on species\n",
        "def categorize_species(species):\n",
        "    if species in ['Human', 'Alien']:\n",
        "        return 'Humanoid'\n",
        "    elif species in ['Mythological Creature', 'Animal']:\n",
        "        return 'Non-Humanoid'\n",
        "    else:\n",
        "        return 'Other'\n",
        "\n",
        "Rick_Morty['character_type'] = Rick_Morty['species'].apply(categorize_species)\n"
      ]
    },
    {
      "cell_type": "code",
      "execution_count": null,
      "id": "32c4adc4",
      "metadata": {
        "id": "32c4adc4"
      },
      "outputs": [],
      "source": [
        "# Another feature I added was the Particaption rate of each character,saved under the particaption rate column..."
      ]
    },
    {
      "cell_type": "code",
      "execution_count": null,
      "id": "600f0085",
      "metadata": {
        "id": "600f0085"
      },
      "outputs": [],
      "source": [
        "total_episodes = len(set(Rick_Morty['episode'].explode()))\n",
        "\n",
        "# Calculate participation rate per character\n",
        "Rick_Morty['participation_rate'] = Rick_Morty['episode'].apply(len) / total_episodes\n"
      ]
    },
    {
      "cell_type": "code",
      "execution_count": null,
      "id": "9693382e",
      "metadata": {
        "id": "9693382e",
        "outputId": "b1313edf-9637-4103-dc02-00382f47d213"
      },
      "outputs": [
        {
          "data": {
            "text/html": [
              "<div>\n",
              "<style scoped>\n",
              "    .dataframe tbody tr th:only-of-type {\n",
              "        vertical-align: middle;\n",
              "    }\n",
              "\n",
              "    .dataframe tbody tr th {\n",
              "        vertical-align: top;\n",
              "    }\n",
              "\n",
              "    .dataframe thead th {\n",
              "        text-align: right;\n",
              "    }\n",
              "</style>\n",
              "<table border=\"1\" class=\"dataframe\">\n",
              "  <thead>\n",
              "    <tr style=\"text-align: right;\">\n",
              "      <th></th>\n",
              "      <th>id</th>\n",
              "      <th>name</th>\n",
              "      <th>status</th>\n",
              "      <th>species</th>\n",
              "      <th>type</th>\n",
              "      <th>gender</th>\n",
              "      <th>origin</th>\n",
              "      <th>location</th>\n",
              "      <th>image</th>\n",
              "      <th>episode</th>\n",
              "      <th>url</th>\n",
              "      <th>date_created</th>\n",
              "      <th>time_created</th>\n",
              "      <th>screen_time_per_episode</th>\n",
              "      <th>character_type</th>\n",
              "      <th>participation_rate</th>\n",
              "    </tr>\n",
              "  </thead>\n",
              "  <tbody>\n",
              "    <tr>\n",
              "      <th>0</th>\n",
              "      <td>1</td>\n",
              "      <td>Rick Sanchez</td>\n",
              "      <td>Alive</td>\n",
              "      <td>Human</td>\n",
              "      <td></td>\n",
              "      <td>Male</td>\n",
              "      <td>{'name': 'Earth (C-137)', 'url': 'https://rick...</td>\n",
              "      <td>{'name': 'Citadel of Ricks', 'url': 'https://r...</td>\n",
              "      <td>https://rickandmortyapi.com/api/character/avat...</td>\n",
              "      <td>[https://rickandmortyapi.com/api/episode/1, ht...</td>\n",
              "      <td>https://rickandmortyapi.com/api/character/1</td>\n",
              "      <td>2017-11-04</td>\n",
              "      <td>18:48:46.250000</td>\n",
              "      <td>2.55</td>\n",
              "      <td>Humanoid</td>\n",
              "      <td>1.000000</td>\n",
              "    </tr>\n",
              "    <tr>\n",
              "      <th>1</th>\n",
              "      <td>2</td>\n",
              "      <td>Morty Smith</td>\n",
              "      <td>Alive</td>\n",
              "      <td>Human</td>\n",
              "      <td></td>\n",
              "      <td>Male</td>\n",
              "      <td>{'name': 'unknown', 'url': ''}</td>\n",
              "      <td>{'name': 'Citadel of Ricks', 'url': 'https://r...</td>\n",
              "      <td>https://rickandmortyapi.com/api/character/avat...</td>\n",
              "      <td>[https://rickandmortyapi.com/api/episode/1, ht...</td>\n",
              "      <td>https://rickandmortyapi.com/api/character/2</td>\n",
              "      <td>2017-11-04</td>\n",
              "      <td>18:50:21.651000</td>\n",
              "      <td>2.55</td>\n",
              "      <td>Humanoid</td>\n",
              "      <td>1.000000</td>\n",
              "    </tr>\n",
              "    <tr>\n",
              "      <th>2</th>\n",
              "      <td>3</td>\n",
              "      <td>Summer Smith</td>\n",
              "      <td>Alive</td>\n",
              "      <td>Human</td>\n",
              "      <td></td>\n",
              "      <td>Female</td>\n",
              "      <td>{'name': 'Earth (Replacement Dimension)', 'url...</td>\n",
              "      <td>{'name': 'Earth (Replacement Dimension)', 'url...</td>\n",
              "      <td>https://rickandmortyapi.com/api/character/avat...</td>\n",
              "      <td>[https://rickandmortyapi.com/api/episode/6, ht...</td>\n",
              "      <td>https://rickandmortyapi.com/api/character/3</td>\n",
              "      <td>2017-11-04</td>\n",
              "      <td>19:09:56.428000</td>\n",
              "      <td>2.10</td>\n",
              "      <td>Humanoid</td>\n",
              "      <td>0.823529</td>\n",
              "    </tr>\n",
              "    <tr>\n",
              "      <th>3</th>\n",
              "      <td>4</td>\n",
              "      <td>Beth Smith</td>\n",
              "      <td>Alive</td>\n",
              "      <td>Human</td>\n",
              "      <td></td>\n",
              "      <td>Female</td>\n",
              "      <td>{'name': 'Earth (Replacement Dimension)', 'url...</td>\n",
              "      <td>{'name': 'Earth (Replacement Dimension)', 'url...</td>\n",
              "      <td>https://rickandmortyapi.com/api/character/avat...</td>\n",
              "      <td>[https://rickandmortyapi.com/api/episode/6, ht...</td>\n",
              "      <td>https://rickandmortyapi.com/api/character/4</td>\n",
              "      <td>2017-11-04</td>\n",
              "      <td>19:22:43.665000</td>\n",
              "      <td>2.10</td>\n",
              "      <td>Humanoid</td>\n",
              "      <td>0.823529</td>\n",
              "    </tr>\n",
              "    <tr>\n",
              "      <th>4</th>\n",
              "      <td>5</td>\n",
              "      <td>Jerry Smith</td>\n",
              "      <td>Alive</td>\n",
              "      <td>Human</td>\n",
              "      <td></td>\n",
              "      <td>Male</td>\n",
              "      <td>{'name': 'Earth (Replacement Dimension)', 'url...</td>\n",
              "      <td>{'name': 'Earth (Replacement Dimension)', 'url...</td>\n",
              "      <td>https://rickandmortyapi.com/api/character/avat...</td>\n",
              "      <td>[https://rickandmortyapi.com/api/episode/6, ht...</td>\n",
              "      <td>https://rickandmortyapi.com/api/character/5</td>\n",
              "      <td>2017-11-04</td>\n",
              "      <td>19:26:56.301000</td>\n",
              "      <td>1.95</td>\n",
              "      <td>Humanoid</td>\n",
              "      <td>0.764706</td>\n",
              "    </tr>\n",
              "  </tbody>\n",
              "</table>\n",
              "</div>"
            ],
            "text/plain": [
              "   id          name status species type  gender  \\\n",
              "0   1  Rick Sanchez  Alive   Human         Male   \n",
              "1   2   Morty Smith  Alive   Human         Male   \n",
              "2   3  Summer Smith  Alive   Human       Female   \n",
              "3   4    Beth Smith  Alive   Human       Female   \n",
              "4   5   Jerry Smith  Alive   Human         Male   \n",
              "\n",
              "                                              origin  \\\n",
              "0  {'name': 'Earth (C-137)', 'url': 'https://rick...   \n",
              "1                     {'name': 'unknown', 'url': ''}   \n",
              "2  {'name': 'Earth (Replacement Dimension)', 'url...   \n",
              "3  {'name': 'Earth (Replacement Dimension)', 'url...   \n",
              "4  {'name': 'Earth (Replacement Dimension)', 'url...   \n",
              "\n",
              "                                            location  \\\n",
              "0  {'name': 'Citadel of Ricks', 'url': 'https://r...   \n",
              "1  {'name': 'Citadel of Ricks', 'url': 'https://r...   \n",
              "2  {'name': 'Earth (Replacement Dimension)', 'url...   \n",
              "3  {'name': 'Earth (Replacement Dimension)', 'url...   \n",
              "4  {'name': 'Earth (Replacement Dimension)', 'url...   \n",
              "\n",
              "                                               image  \\\n",
              "0  https://rickandmortyapi.com/api/character/avat...   \n",
              "1  https://rickandmortyapi.com/api/character/avat...   \n",
              "2  https://rickandmortyapi.com/api/character/avat...   \n",
              "3  https://rickandmortyapi.com/api/character/avat...   \n",
              "4  https://rickandmortyapi.com/api/character/avat...   \n",
              "\n",
              "                                             episode  \\\n",
              "0  [https://rickandmortyapi.com/api/episode/1, ht...   \n",
              "1  [https://rickandmortyapi.com/api/episode/1, ht...   \n",
              "2  [https://rickandmortyapi.com/api/episode/6, ht...   \n",
              "3  [https://rickandmortyapi.com/api/episode/6, ht...   \n",
              "4  [https://rickandmortyapi.com/api/episode/6, ht...   \n",
              "\n",
              "                                           url date_created     time_created  \\\n",
              "0  https://rickandmortyapi.com/api/character/1   2017-11-04  18:48:46.250000   \n",
              "1  https://rickandmortyapi.com/api/character/2   2017-11-04  18:50:21.651000   \n",
              "2  https://rickandmortyapi.com/api/character/3   2017-11-04  19:09:56.428000   \n",
              "3  https://rickandmortyapi.com/api/character/4   2017-11-04  19:22:43.665000   \n",
              "4  https://rickandmortyapi.com/api/character/5   2017-11-04  19:26:56.301000   \n",
              "\n",
              "   screen_time_per_episode character_type  participation_rate  \n",
              "0                     2.55       Humanoid            1.000000  \n",
              "1                     2.55       Humanoid            1.000000  \n",
              "2                     2.10       Humanoid            0.823529  \n",
              "3                     2.10       Humanoid            0.823529  \n",
              "4                     1.95       Humanoid            0.764706  "
            ]
          },
          "execution_count": 66,
          "metadata": {},
          "output_type": "execute_result"
        }
      ],
      "source": [
        "Rick_Morty.head()#To check if features reflected in our dataframe"
      ]
    },
    {
      "cell_type": "markdown",
      "source": [
        "#-------COMMENTS\n",
        "\n",
        "\n",
        "## I created a feature to Calculate the average screen time per episode for each character so as to gain insight on the longest.\n",
        "\n",
        "##screen time\n",
        "##I created a feature to Categorize characters based on species so as to show the categories of the species used in the show.\n",
        "\n",
        "##I Calculated a feature to check the  participation rate per character in the Rick and morty show."
      ],
      "metadata": {
        "id": "8pkmvw92zuUz"
      },
      "id": "8pkmvw92zuUz"
    },
    {
      "cell_type": "markdown",
      "source": [
        "## Data Visualizations to gain insights into the relationships between different.\n",
        "\n",
        "#### Features and the number of episodes a character appears in."
      ],
      "metadata": {
        "id": "wH_C1Pm_0Du6"
      },
      "id": "wH_C1Pm_0Du6"
    },
    {
      "cell_type": "code",
      "execution_count": null,
      "id": "77237b30",
      "metadata": {
        "id": "77237b30",
        "outputId": "b18542af-d585-414b-f4ce-d98726290efd"
      },
      "outputs": [
        {
          "data": {
            "image/png": "[encoded data removed]",
            "text/plain": [
              "<Figure size 640x480 with 1 Axes>"
            ]
          },
          "metadata": {},
          "output_type": "display_data"
        }
      ],
      "source": [
        "# Visualization Exploration 1 of  Episode distribution\n",
        "# A histogram to visualize the distribution of the number of episodes each character appears in.\n",
        "plt.hist(Rick_Morty['episode'].apply(len), bins=20)\n",
        "plt.xlabel('Number of Episodes')\n",
        "plt.ylabel('Frequency')\n",
        "plt.title('Distribution of Episodes Appearances')\n",
        "plt.show()\n",
        "\n",
        "#Findings----Lesser episodes had higher frequencies"
      ]
    },
    {
      "cell_type": "code",
      "execution_count": null,
      "id": "51e1e685",
      "metadata": {
        "id": "51e1e685",
        "outputId": "b8f15225-7ec3-4bd6-a902-dbdf6c41384e"
      },
      "outputs": [
        {
          "data": {
            "image/png": "[encoded data removed]",
            "text/plain": [
              "<Figure size 640x480 with 1 Axes>"
            ]
          },
          "metadata": {},
          "output_type": "display_data"
        }
      ],
      "source": [
        "#Finding relationship between character ID and Episode\n",
        "\n",
        "plt.scatter(Rick_Morty['id'], Rick_Morty['episode'].apply(len))\n",
        "plt.xlabel('Character ID')\n",
        "plt.ylabel('Number of Episodes')\n",
        "plt.title('Relationship between Character ID and Episode Appearances')\n",
        "plt.show()\n",
        "\n",
        "\n",
        "#Findings-----The Character ID with the highest episode are the ones that fall between the range of  2.5 - 5.0"
      ]
    },
    {
      "cell_type": "code",
      "execution_count": null,
      "id": "0563e918",
      "metadata": {
        "scrolled": true,
        "id": "0563e918",
        "outputId": "3c5e6491-3099-4202-fb2d-f2c002659d39"
      },
      "outputs": [
        {
          "data": {
            "image/png": "[encoded data removed]",
            "text/plain": [
              "<Figure size 800x600 with 1 Axes>"
            ]
          },
          "metadata": {},
          "output_type": "display_data"
        }
      ],
      "source": [
        "# Checking the relatiionship between Charcter species and Episode appearance\n",
        "plt.figure(figsize=(8, 6))\n",
        "sns.barplot(x='species', y=Rick_Morty['episode'].apply(len), data=Rick_Morty)\n",
        "plt.xticks(rotation=45)\n",
        "plt.xlabel('Species')\n",
        "plt.ylabel('Number of Episodes')\n",
        "plt.title('Character Species vs. Episode Appearances')\n",
        "plt.show()\n",
        "\n",
        "\n",
        "#Findings-----The human species appeared more in the episodes compared to others,followed by Alliens-----"
      ]
    },
    {
      "cell_type": "code",
      "execution_count": null,
      "id": "e8950d81",
      "metadata": {
        "id": "e8950d81",
        "outputId": "e5021864-2962-4ef5-dce6-2822ca90dc7e"
      },
      "outputs": [
        {
          "name": "stdout",
          "output_type": "stream",
          "text": [
            "<class 'pandas.core.frame.DataFrame'>\n",
            "RangeIndex: 20 entries, 0 to 19\n",
            "Data columns (total 16 columns):\n",
            " #   Column                   Non-Null Count  Dtype  \n",
            "---  ------                   --------------  -----  \n",
            " 0   id                       20 non-null     int64  \n",
            " 1   name                     20 non-null     object \n",
            " 2   status                   20 non-null     object \n",
            " 3   species                  20 non-null     object \n",
            " 4   type                     20 non-null     object \n",
            " 5   gender                   20 non-null     object \n",
            " 6   origin                   20 non-null     object \n",
            " 7   location                 20 non-null     object \n",
            " 8   image                    20 non-null     object \n",
            " 9   episode                  20 non-null     object \n",
            " 10  url                      20 non-null     object \n",
            " 11  date_created             20 non-null     object \n",
            " 12  time_created             20 non-null     object \n",
            " 13  screen_time_per_episode  20 non-null     float64\n",
            " 14  character_type           20 non-null     object \n",
            " 15  participation_rate       20 non-null     float64\n",
            "dtypes: float64(2), int64(1), object(13)\n",
            "memory usage: 2.6+ KB\n"
          ]
        }
      ],
      "source": [
        "df.info()"
      ]
    },
    {
      "cell_type": "code",
      "execution_count": null,
      "id": "008c8212",
      "metadata": {
        "id": "008c8212",
        "outputId": "e5626731-2a07-4417-c443-78cad853dbf1"
      },
      "outputs": [
        {
          "data": {
            "image/png": "[encoded data removed]",
            "text/plain": [
              "<Figure size 640x480 with 1 Axes>"
            ]
          },
          "metadata": {},
          "output_type": "display_data"
        }
      ],
      "source": [
        "#screen_time_per_episode against episode\n",
        "\n",
        "plt.scatter(df['screen_time_per_episode'], df['episode'].apply(len))\n",
        "plt.xlabel('screen_time_per_episode')\n",
        "plt.ylabel('Number of Episodes')\n",
        "plt.title('Relationship screen time per episode and number of episode')\n",
        "plt.show()\n",
        "\n",
        "#Findings----The highest time had the highest number of episode."
      ]
    },
    {
      "cell_type": "markdown",
      "source": [
        "#CORRELATION ANALYSIS\n",
        "\n",
        "\n",
        "## To find the features with the  highest correletions.\n",
        "\n",
        "## Findings----The screen_time_per_episode has the strongest correlation with their rate of participation."
      ],
      "metadata": {
        "id": "EUFPXG300Raf"
      },
      "id": "EUFPXG300Raf"
    },
    {
      "cell_type": "code",
      "execution_count": null,
      "id": "88cca72d",
      "metadata": {
        "id": "88cca72d",
        "outputId": "923717f9-d0c0-4b98-afe1-451b1a244fe3"
      },
      "outputs": [
        {
          "name": "stdout",
          "output_type": "stream",
          "text": [
            "                               id  screen_time_per_episode  participation_rate\n",
            "id                       1.000000                -0.759765           -0.759765\n",
            "screen_time_per_episode -0.759765                 1.000000            1.000000\n",
            "participation_rate      -0.759765                 1.000000            1.000000\n"
          ]
        }
      ],
      "source": [
        "correlation = Rick_Morty[['id', 'episode', 'screen_time_per_episode','participation_rate','time_created']].corr()\n",
        "print(correlation)"
      ]
    },
    {
      "cell_type": "markdown",
      "source": [
        "\n",
        "###############___DOCUMENTATION AND FINDINGS-----\n",
        "\n",
        "\n",
        "#-------------##Introduction\n",
        "###An analysis on data from the Rick and Morty API to determine how different features are related to the number\n",
        "###of episodes a character appears in.\n",
        "###The dataset cointians Id,name,status,species,type,gender,origin,location,image,episodes,url\n",
        "###and created(time the episodes were created)\n",
        "\n",
        "\n",
        "\n",
        "#--------------#Libraries Used\n",
        "###pandas: Data manipulation and analysis\n",
        "###numpy: Mathematical operations and array processing\n",
        "###seaborn: Statistical data visualization\n",
        "###datetime: Manipulation of dates and times\n",
        "###requests: Sending HTTP requests to the API\n",
        "###matplotlib.pyplot: Plotting graphs and visualizations\n",
        "    \n",
        "    \n",
        "    \n",
        "#---------------- #Data Inspection\n",
        "###Data Types: The dataset primarily consists of integers and objects (strings).\n",
        "###Missing Values: No missing data was found across the dataset.\n",
        "###Basic Statistics: Descriptive statistics were explored for the 'id' column.\n",
        "###Categorical Columns: You examined various categorical columns ('species', 'gender', 'type', 'status', 'name', 'origin', 'location', 'created').\n",
        "###Time Data: The 'created' column was converted to a datetime format for analysis.\n",
        "\n",
        "\n",
        "\n",
        "#-------------------#Feature Engineering.\n",
        "###'screen_time_per_episode': Calculated the average screen time per episode for characters.\n",
        "###'character_type': Categorized characters based on species.\n",
        "###'participation_rate': Calculated participation rate per character.\n",
        "\n",
        "\n",
        "#-------------Data Visualization(scatter plots,histogram and Barplots.)\n",
        "###Episode Distribution: Visualized the distribution of the number of episodes each character appears in using histograms and scatter plots.\n",
        "###Relationship Analysis:\n",
        "###Explored relationships between character ID, species, screen time per episode, and the number of episodes a character appears in.\n",
        "###Investigated correlations between 'screen_time_per_episode', 'participation_rate', and other variables.\n",
        "\n",
        "    \n",
        "#----------Key Findings\n",
        "###'screen_time_per_episode' has a strong correlation with the 'participation_rate'.\n",
        "###Human species appeared more frequently in episodes compared to others.\n",
        "###Characters like Rick Sanchez, Morty Smith, and Summer Smith had higher average screen times per episode.\n",
        "###The Character ID with the highest episode are the ones that falls between the range of  2.5 - 5.0\n",
        "###Lesser episodes had higher frequencies.\n",
        "###The highest screen  time had the highest number of episode.\n",
        "\n",
        "\n",
        "\n",
        "\n",
        "#-------------#Overall Actions\n",
        "###Data cleaning: Converted 'created' column to datetime and separated date/time into new columns.\n",
        "###Feature engineering: Created new features for deeper analysis.\n",
        "###Relationship analysis: Explored connections between different features and episode appearances.\n",
        "\n",
        "\n",
        "\n",
        "#-----------#Conclusion\n",
        "###The analysis covers for various aspects of the Rick and morty show dataset,\n",
        "###providing insights into character appearances, species distribution,\n",
        "###and correlations between different features with number of episodes.\n",
        "\n"
      ],
      "metadata": {
        "id": "_PbPR9--0iF1"
      },
      "id": "_PbPR9--0iF1"
    },
    {
      "cell_type": "code",
      "execution_count": null,
      "id": "ce090d7c",
      "metadata": {
        "id": "ce090d7c"
      },
      "outputs": [],
      "source": []
    },
    {
      "cell_type": "code",
      "execution_count": null,
      "id": "fe877885",
      "metadata": {
        "id": "fe877885"
      },
      "outputs": [],
      "source": []
    }
  ],
  "metadata": {
    "kernelspec": {
      "display_name": "Python 3 (ipykernel)",
      "language": "python",
      "name": "python3"
    },
    "language_info": {
      "codemirror_mode": {
        "name": "ipython",
        "version": 3
      },
      "file_extension": ".py",
      "mimetype": "text/x-python",
      "name": "python",
      "nbconvert_exporter": "python",
      "pygments_lexer": "ipython3",
      "version": "3.9.13"
    },
    "colab": {
      "provenance": [],
      "include_colab_link": true
    }
  },
  "nbformat": 4,
  "nbformat_minor": 5
}